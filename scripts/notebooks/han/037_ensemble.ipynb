{
 "cells": [
  {
   "cell_type": "code",
   "execution_count": 6,
   "id": "920fa705-6a6c-4849-8a89-82c04199af8e",
   "metadata": {},
   "outputs": [],
   "source": [
    "import numpy as np\n",
    "\n",
    "class Bins:\n",
    "\n",
    "    def __init__(self, start: float, count: int, step: float):\n",
    "\n",
    "        assert count > 0 and step > 0\n",
    "        \n",
    "        self.thresholds = np.arange(count).astype(float) * step + start\n",
    "            \n",
    "        self.start = start\n",
    "        self.count = count\n",
    "        self.step = step\n",
    "        self.end = self.thresholds[-1]\n",
    "\n",
    "    def convert(self, X: np.ndarray):\n",
    "        \"\"\"\n",
    "        Transform a continuous value X into an N-dimensional vector p based on given thresholds.\n",
    "        This function handles arrays X of any shape and a 1D array of thresholds.\n",
    "        \n",
    "        The transformation is as follows:\n",
    "        - If x < th0, then p[0] = 1.\n",
    "        - If x > th(N-1), then p[N-1] = 1.\n",
    "        - If th[i] < x < th[i+1], then p[i] = (th[i+1] - x) / s and p[i+1] = (x - th[i]) / s,\n",
    "          where s is the step size (assumed to be constant between thresholds).\n",
    "        \n",
    "        The function uses numpy operations to efficiently process the transformation\n",
    "        without explicit looping.\n",
    "    \n",
    "        Parameters:\n",
    "        - X : ndarray\n",
    "            An array of any shape containing the continuous values to be transformed.\n",
    "    \n",
    "        Returns:\n",
    "        - p_vectors : ndarray\n",
    "            An array of shape (..., N) where each \"row\" corresponds to the transformed\n",
    "            vector for each element in X. Each vector p has the property that sum(p) = 1.\n",
    "    \n",
    "        Note:\n",
    "        This function assumes that the thresholds are equally spaced.\n",
    "        \"\"\"\n",
    "\n",
    "        # Calculate normalized distances for each threshold\n",
    "        distances = (X[..., None] - self.thresholds) / self.step\n",
    "        \n",
    "        # Apply clipping to handle boundary conditions\n",
    "        distances_clipped = np.clip(distances, -1, 1)\n",
    "        \n",
    "        # Calculate p vectors\n",
    "        p_vectors = np.maximum(0, 1 - np.abs(distances_clipped))\n",
    "        \n",
    "        # Ensure sum(p) equals 1 (handling boundary conditions)\n",
    "        p_vectors /= p_vectors.sum(axis=-1, keepdims=True)\n",
    "\n",
    "        return p_vectors\n",
    "        \n",
    "    def revert(self, p_vectors: np.ndarray):\n",
    "    \n",
    "        \"\"\"\n",
    "        Revert the transformed p_vectors back to the original continuous values X.\n",
    "        This function assumes the input p_vectors are obtained from the previous transformation\n",
    "        and uses the provided thresholds to revert the transformation.\n",
    "    \n",
    "        Parameters:\n",
    "        - p_vectors : ndarray\n",
    "            An array of shape (..., N) containing transformed vectors, where each vector p\n",
    "            has the property that sum(p) = 1.\n",
    "    \n",
    "        Returns:\n",
    "        - X_reverted : ndarray\n",
    "            An array of the original continuous values from which the p_vectors were derived.\n",
    "            The shape of X_reverted is the same as the shape of p_vectors, except for the last dimension.\n",
    "    \n",
    "        Note:\n",
    "        This function assumes that the thresholds are equally spaced and that the p_vectors\n",
    "        are correctly formatted (sum to 1 for each vector).\n",
    "        \"\"\"\n",
    "    \n",
    "        # Calculate the weighted sum of the thresholds\n",
    "        X_reverted = np.sum(p_vectors * self.thresholds, axis=-1)\n",
    "    \n",
    "        return X_reverted"
   ]
  },
  {
   "cell_type": "code",
   "execution_count": 7,
   "id": "dc66f7e2-abcb-4c57-9273-594fa53bfd6c",
   "metadata": {},
   "outputs": [
    {
     "data": {
      "text/plain": [
       "array([0.4  , 0.467, 0.534, 0.601, 0.668, 0.735, 0.802, 0.869, 0.936,\n",
       "       1.003])"
      ]
     },
     "execution_count": 7,
     "metadata": {},
     "output_type": "execute_result"
    }
   ],
   "source": [
    "X = np.arange(10) * 0.067 + 0.4\n",
    "X"
   ]
  },
  {
   "cell_type": "code",
   "execution_count": 8,
   "id": "38d35827-1496-4630-b1f2-dd9f223bb8fa",
   "metadata": {},
   "outputs": [
    {
     "data": {
      "text/plain": [
       "array([0.5, 0.7, 0.9])"
      ]
     },
     "execution_count": 8,
     "metadata": {},
     "output_type": "execute_result"
    }
   ],
   "source": [
    "bins = Bins(start=0.5, count=3, step=0.2)\n",
    "bins.thresholds"
   ]
  },
  {
   "cell_type": "code",
   "execution_count": 9,
   "id": "330b62a9-a7d5-41ea-b6be-8336294ef7e8",
   "metadata": {},
   "outputs": [
    {
     "data": {
      "text/plain": [
       "array([[1.   , 0.   , 0.   ],\n",
       "       [1.   , 0.   , 0.   ],\n",
       "       [0.83 , 0.17 , 0.   ],\n",
       "       [0.495, 0.505, 0.   ],\n",
       "       [0.16 , 0.84 , 0.   ],\n",
       "       [0.   , 0.825, 0.175],\n",
       "       [0.   , 0.49 , 0.51 ],\n",
       "       [0.   , 0.155, 0.845],\n",
       "       [0.   , 0.   , 1.   ],\n",
       "       [0.   , 0.   , 1.   ]])"
      ]
     },
     "execution_count": 9,
     "metadata": {},
     "output_type": "execute_result"
    }
   ],
   "source": [
    "bins.convert(X)"
   ]
  },
  {
   "cell_type": "code",
   "execution_count": 10,
   "id": "a5feea62-f20f-413a-8e1b-abffae82cbe5",
   "metadata": {},
   "outputs": [
    {
     "data": {
      "text/plain": [
       "array([0.5  , 0.5  , 0.534, 0.601, 0.668, 0.735, 0.802, 0.869, 0.9  ,\n",
       "       0.9  ])"
      ]
     },
     "execution_count": 10,
     "metadata": {},
     "output_type": "execute_result"
    }
   ],
   "source": [
    "bins.revert(bins.convert(X))"
   ]
  },
  {
   "cell_type": "code",
   "execution_count": null,
   "id": "6c03077a-3812-416c-9b72-c7f1660cc8d0",
   "metadata": {},
   "outputs": [],
   "source": []
  }
 ],
 "metadata": {
  "kernelspec": {
   "display_name": "kk",
   "language": "python",
   "name": "kk"
  },
  "language_info": {
   "codemirror_mode": {
    "name": "ipython",
    "version": 3
   },
   "file_extension": ".py",
   "mimetype": "text/x-python",
   "name": "python",
   "nbconvert_exporter": "python",
   "pygments_lexer": "ipython3",
   "version": "3.10.13"
  }
 },
 "nbformat": 4,
 "nbformat_minor": 5
}
