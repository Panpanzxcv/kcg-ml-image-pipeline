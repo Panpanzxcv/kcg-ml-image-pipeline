{
 "cells": [
  {
   "cell_type": "code",
   "execution_count": 32,
   "id": "1175ff1c-d68b-443a-938b-0c89fbf4c67d",
   "metadata": {},
   "outputs": [],
   "source": [
    "ROOT = '../kcg-ml-image-pipeline/output/dataset/'\n",
    "\n",
    "# DATASET = 'environmental'\n",
    "# DATASET = 'character'\n",
    "# DATASET = 'mech'\n",
    "# DATASET = 'icons'\n",
    "DATASET = 'waifu'\n",
    "# DATASET = 'propaganda-poster'"
   ]
  },
  {
   "cell_type": "code",
   "execution_count": 33,
   "id": "1632b3ca-eb06-41e0-ab6e-73420429048d",
   "metadata": {},
   "outputs": [
    {
     "name": "stderr",
     "output_type": "stream",
     "text": [
      "usage: ipykernel_launcher.py [-h] [--DATASET DATASET]\n",
      "ipykernel_launcher.py: error: unrecognized arguments: -f /home/xhxie/.local/share/jupyter/runtime/kernel-67337fc4-20eb-4f5f-bb17-712f5e9f4726.json\n"
     ]
    }
   ],
   "source": [
    "import argparse\n",
    "\n",
    "parser = argparse.ArgumentParser()\n",
    "\n",
    "parser.add_argument(\"--DATASET\", default=DATASET, type=str, help=\"DATASET\")\n",
    "\n",
    "\n",
    "try:\n",
    "    args = parser.parse_args()\n",
    "    \n",
    "    DATASET = args.DATASET\n",
    "except:\n",
    "    pass"
   ]
  },
  {
   "cell_type": "code",
   "execution_count": 34,
   "id": "484c6fa5-fef0-4582-8ff2-8d47917f01e9",
   "metadata": {
    "tags": []
   },
   "outputs": [],
   "source": [
    "import os\n",
    "os.environ['CUDA_VISIBLE_DEVICES'] = '3'\n",
    "import sys\n",
    "import json\n",
    "import glob\n",
    "import torch\n",
    "\n",
    "from io import BytesIO\n",
    "\n",
    "import numpy as np\n",
    "import pandas as pd\n",
    "\n",
    "from PIL import Image\n",
    "from matplotlib import pyplot\n",
    "\n",
    "import msgpack\n",
    "\n",
    "from tqdm.auto import tqdm\n",
    "\n",
    "from sklearn.model_selection import train_test_split\n",
    "from sklearn.metrics.pairwise import cosine_similarity"
   ]
  },
  {
   "cell_type": "code",
   "execution_count": 35,
   "id": "73f1c8ea-90b6-4969-a065-29b5f1500ec6",
   "metadata": {
    "tags": []
   },
   "outputs": [],
   "source": [
    "DATA_PATH = f'data/{DATASET}/vae_latents.npz'\n",
    "\n",
    "WEIGHT_PATH = os.path.join('weight/060', DATASET, 'vae_latent.pt')"
   ]
  },
  {
   "cell_type": "markdown",
   "id": "fdc34cd1-3e8f-49aa-ab0b-48272dab7c63",
   "metadata": {},
   "source": [
    "# load emb"
   ]
  },
  {
   "cell_type": "code",
   "execution_count": 36,
   "id": "bf68f1ca-eaaa-4a7d-8614-127b2b2dd27d",
   "metadata": {},
   "outputs": [],
   "source": [
    "npz = np.load(DATA_PATH)\n",
    "\n",
    "file_paths = npz['file_names']\n",
    "sample_embeds = npz['latents']\n",
    "\n",
    "file_paths = [os.path.join(DATASET, os.path.splitext(i)[0]) for i in file_paths]\n",
    "\n",
    "file_paths = np.array(file_paths)\n",
    "path_to_index = {file_path: i for i, file_path in enumerate(file_paths)}"
   ]
  },
  {
   "cell_type": "markdown",
   "id": "b5773745-3567-46e1-8d04-83c58ce19971",
   "metadata": {},
   "source": [
    "# load rank data"
   ]
  },
  {
   "cell_type": "code",
   "execution_count": 37,
   "id": "6a0d23bb-b4ec-4968-876a-b9b953924604",
   "metadata": {
    "tags": []
   },
   "outputs": [
    {
     "data": {
      "application/vnd.jupyter.widget-view+json": {
       "model_id": "a1260465e38b464688a16e00eb19d945",
       "version_major": 2,
       "version_minor": 0
      },
      "text/plain": [
       "  0%|          | 0/6851 [00:00<?, ?it/s]"
      ]
     },
     "metadata": {},
     "output_type": "display_data"
    }
   ],
   "source": [
    "paths = sorted(glob.glob(os.path.join(ROOT, 'ranking', DATASET, '*.json')))\n",
    "\n",
    "rank_file_paths = list()\n",
    "rank_pairs = list()\n",
    "\n",
    "for path in tqdm(paths):\n",
    "    js = json.load(open(path))\n",
    "\n",
    "    if js['task'] != 'selection':\n",
    "        continue\n",
    "    \n",
    "    file_path_1 = os.path.splitext(js['image_1_metadata']['file_path'])[0].replace('datasets/', '')\n",
    "    file_path_2 = os.path.splitext(js['image_2_metadata']['file_path'])[0].replace('datasets/', '')\n",
    "    \n",
    "    if (file_path_1 not in path_to_index) or (file_path_2 not in path_to_index):\n",
    "        continue\n",
    "    rank_file_paths.append(path)\n",
    "    rank_pairs.append((file_path_1, file_path_2, js['selected_image_index']))"
   ]
  },
  {
   "cell_type": "markdown",
   "id": "aa64249b-1f2e-4b49-8276-b212a025865a",
   "metadata": {},
   "source": [
    "# build dataset"
   ]
  },
  {
   "cell_type": "code",
   "execution_count": 38,
   "id": "acacb29d-b8eb-48db-ae01-0293e4010e07",
   "metadata": {
    "tags": []
   },
   "outputs": [],
   "source": [
    "rank_pairs = pd.DataFrame(rank_pairs, columns=['image_1', 'image_2', 'selected_image_index'])"
   ]
  },
  {
   "cell_type": "code",
   "execution_count": 39,
   "id": "d01062ce-99c8-46be-b171-903e66a22b83",
   "metadata": {},
   "outputs": [],
   "source": [
    "ordered_pairs = [((image_1, image_2) if selected_image_index == 0 else (image_2, image_1)) for image_1, image_2, selected_image_index in rank_pairs.itertuples(index=False, name=None)]\n",
    "ordered_pairs = pd.DataFrame(ordered_pairs, columns=['image_1', 'image_2'])\n",
    "\n",
    "ordered_pairs['index_1'] = ordered_pairs['image_1'].apply(path_to_index.get)\n",
    "ordered_pairs['index_2'] = ordered_pairs['image_2'].apply(path_to_index.get)\n",
    "ordered_pairs['file_path'] = [i.replace(f'{ROOT}ranking/{DATASET}/', f'datasets/{DATASET}/data/ranking/aggregate/') for i in rank_file_paths]"
   ]
  },
  {
   "cell_type": "markdown",
   "id": "af4eb257-225c-4222-9070-21b5512d5cd5",
   "metadata": {
    "tags": []
   },
   "source": [
    "## build feature"
   ]
  },
  {
   "cell_type": "code",
   "execution_count": 40,
   "id": "b0bf066c-a6ea-4345-8b14-f828a34d83af",
   "metadata": {
    "tags": []
   },
   "outputs": [],
   "source": [
    "train_indices, val_indices = train_test_split(ordered_pairs.index, test_size=0.2, random_state=42)"
   ]
  },
  {
   "cell_type": "code",
   "execution_count": 41,
   "id": "0ecb39ea-fa3e-45b3-93ca-5f8c026b378b",
   "metadata": {},
   "outputs": [
    {
     "data": {
      "text/plain": [
       "((5480, 4, 64, 64, 2), (1370, 4, 64, 64, 2))"
      ]
     },
     "execution_count": 41,
     "metadata": {},
     "output_type": "execute_result"
    }
   ],
   "source": [
    "train_data = list()\n",
    "for index_1, index_2 in ordered_pairs.loc[train_indices, ['index_1', 'index_2']].itertuples(index=False, name=None):\n",
    "    train_data.append(np.stack([sample_embeds[index_1], sample_embeds[index_2]], axis=-1))\n",
    "train_data = np.stack(train_data, axis=0)\n",
    "\n",
    "val_data = list()\n",
    "for index_1, index_2 in ordered_pairs.loc[val_indices, ['index_1', 'index_2']].itertuples(index=False, name=None):\n",
    "    val_data.append(np.stack([sample_embeds[index_1], sample_embeds[index_2]], axis=-1))\n",
    "val_data = np.stack(val_data, axis=0)\n",
    "\n",
    "train_data.shape, val_data.shape"
   ]
  },
  {
   "cell_type": "code",
   "execution_count": 42,
   "id": "c64b9f52-3fde-4297-bc91-23e6f71b5165",
   "metadata": {
    "tags": []
   },
   "outputs": [],
   "source": [
    "train_dataset = torch.tensor(train_data)#.cuda().float()\n",
    "val_dataset = torch.tensor(val_data)#.cuda().float()"
   ]
  },
  {
   "cell_type": "markdown",
   "id": "134a81a3-7fea-45dd-b631-b613dfd24348",
   "metadata": {
    "tags": []
   },
   "source": [
    "# build model"
   ]
  },
  {
   "cell_type": "code",
   "execution_count": 43,
   "id": "e736cc1a-ab3a-4b97-986b-beb6a41fab29",
   "metadata": {
    "tags": []
   },
   "outputs": [],
   "source": [
    "model = torch.nn.Sequential(\n",
    "    torch.nn.Conv2d(4, 16, kernel_size=3, padding=0),\n",
    "    torch.nn.ReLU(),\n",
    "    torch.nn.AvgPool2d(kernel_size=2),\n",
    "    torch.nn.Conv2d(16, 32, kernel_size=3, padding=0),\n",
    "    torch.nn.ReLU(),\n",
    "    torch.nn.AvgPool2d(kernel_size=2),\n",
    "    torch.nn.Conv2d(32, 32, kernel_size=3, padding=0),\n",
    "    torch.nn.ReLU(),\n",
    "    torch.nn.AdaptiveAvgPool2d(output_size=1),\n",
    "    torch.nn.Conv2d(32, 32, kernel_size=1, padding=0),\n",
    "    torch.nn.ReLU(),\n",
    "    torch.nn.Conv2d(32, 1, kernel_size=1, padding=0),\n",
    ")\n",
    "model = model.cuda()"
   ]
  },
  {
   "cell_type": "markdown",
   "id": "0790b38f-8a6a-4606-9cc4-0ef9719920a5",
   "metadata": {},
   "source": [
    "# train model"
   ]
  },
  {
   "cell_type": "code",
   "execution_count": 44,
   "id": "f7155774-b0e0-41ed-b77f-4a03a31e28ee",
   "metadata": {
    "tags": []
   },
   "outputs": [],
   "source": [
    "LR = 1e-3\n",
    "BATCH_SIZE = 128\n",
    "\n",
    "optimizer = torch.optim.Adam(model.parameters(), lr=LR, weight_decay=1e-3)"
   ]
  },
  {
   "cell_type": "code",
   "execution_count": 45,
   "id": "ab553fe5-bcea-454d-a13e-87a7450b068c",
   "metadata": {},
   "outputs": [],
   "source": [
    "train_loader = torch.utils.data.DataLoader(train_dataset, batch_size=BATCH_SIZE, shuffle=True, pin_memory=True, drop_last=True)\n",
    "val_loader = torch.utils.data.DataLoader(val_dataset, batch_size=BATCH_SIZE, shuffle=True, pin_memory=True, drop_last=True)"
   ]
  },
  {
   "cell_type": "code",
   "execution_count": 46,
   "id": "88eb5042-176e-495a-8d30-c6b6779c791a",
   "metadata": {},
   "outputs": [],
   "source": [
    "label = torch.zeros((BATCH_SIZE,), device='cuda')"
   ]
  },
  {
   "cell_type": "code",
   "execution_count": 47,
   "id": "782ee7eb-8c01-48ba-b6c5-e3367299e3fd",
   "metadata": {
    "tags": []
   },
   "outputs": [
    {
     "data": {
      "application/vnd.jupyter.widget-view+json": {
       "model_id": "163fafc479c04cd9bcab5f6526668d3b",
       "version_major": 2,
       "version_minor": 0
      },
      "text/plain": [
       "  0%|          | 0/100 [00:00<?, ?it/s]"
      ]
     },
     "metadata": {},
     "output_type": "display_data"
    },
    {
     "name": "stdout",
     "output_type": "stream",
     "text": [
      "0.4054 0.8115 0.4074 0.8164\n",
      "0.3216 0.8593 0.3483 0.8406\n",
      "0.2974 0.8709 0.3303 0.8531\n",
      "0.2753 0.8809 0.3395 0.8430\n",
      "0.2645 0.8857 0.3238 0.8547\n",
      "0.2537 0.8907 0.3403 0.8578\n",
      "0.2396 0.8979 0.3144 0.8516\n",
      "0.2273 0.9043 0.3106 0.8578\n",
      "0.2149 0.9100 0.3232 0.8594\n",
      "0.2037 0.9157 0.3493 0.8578\n"
     ]
    }
   ],
   "source": [
    "bces, accs = list(), list()\n",
    "\n",
    "for epoch in tqdm(range(100)):\n",
    "    \n",
    "    model.train()\n",
    "    \n",
    "    for x in train_loader:\n",
    "    \n",
    "        optimizer.zero_grad()\n",
    "    \n",
    "        y0 = model(x[..., 0].float().cuda())[..., 0, 0]\n",
    "        y1 = model(x[..., 1].float().cuda())[..., 0, 0]\n",
    "    \n",
    "        y = torch.concat([y0, y1], dim=-1)\n",
    "    \n",
    "        # backward\n",
    "    \n",
    "        bce = torch.nn.functional.cross_entropy(y, label.long())\n",
    "    \n",
    "        acc = (y0 > y1).float().mean()\n",
    "    \n",
    "        loss = bce\n",
    "    \n",
    "        loss.backward()\n",
    "        optimizer.step()\n",
    "\n",
    "        bces.append(bce.detach().cpu().numpy())\n",
    "        accs.append(acc.detach().cpu().numpy())\n",
    "        \n",
    "    if (epoch + 1) % 10 == 0:\n",
    "        \n",
    "        model.eval()\n",
    "\n",
    "        val_bces, val_accs = list(), list()\n",
    "\n",
    "        with torch.no_grad():\n",
    "            \n",
    "            for x in val_loader:\n",
    "\n",
    "                y0 = model(x[..., 0].float().cuda())[..., 0, 0]\n",
    "                y1 = model(x[..., 1].float().cuda())[..., 0, 0]\n",
    "\n",
    "                y = torch.concat([y0, y1], dim=-1)\n",
    "    \n",
    "                label = torch.zeros((y.shape[0],), device='cuda').long()\n",
    "    \n",
    "                bce = torch.nn.functional.cross_entropy(y, label)\n",
    "    \n",
    "                acc = (y.argmax(dim=-1) == 0).float().mean()\n",
    "    \n",
    "                val_bces.append(bce.detach().cpu().numpy())\n",
    "                val_accs.append(acc.detach().cpu().numpy())\n",
    "\n",
    "        print(f'{np.mean(bces):.4f} {np.mean(accs):.4f} {np.mean(val_bces):.4f} {np.mean(val_accs):.4f}')\n",
    "    \n",
    "        bces, accs = list(), list()"
   ]
  },
  {
   "cell_type": "markdown",
   "id": "fbf1412e-5c2a-4f24-b392-bfeb5e44b728",
   "metadata": {},
   "source": [
    "## calculate score"
   ]
  },
  {
   "cell_type": "code",
   "execution_count": 48,
   "id": "5c9efd92-426f-453b-82e5-43523b389fc1",
   "metadata": {},
   "outputs": [],
   "source": [
    "score = list()\n",
    "with torch.no_grad():\n",
    "    with torch.cuda.amp.autocast(True):\n",
    "        for x in torch.utils.data.DataLoader(\n",
    "            torch.tensor(sample_embeds), batch_size=BATCH_SIZE, shuffle=False, pin_memory=True, drop_last=False\n",
    "        ):\n",
    "            pred = model(x.float().cuda())[:, 0, 0, 0]\n",
    "            score.append(pred.detach().cpu().numpy().astype('float32'))\n",
    "score = np.concatenate(score, axis=0)"
   ]
  },
  {
   "cell_type": "code",
   "execution_count": 49,
   "id": "806c31fa-ff7e-4901-b047-52906fa6d37d",
   "metadata": {
    "tags": []
   },
   "outputs": [],
   "source": [
    "score_mean, score_std = score.mean(axis=0), score.std(axis=0)\n",
    "sigma_score = (score - score_mean[None]) / score_std[None]"
   ]
  },
  {
   "cell_type": "code",
   "execution_count": 50,
   "id": "ff79d5d8-a3af-44be-bb0f-0b9477dbadb4",
   "metadata": {},
   "outputs": [],
   "source": [
    "ordered_pairs['sigma_score_1'] = sigma_score[ordered_pairs['index_1']]\n",
    "ordered_pairs['sigma_score_2'] = sigma_score[ordered_pairs['index_2']]"
   ]
  },
  {
   "cell_type": "code",
   "execution_count": 51,
   "id": "3248dbe7-9e7f-44be-8e67-652be8c90392",
   "metadata": {},
   "outputs": [
    {
     "name": "stderr",
     "output_type": "stream",
     "text": [
      "No artists with labels found to put in legend.  Note that artists whose label start with an underscore are ignored when legend() is called with no argument.\n"
     ]
    },
    {
     "data": {
      "text/plain": [
       "<matplotlib.legend.Legend at 0x7fecbddc0b80>"
      ]
     },
     "execution_count": 51,
     "metadata": {},
     "output_type": "execute_result"
    },
    {
     "data": {
      "image/png": "[encoded data removed]",
      "text/plain": [
       "<Figure size 1200x400 with 2 Axes>"
      ]
     },
     "metadata": {},
     "output_type": "display_data"
    }
   ],
   "source": [
    "pyplot.figure(figsize=(12, 4))\n",
    "\n",
    "pyplot.subplot(1, 2, 1)\n",
    "\n",
    "_ = pyplot.hist(score, bins=100, density=True)\n",
    "\n",
    "pyplot.subplot(1, 2, 2)\n",
    "\n",
    "_ = pyplot.hist(ordered_pairs['sigma_score_1'].values, bins=100, density=True, alpha=0.5, color='r')\n",
    "_ = pyplot.hist(ordered_pairs['sigma_score_2'].values, bins=100, density=True, alpha=0.5, color='b')\n",
    "pyplot.legend()"
   ]
  },
  {
   "cell_type": "markdown",
   "id": "5935c876-24ae-467f-8cb7-e482a0270357",
   "metadata": {},
   "source": [
    "# save model"
   ]
  },
  {
   "cell_type": "code",
   "execution_count": 52,
   "id": "67aa1c79-3dd6-4f2a-a5c6-e19084136f15",
   "metadata": {
    "tags": []
   },
   "outputs": [],
   "source": [
    "os.makedirs(os.path.split(WEIGHT_PATH)[0], exist_ok=True)\n",
    "torch.save(model.state_dict(), WEIGHT_PATH)\n",
    "np.savez(\n",
    "    WEIGHT_PATH.replace('.pt', '.npz'), \n",
    "    mean=score_mean,\n",
    "    std=score_std,\n",
    ")"
   ]
  },
  {
   "cell_type": "code",
   "execution_count": 22,
   "id": "b9bbb089-f021-48bf-8749-ec0ee30f9ea1",
   "metadata": {},
   "outputs": [
    {
     "ename": "RuntimeError",
     "evalue": "No active exception to reraise",
     "output_type": "error",
     "traceback": [
      "\u001b[0;31m---------------------------------------------------------------------------\u001b[0m",
      "\u001b[0;31mRuntimeError\u001b[0m                              Traceback (most recent call last)",
      "Cell \u001b[0;32mIn[22], line 1\u001b[0m\n\u001b[0;32m----> 1\u001b[0m \u001b[38;5;28;01mraise\u001b[39;00m\n",
      "\u001b[0;31mRuntimeError\u001b[0m: No active exception to reraise"
     ]
    }
   ],
   "source": [
    "raise"
   ]
  },
  {
   "cell_type": "markdown",
   "id": "559fdffe-0192-4900-8321-a110859b450d",
   "metadata": {},
   "source": [
    "# check"
   ]
  },
  {
   "cell_type": "code",
   "execution_count": 53,
   "id": "5da3b4df-0db1-4981-a117-57ef605f9cc4",
   "metadata": {},
   "outputs": [],
   "source": [
    "# MINIO_ADDRESS = \"123.176.98.90:9000\"\n",
    "MINIO_ADDRESS = \"192.168.3.5:9000\"\n",
    "access_key = \"GXvqLWtthELCaROPITOG\"\n",
    "secret_key = \"DmlKgey5u0DnMHP30Vg7rkLT0NNbNIGaM8IwPckD\"\n",
    "bucket_name = 'datasets'"
   ]
  },
  {
   "cell_type": "code",
   "execution_count": 54,
   "id": "fa44e0e5-4997-4f54-a799-fc13cc87ba65",
   "metadata": {},
   "outputs": [],
   "source": [
    "sys.path.append(os.path.abspath('../kcg-ml-image-pipeline/'))\n",
    "\n",
    "from utility.minio.cmd import connect_to_minio_client"
   ]
  },
  {
   "cell_type": "code",
   "execution_count": 55,
   "id": "2ecc8ebe-378c-4cfd-a9a8-cd2b9446346f",
   "metadata": {
    "tags": []
   },
   "outputs": [
    {
     "name": "stdout",
     "output_type": "stream",
     "text": [
      "Connecting to minio client...\n",
      "Successfully connected to minio client...\n"
     ]
    }
   ],
   "source": [
    "client = connect_to_minio_client(MINIO_ADDRESS, access_key, secret_key)"
   ]
  },
  {
   "cell_type": "code",
   "execution_count": 56,
   "id": "ba2bdcdd-bd0e-4ec6-8588-25ddc617a1cf",
   "metadata": {},
   "outputs": [],
   "source": [
    "def get_image_by_path(file_path):\n",
    "    \n",
    "    data = client.get_object(bucket_name=bucket_name, object_name=f'{file_path}.jpg')\n",
    "\n",
    "    return Image.open(BytesIO(data.data))\n",
    "\n",
    "def show_images(file_paths):\n",
    "\n",
    "    num_rows = max(1, int(np.floor(len(file_paths) ** 0.5)))\n",
    "    file_paths = file_paths[:num_rows * num_rows]\n",
    "\n",
    "    target_size = 1024 // num_rows\n",
    "\n",
    "    images = list()\n",
    "    for file_path in tqdm(file_paths, leave=False):\n",
    "        img = get_image_by_path(file_path)\n",
    "        images.append(np.array(img.resize((target_size, target_size))))\n",
    "\n",
    "    images = np.stack(images)\n",
    "    images = images.reshape(num_rows, num_rows, target_size, target_size, 3)\n",
    "    images = np.concatenate(np.concatenate(images, axis=-3), axis=-2)\n",
    "    return Image.fromarray(images)\n",
    "\n",
    "def show_pairs(file_paths_1, file_paths_2):\n",
    "\n",
    "    n = len(file_paths_1)\n",
    "\n",
    "    target_size = 1024 // n\n",
    "\n",
    "    images_1 = list()\n",
    "    for file_path in tqdm(file_paths_1, leave=False):\n",
    "        img = get_image_by_path(file_path)\n",
    "        images_1.append(np.array(img.resize((target_size, target_size))))\n",
    "\n",
    "    images_1 = np.stack(images_1)\n",
    "    images_1 = np.concatenate(images_1, axis=-2)\n",
    "\n",
    "    images_2 = list()\n",
    "    for file_path in tqdm(file_paths_2, leave=False):\n",
    "        img = get_image_by_path(file_path)\n",
    "        images_2.append(np.array(img.resize((target_size, target_size))))\n",
    "\n",
    "    images_2 = np.stack(images_2)\n",
    "    images_2 = np.concatenate(images_2, axis=-2)\n",
    "\n",
    "    images = np.concatenate([images_1, images_2], axis=-3)\n",
    "    \n",
    "    return Image.fromarray(images)"
   ]
  },
  {
   "cell_type": "markdown",
   "id": "9f1a56b8-646d-4311-b89d-c2036ecfda3b",
   "metadata": {},
   "source": [
    "## check pairs"
   ]
  },
  {
   "cell_type": "code",
   "execution_count": 57,
   "id": "706db31b-66fd-463f-aeab-53473093559f",
   "metadata": {},
   "outputs": [
    {
     "data": {
      "text/html": [
       "<div>\n",
       "<style scoped>\n",
       "    .dataframe tbody tr th:only-of-type {\n",
       "        vertical-align: middle;\n",
       "    }\n",
       "\n",
       "    .dataframe tbody tr th {\n",
       "        vertical-align: top;\n",
       "    }\n",
       "\n",
       "    .dataframe thead th {\n",
       "        text-align: right;\n",
       "    }\n",
       "</style>\n",
       "<table border=\"1\" class=\"dataframe\">\n",
       "  <thead>\n",
       "    <tr style=\"text-align: right;\">\n",
       "      <th></th>\n",
       "      <th>image_1</th>\n",
       "      <th>image_2</th>\n",
       "      <th>index_1</th>\n",
       "      <th>index_2</th>\n",
       "      <th>file_path</th>\n",
       "      <th>sigma_score_1</th>\n",
       "      <th>sigma_score_2</th>\n",
       "    </tr>\n",
       "  </thead>\n",
       "  <tbody>\n",
       "    <tr>\n",
       "      <th>216</th>\n",
       "      <td>waifu/0004/003848</td>\n",
       "      <td>waifu/0002/001550</td>\n",
       "      <td>2689</td>\n",
       "      <td>4655</td>\n",
       "      <td>datasets/waifu/data/ranking/aggregate/2023-10-...</td>\n",
       "      <td>-0.937832</td>\n",
       "      <td>1.108925</td>\n",
       "    </tr>\n",
       "    <tr>\n",
       "      <th>434</th>\n",
       "      <td>waifu/0004/003994</td>\n",
       "      <td>waifu/0004/003538</td>\n",
       "      <td>2667</td>\n",
       "      <td>2688</td>\n",
       "      <td>datasets/waifu/data/ranking/aggregate/2023-10-...</td>\n",
       "      <td>-0.296574</td>\n",
       "      <td>1.798497</td>\n",
       "    </tr>\n",
       "  </tbody>\n",
       "</table>\n",
       "</div>"
      ],
      "text/plain": [
       "               image_1            image_2  index_1  index_2  \\\n",
       "216  waifu/0004/003848  waifu/0002/001550     2689     4655   \n",
       "434  waifu/0004/003994  waifu/0004/003538     2667     2688   \n",
       "\n",
       "                                             file_path  sigma_score_1  \\\n",
       "216  datasets/waifu/data/ranking/aggregate/2023-10-...      -0.937832   \n",
       "434  datasets/waifu/data/ranking/aggregate/2023-10-...      -0.296574   \n",
       "\n",
       "     sigma_score_2  \n",
       "216       1.108925  \n",
       "434       1.798497  "
      ]
     },
     "execution_count": 57,
     "metadata": {},
     "output_type": "execute_result"
    }
   ],
   "source": [
    "selected = ordered_pairs.query('(sigma_score_1 - sigma_score_2 < -2) and sigma_score_2 > 1')\n",
    "selected.head()"
   ]
  },
  {
   "cell_type": "code",
   "execution_count": null,
   "id": "2edfa5f4-7730-4883-aa47-6a8266c990dd",
   "metadata": {},
   "outputs": [
    {
     "data": {
      "application/vnd.jupyter.widget-view+json": {
       "model_id": "e2dd4f7835f74d7fbdb4dd100742db60",
       "version_major": 2,
       "version_minor": 0
      },
      "text/plain": [
       "  0%|          | 0/2 [00:00<?, ?it/s]"
      ]
     },
     "metadata": {},
     "output_type": "display_data"
    }
   ],
   "source": [
    "show_pairs(selected['image_1'][:8], selected['image_2'][:8])"
   ]
  },
  {
   "cell_type": "markdown",
   "id": "852d0257-87ac-40e4-b246-b9eec420c79c",
   "metadata": {},
   "source": [
    "# check conflicts"
   ]
  },
  {
   "cell_type": "code",
   "execution_count": null,
   "id": "5be13a49-2a7b-4272-8fb7-e81f684d8c31",
   "metadata": {
    "tags": []
   },
   "outputs": [],
   "source": [
    "import networkx"
   ]
  },
  {
   "cell_type": "code",
   "execution_count": null,
   "id": "3ecdb763-ee57-4137-aad3-265d3af4744b",
   "metadata": {
    "tags": []
   },
   "outputs": [],
   "source": [
    "graph = networkx.DiGraph()"
   ]
  },
  {
   "cell_type": "code",
   "execution_count": null,
   "id": "9233d2e4-774c-4ebb-8eb0-f17733a9b1b4",
   "metadata": {
    "tags": []
   },
   "outputs": [],
   "source": [
    "# for img_1, img_2, sel_id in rank_pairs:\n",
    "for img_1, img_2, sel_id in rank_pairs.itertuples(index=False, name=None):\n",
    "    if sel_id == 0:\n",
    "        graph.add_edge(img_2, img_1)\n",
    "    else:\n",
    "        graph.add_edge(img_1, img_2)"
   ]
  },
  {
   "cell_type": "code",
   "execution_count": null,
   "id": "fff3d971-c385-4f26-b660-796dafa31fa9",
   "metadata": {
    "tags": []
   },
   "outputs": [],
   "source": [
    "len(graph.nodes), len(graph.edges)"
   ]
  },
  {
   "cell_type": "code",
   "execution_count": null,
   "id": "65815de0-5895-46b1-a45b-42468270df42",
   "metadata": {
    "tags": []
   },
   "outputs": [],
   "source": [
    "cycles = list(tqdm(networkx.simple_cycles(graph)))\n",
    "len(cycles)"
   ]
  },
  {
   "cell_type": "code",
   "execution_count": null,
   "id": "d5f22964-9918-40d0-8a6f-1666d2b281cf",
   "metadata": {
    "tags": []
   },
   "outputs": [],
   "source": [
    "subgraphs = list(networkx.weakly_connected_components(graph))\n",
    "len(subgraphs)"
   ]
  },
  {
   "cell_type": "markdown",
   "id": "31c2d688-1612-488e-a590-0db4ce7a9e92",
   "metadata": {},
   "source": [
    "# check transitive relationship"
   ]
  },
  {
   "cell_type": "code",
   "execution_count": null,
   "id": "f1f3cf9c-bbc6-491e-b4bc-75f0ef2c31ce",
   "metadata": {
    "tags": []
   },
   "outputs": [],
   "source": [
    "trans_pairs = list()\n",
    "\n",
    "for image_2, d in networkx.all_pairs_shortest_path_length(graph):\n",
    "    \n",
    "    for image_1, dist in d.items():\n",
    "        \n",
    "        if dist <= 1:\n",
    "            continue\n",
    "        \n",
    "        trans_pairs.append((image_1, image_2, dist))\n",
    "        \n",
    "trans_pairs = pd.DataFrame(trans_pairs, columns=['image_1', 'image_2', 'dist'])\n",
    "trans_pairs"
   ]
  },
  {
   "cell_type": "code",
   "execution_count": null,
   "id": "c9e34857-bd95-4012-8bf3-242d5b2debfd",
   "metadata": {},
   "outputs": [],
   "source": []
  }
 ],
 "metadata": {
  "kernelspec": {
   "display_name": "kk",
   "language": "python",
   "name": "kk"
  },
  "language_info": {
   "codemirror_mode": {
    "name": "ipython",
    "version": 3
   },
   "file_extension": ".py",
   "mimetype": "text/x-python",
   "name": "python",
   "nbconvert_exporter": "python",
   "pygments_lexer": "ipython3",
   "version": "3.10.13"
  }
 },
 "nbformat": 4,
 "nbformat_minor": 5
}
