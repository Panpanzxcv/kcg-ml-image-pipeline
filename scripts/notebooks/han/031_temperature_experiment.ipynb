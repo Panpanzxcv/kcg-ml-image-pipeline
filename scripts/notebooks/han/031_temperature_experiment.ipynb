{
 "cells": [
  {
   "cell_type": "code",
   "execution_count": 1,
   "id": "1e94d3ea-7b3a-407a-9fbc-065130f33d33",
   "metadata": {},
   "outputs": [],
   "source": [
    "import os\n",
    "\n",
    "import numpy as np\n",
    "import json\n",
    "\n",
    "import pandas as pd\n",
    "\n",
    "import torch\n",
    "\n",
    "from matplotlib import pyplot\n",
    "import seaborn as sns\n",
    "\n",
    "from tqdm.auto import tqdm"
   ]
  },
  {
   "cell_type": "code",
   "execution_count": 2,
   "id": "a4bb1d3f-bf52-4d8c-9de1-44c3c5d9da1f",
   "metadata": {},
   "outputs": [],
   "source": [
    "ROOT = './generated/temperature/'\n",
    "SPLIT_ID = 0\n",
    "\n",
    "# POS_WEIGHT_PATH = './generated/temperature/weight/2023-11-30-00-score-linear-embedding-positive.pth'\n",
    "# NEG_WEIGHT_PATH = './generated/temperature/weight/2023-11-30-00-score-linear-embedding-negative.pth'\n",
    "# TEXT_WEIGHT_PATH = './generated/temperature/weight/2023-11-30-00-score-linear-embedding.pth'\n",
    "# VISION_WEIGHT_PATH = './generated/temperature/weight/2023-11-30-00-score-linear-clip.pth'\n",
    "\n",
    "POS_WEIGHT_PATH = './weight/004/environmental/clip_positive.pt'\n",
    "NEG_WEIGHT_PATH = './weight/004/environmental/clip_negative.pt'\n",
    "TEXT_WEIGHT_PATH = './weight/004/environmental/clip_text.pt'\n",
    "VISION_WEIGHT_PATH = './weight/004/environmental/clip_vision.pt'\n",
    "\n",
    "BATCH_SIZE = 64\n",
    "\n",
    "EMB_DIMS = 768"
   ]
  },
  {
   "cell_type": "code",
   "execution_count": 3,
   "id": "016b43fd-ab6c-4b2f-bf94-e89dd426fc1d",
   "metadata": {
    "tags": []
   },
   "outputs": [],
   "source": [
    "from utils import get_score_from_embs"
   ]
  },
  {
   "cell_type": "markdown",
   "id": "2fcea1eb-4a83-4bb2-86dc-c72cc1192566",
   "metadata": {},
   "source": [
    "# load models"
   ]
  },
  {
   "cell_type": "code",
   "execution_count": 4,
   "id": "9421267a-448c-4bc8-8e2e-d962785b19fc",
   "metadata": {},
   "outputs": [
    {
     "data": {
      "text/plain": [
       "<All keys matched successfully>"
      ]
     },
     "execution_count": 4,
     "metadata": {},
     "output_type": "execute_result"
    }
   ],
   "source": [
    "js = json.load(open(POS_WEIGHT_PATH.replace('.pt', '_stats.json')))\n",
    "positive_mean, positive_std = js['mean'], js['std']\n",
    "positive_model = torch.nn.Linear(EMB_DIMS, 1, bias=True).cuda().eval()\n",
    "positive_model.load_state_dict(torch.load(POS_WEIGHT_PATH))\n",
    "\n",
    "js = json.load(open(NEG_WEIGHT_PATH.replace('.pt', '_stats.json')))\n",
    "negative_mean, negative_std = js['mean'], js['std']\n",
    "negative_model = torch.nn.Linear(EMB_DIMS, 1, bias=True).cuda().eval()\n",
    "negative_model.load_state_dict(torch.load(NEG_WEIGHT_PATH))\n",
    "\n",
    "js = json.load(open(TEXT_WEIGHT_PATH.replace('.pt', '_stats.json')))\n",
    "text_mean, text_std = js['mean'], js['std']\n",
    "text_model = torch.nn.Linear(EMB_DIMS * 2, 1, bias=True).cuda().eval()\n",
    "text_model.load_state_dict(torch.load(TEXT_WEIGHT_PATH))\n",
    "\n",
    "js = json.load(open(VISION_WEIGHT_PATH.replace('.pt', '_stats.json')))\n",
    "vision_mean, vision_std = js['mean'], js['std']\n",
    "vision_model = torch.nn.Linear(EMB_DIMS, 1, bias=True).cuda().eval()\n",
    "vision_model.load_state_dict(torch.load(VISION_WEIGHT_PATH))"
   ]
  },
  {
   "cell_type": "code",
   "execution_count": 5,
   "id": "4f63cb64-d0fc-4761-bea0-4b3b2bb7c18f",
   "metadata": {},
   "outputs": [],
   "source": [
    "# class ABRankingLinearModel(torch.nn.Module):\n",
    "#     def __init__(self, inputs_shape):\n",
    "#         super(ABRankingLinearModel, self).__init__()\n",
    "#         self.inputs_shape = inputs_shape\n",
    "#         self.linear = torch.nn.Linear(inputs_shape, 1)\n",
    "#     def forward(self, input):\n",
    "#         output = self.linear(input)\n",
    "#         return output\n",
    "\n",
    "# positive_model = ABRankingLinearModel(EMB_DIMS).cuda().eval()\n",
    "# state_dict = torch.load(POS_WEIGHT_PATH)\n",
    "# assert state_dict['pooling-strategy'] == 0\n",
    "# positive_model.load_state_dict(state_dict['model_dict'])\n",
    "# positive_mean, positive_std = state_dict['mean'], state_dict['standard-deviation']\n",
    "\n",
    "# negative_model = ABRankingLinearModel(EMB_DIMS).cuda().eval()\n",
    "# state_dict = torch.load(NEG_WEIGHT_PATH)\n",
    "# assert state_dict['pooling-strategy'] == 0\n",
    "# negative_model.load_state_dict(state_dict['model_dict'])\n",
    "# negative_mean, negative_std = state_dict['mean'], state_dict['standard-deviation']\n",
    "\n",
    "# text_model = ABRankingLinearModel(EMB_DIMS * 2).cuda().eval()\n",
    "# state_dict = torch.load(TEXT_WEIGHT_PATH)\n",
    "# assert state_dict['pooling-strategy'] == 0\n",
    "# text_model.load_state_dict(state_dict['model_dict'])\n",
    "# text_mean, text_std = state_dict['mean'], state_dict['standard-deviation']\n",
    "\n",
    "# vision_model = ABRankingLinearModel(EMB_DIMS).cuda().eval()\n",
    "# state_dict = torch.load(VISION_WEIGHT_PATH)\n",
    "# vision_model.load_state_dict(state_dict['model_dict'])\n",
    "# vision_mean, vision_std = state_dict['mean'], state_dict['standard-deviation']"
   ]
  },
  {
   "cell_type": "code",
   "execution_count": 6,
   "id": "4c4a2b3b-0a5b-4a0d-85b3-6a1fca8c276d",
   "metadata": {},
   "outputs": [],
   "source": [
    "def worker():\n",
    "\n",
    "    # load prompts\n",
    "    prompts = pd.read_csv(os.path.join(ROOT, 'prompt', f'2023-11-30-independent-approx-v1-0{SPLIT_ID}-environmental.csv'))\n",
    "\n",
    "    # load generated\n",
    "    \n",
    "    file_paths = list()\n",
    "    for file_path in os.listdir(os.path.join(ROOT, f'{SPLIT_ID}', 'image')):\n",
    "        if file_path.endswith('.jpg'):\n",
    "            file_paths.append(file_path)\n",
    "    file_names = np.array([os.path.splitext(i)[0] for i in file_paths])\n",
    "    name_to_index = {file_name: i for i, file_name in enumerate(file_names)}\n",
    "\n",
    "    positive_embs = list()\n",
    "    negative_embs = list()\n",
    "    image_embs = list()\n",
    "    positive_prompts = list()\n",
    "    negative_prompts = list()\n",
    "    \n",
    "    for file_name in tqdm(file_names, leave=False):\n",
    "        \n",
    "        embedding_path = os.path.join(ROOT, f'{SPLIT_ID}', 'embedding', f'{file_name}.npz')\n",
    "        \n",
    "        npz = np.load(embedding_path)\n",
    "        positive_embs.append(npz['positive_pooler_output'])\n",
    "        negative_embs.append(npz['negative_pooler_output'])\n",
    "        \n",
    "        clip_path = os.path.join(ROOT, f'{SPLIT_ID}', 'clip', f'{file_name}.npy')\n",
    "        \n",
    "        image_embs.append(np.load(clip_path))\n",
    "        \n",
    "        meta_path = os.path.join(ROOT, f'{SPLIT_ID}', 'meta', f'{file_name}.json')\n",
    "        \n",
    "        meta = json.load(open(meta_path))\n",
    "        \n",
    "        positive_prompts.append(meta['positive_prompt'])\n",
    "        negative_prompts.append(meta['negative_prompt'])\n",
    "        \n",
    "    positive_embs = np.concatenate(positive_embs, axis=0)\n",
    "    negative_embs = np.concatenate(negative_embs, axis=0)\n",
    "    image_embs = np.concatenate(image_embs, axis=0)\n",
    "    positive_prompts = np.array(positive_prompts)\n",
    "    negative_prompts = np.array(negative_prompts)\n",
    "\n",
    "    # calculate\n",
    "    \n",
    "    positive_scores = get_score_from_embs(positive_embs, positive_model, BATCH_SIZE)\n",
    "    negative_scores = get_score_from_embs(negative_embs, negative_model, BATCH_SIZE)\n",
    "    text_scores = get_score_from_embs(np.concatenate([positive_embs, negative_embs], axis=-1), text_model, BATCH_SIZE)\n",
    "    image_scores = get_score_from_embs(image_embs, vision_model, BATCH_SIZE)\n",
    "\n",
    "    positive_scores = (positive_scores - positive_mean) / positive_std\n",
    "    negative_scores = (negative_scores - negative_mean) / negative_std\n",
    "    text_scores = (text_scores - text_mean) / text_std\n",
    "    image_scores = (image_scores - vision_mean) / vision_std\n",
    "    \n",
    "    scores = pd.DataFrame(\n",
    "        zip(positive_prompts, negative_prompts, positive_scores, negative_scores, text_scores, image_scores, file_names), \n",
    "        columns=['positive_prompt', 'negative_prompt', 'positive_sigma_score', 'negative_sigma_score', 'embedding_sigma_score', 'clip_sigma_score', 'file_name']\n",
    "    )\n",
    "    merged = pd.merge(prompts, scores, on=['positive_prompt', 'negative_prompt'], how='inner')\n",
    "    \n",
    "    return merged"
   ]
  },
  {
   "cell_type": "code",
   "execution_count": 7,
   "id": "1621f5ec-cae2-439e-812e-7a87db1ee617",
   "metadata": {},
   "outputs": [
    {
     "data": {
      "application/vnd.jupyter.widget-view+json": {
       "model_id": "",
       "version_major": 2,
       "version_minor": 0
      },
      "text/plain": [
       "  0%|          | 0/1024 [00:00<?, ?it/s]"
      ]
     },
     "metadata": {},
     "output_type": "display_data"
    },
    {
     "data": {
      "application/vnd.jupyter.widget-view+json": {
       "model_id": "",
       "version_major": 2,
       "version_minor": 0
      },
      "text/plain": [
       "  0%|          | 0/16 [00:00<?, ?it/s]"
      ]
     },
     "metadata": {},
     "output_type": "display_data"
    },
    {
     "data": {
      "application/vnd.jupyter.widget-view+json": {
       "model_id": "",
       "version_major": 2,
       "version_minor": 0
      },
      "text/plain": [
       "  0%|          | 0/16 [00:00<?, ?it/s]"
      ]
     },
     "metadata": {},
     "output_type": "display_data"
    },
    {
     "data": {
      "application/vnd.jupyter.widget-view+json": {
       "model_id": "",
       "version_major": 2,
       "version_minor": 0
      },
      "text/plain": [
       "  0%|          | 0/16 [00:00<?, ?it/s]"
      ]
     },
     "metadata": {},
     "output_type": "display_data"
    },
    {
     "data": {
      "application/vnd.jupyter.widget-view+json": {
       "model_id": "",
       "version_major": 2,
       "version_minor": 0
      },
      "text/plain": [
       "  0%|          | 0/16 [00:00<?, ?it/s]"
      ]
     },
     "metadata": {},
     "output_type": "display_data"
    },
    {
     "data": {
      "application/vnd.jupyter.widget-view+json": {
       "model_id": "",
       "version_major": 2,
       "version_minor": 0
      },
      "text/plain": [
       "  0%|          | 0/1024 [00:00<?, ?it/s]"
      ]
     },
     "metadata": {},
     "output_type": "display_data"
    },
    {
     "data": {
      "application/vnd.jupyter.widget-view+json": {
       "model_id": "",
       "version_major": 2,
       "version_minor": 0
      },
      "text/plain": [
       "  0%|          | 0/16 [00:00<?, ?it/s]"
      ]
     },
     "metadata": {},
     "output_type": "display_data"
    },
    {
     "data": {
      "application/vnd.jupyter.widget-view+json": {
       "model_id": "",
       "version_major": 2,
       "version_minor": 0
      },
      "text/plain": [
       "  0%|          | 0/16 [00:00<?, ?it/s]"
      ]
     },
     "metadata": {},
     "output_type": "display_data"
    },
    {
     "data": {
      "application/vnd.jupyter.widget-view+json": {
       "model_id": "",
       "version_major": 2,
       "version_minor": 0
      },
      "text/plain": [
       "  0%|          | 0/16 [00:00<?, ?it/s]"
      ]
     },
     "metadata": {},
     "output_type": "display_data"
    },
    {
     "data": {
      "application/vnd.jupyter.widget-view+json": {
       "model_id": "",
       "version_major": 2,
       "version_minor": 0
      },
      "text/plain": [
       "  0%|          | 0/16 [00:00<?, ?it/s]"
      ]
     },
     "metadata": {},
     "output_type": "display_data"
    },
    {
     "data": {
      "application/vnd.jupyter.widget-view+json": {
       "model_id": "",
       "version_major": 2,
       "version_minor": 0
      },
      "text/plain": [
       "  0%|          | 0/1024 [00:00<?, ?it/s]"
      ]
     },
     "metadata": {},
     "output_type": "display_data"
    },
    {
     "data": {
      "application/vnd.jupyter.widget-view+json": {
       "model_id": "",
       "version_major": 2,
       "version_minor": 0
      },
      "text/plain": [
       "  0%|          | 0/16 [00:00<?, ?it/s]"
      ]
     },
     "metadata": {},
     "output_type": "display_data"
    },
    {
     "data": {
      "application/vnd.jupyter.widget-view+json": {
       "model_id": "",
       "version_major": 2,
       "version_minor": 0
      },
      "text/plain": [
       "  0%|          | 0/16 [00:00<?, ?it/s]"
      ]
     },
     "metadata": {},
     "output_type": "display_data"
    },
    {
     "data": {
      "application/vnd.jupyter.widget-view+json": {
       "model_id": "",
       "version_major": 2,
       "version_minor": 0
      },
      "text/plain": [
       "  0%|          | 0/16 [00:00<?, ?it/s]"
      ]
     },
     "metadata": {},
     "output_type": "display_data"
    },
    {
     "data": {
      "application/vnd.jupyter.widget-view+json": {
       "model_id": "",
       "version_major": 2,
       "version_minor": 0
      },
      "text/plain": [
       "  0%|          | 0/16 [00:00<?, ?it/s]"
      ]
     },
     "metadata": {},
     "output_type": "display_data"
    },
    {
     "data": {
      "application/vnd.jupyter.widget-view+json": {
       "model_id": "",
       "version_major": 2,
       "version_minor": 0
      },
      "text/plain": [
       "  0%|          | 0/1024 [00:00<?, ?it/s]"
      ]
     },
     "metadata": {},
     "output_type": "display_data"
    },
    {
     "data": {
      "application/vnd.jupyter.widget-view+json": {
       "model_id": "",
       "version_major": 2,
       "version_minor": 0
      },
      "text/plain": [
       "  0%|          | 0/16 [00:00<?, ?it/s]"
      ]
     },
     "metadata": {},
     "output_type": "display_data"
    },
    {
     "data": {
      "application/vnd.jupyter.widget-view+json": {
       "model_id": "",
       "version_major": 2,
       "version_minor": 0
      },
      "text/plain": [
       "  0%|          | 0/16 [00:00<?, ?it/s]"
      ]
     },
     "metadata": {},
     "output_type": "display_data"
    },
    {
     "data": {
      "application/vnd.jupyter.widget-view+json": {
       "model_id": "",
       "version_major": 2,
       "version_minor": 0
      },
      "text/plain": [
       "  0%|          | 0/16 [00:00<?, ?it/s]"
      ]
     },
     "metadata": {},
     "output_type": "display_data"
    },
    {
     "data": {
      "application/vnd.jupyter.widget-view+json": {
       "model_id": "",
       "version_major": 2,
       "version_minor": 0
      },
      "text/plain": [
       "  0%|          | 0/16 [00:00<?, ?it/s]"
      ]
     },
     "metadata": {},
     "output_type": "display_data"
    },
    {
     "data": {
      "application/vnd.jupyter.widget-view+json": {
       "model_id": "",
       "version_major": 2,
       "version_minor": 0
      },
      "text/plain": [
       "  0%|          | 0/1024 [00:00<?, ?it/s]"
      ]
     },
     "metadata": {},
     "output_type": "display_data"
    },
    {
     "data": {
      "application/vnd.jupyter.widget-view+json": {
       "model_id": "",
       "version_major": 2,
       "version_minor": 0
      },
      "text/plain": [
       "  0%|          | 0/16 [00:00<?, ?it/s]"
      ]
     },
     "metadata": {},
     "output_type": "display_data"
    },
    {
     "data": {
      "application/vnd.jupyter.widget-view+json": {
       "model_id": "",
       "version_major": 2,
       "version_minor": 0
      },
      "text/plain": [
       "  0%|          | 0/16 [00:00<?, ?it/s]"
      ]
     },
     "metadata": {},
     "output_type": "display_data"
    },
    {
     "data": {
      "application/vnd.jupyter.widget-view+json": {
       "model_id": "",
       "version_major": 2,
       "version_minor": 0
      },
      "text/plain": [
       "  0%|          | 0/16 [00:00<?, ?it/s]"
      ]
     },
     "metadata": {},
     "output_type": "display_data"
    },
    {
     "data": {
      "application/vnd.jupyter.widget-view+json": {
       "model_id": "",
       "version_major": 2,
       "version_minor": 0
      },
      "text/plain": [
       "  0%|          | 0/16 [00:00<?, ?it/s]"
      ]
     },
     "metadata": {},
     "output_type": "display_data"
    },
    {
     "data": {
      "application/vnd.jupyter.widget-view+json": {
       "model_id": "",
       "version_major": 2,
       "version_minor": 0
      },
      "text/plain": [
       "  0%|          | 0/1024 [00:00<?, ?it/s]"
      ]
     },
     "metadata": {},
     "output_type": "display_data"
    },
    {
     "data": {
      "application/vnd.jupyter.widget-view+json": {
       "model_id": "",
       "version_major": 2,
       "version_minor": 0
      },
      "text/plain": [
       "  0%|          | 0/16 [00:00<?, ?it/s]"
      ]
     },
     "metadata": {},
     "output_type": "display_data"
    },
    {
     "data": {
      "application/vnd.jupyter.widget-view+json": {
       "model_id": "",
       "version_major": 2,
       "version_minor": 0
      },
      "text/plain": [
       "  0%|          | 0/16 [00:00<?, ?it/s]"
      ]
     },
     "metadata": {},
     "output_type": "display_data"
    },
    {
     "data": {
      "application/vnd.jupyter.widget-view+json": {
       "model_id": "",
       "version_major": 2,
       "version_minor": 0
      },
      "text/plain": [
       "  0%|          | 0/16 [00:00<?, ?it/s]"
      ]
     },
     "metadata": {},
     "output_type": "display_data"
    },
    {
     "data": {
      "application/vnd.jupyter.widget-view+json": {
       "model_id": "",
       "version_major": 2,
       "version_minor": 0
      },
      "text/plain": [
       "  0%|          | 0/16 [00:00<?, ?it/s]"
      ]
     },
     "metadata": {},
     "output_type": "display_data"
    },
    {
     "data": {
      "application/vnd.jupyter.widget-view+json": {
       "model_id": "",
       "version_major": 2,
       "version_minor": 0
      },
      "text/plain": [
       "  0%|          | 0/1024 [00:00<?, ?it/s]"
      ]
     },
     "metadata": {},
     "output_type": "display_data"
    },
    {
     "data": {
      "application/vnd.jupyter.widget-view+json": {
       "model_id": "",
       "version_major": 2,
       "version_minor": 0
      },
      "text/plain": [
       "  0%|          | 0/16 [00:00<?, ?it/s]"
      ]
     },
     "metadata": {},
     "output_type": "display_data"
    },
    {
     "data": {
      "application/vnd.jupyter.widget-view+json": {
       "model_id": "",
       "version_major": 2,
       "version_minor": 0
      },
      "text/plain": [
       "  0%|          | 0/16 [00:00<?, ?it/s]"
      ]
     },
     "metadata": {},
     "output_type": "display_data"
    },
    {
     "data": {
      "application/vnd.jupyter.widget-view+json": {
       "model_id": "",
       "version_major": 2,
       "version_minor": 0
      },
      "text/plain": [
       "  0%|          | 0/16 [00:00<?, ?it/s]"
      ]
     },
     "metadata": {},
     "output_type": "display_data"
    },
    {
     "data": {
      "application/vnd.jupyter.widget-view+json": {
       "model_id": "",
       "version_major": 2,
       "version_minor": 0
      },
      "text/plain": [
       "  0%|          | 0/16 [00:00<?, ?it/s]"
      ]
     },
     "metadata": {},
     "output_type": "display_data"
    },
    {
     "data": {
      "application/vnd.jupyter.widget-view+json": {
       "model_id": "",
       "version_major": 2,
       "version_minor": 0
      },
      "text/plain": [
       "  0%|          | 0/1024 [00:00<?, ?it/s]"
      ]
     },
     "metadata": {},
     "output_type": "display_data"
    },
    {
     "data": {
      "application/vnd.jupyter.widget-view+json": {
       "model_id": "",
       "version_major": 2,
       "version_minor": 0
      },
      "text/plain": [
       "  0%|          | 0/16 [00:00<?, ?it/s]"
      ]
     },
     "metadata": {},
     "output_type": "display_data"
    },
    {
     "data": {
      "application/vnd.jupyter.widget-view+json": {
       "model_id": "",
       "version_major": 2,
       "version_minor": 0
      },
      "text/plain": [
       "  0%|          | 0/16 [00:00<?, ?it/s]"
      ]
     },
     "metadata": {},
     "output_type": "display_data"
    },
    {
     "data": {
      "application/vnd.jupyter.widget-view+json": {
       "model_id": "",
       "version_major": 2,
       "version_minor": 0
      },
      "text/plain": [
       "  0%|          | 0/16 [00:00<?, ?it/s]"
      ]
     },
     "metadata": {},
     "output_type": "display_data"
    },
    {
     "data": {
      "application/vnd.jupyter.widget-view+json": {
       "model_id": "",
       "version_major": 2,
       "version_minor": 0
      },
      "text/plain": [
       "  0%|          | 0/16 [00:00<?, ?it/s]"
      ]
     },
     "metadata": {},
     "output_type": "display_data"
    }
   ],
   "source": [
    "results = list()\n",
    "for SPLIT_ID in range(8):\n",
    "    results.append(worker())\n",
    "results = pd.concat(results, ignore_index=True)"
   ]
  },
  {
   "cell_type": "code",
   "execution_count": 11,
   "id": "abd3817b-be19-429d-b186-12fc4781482e",
   "metadata": {},
   "outputs": [],
   "source": [
    "feature_name = 'clip_sigma_score'"
   ]
  },
  {
   "cell_type": "code",
   "execution_count": 12,
   "id": "d8f32e92-e8d6-41bb-b1ce-59f915efe66a",
   "metadata": {},
   "outputs": [
    {
     "data": {
      "text/plain": [
       "<seaborn.axisgrid.FacetGrid at 0x7f5a3420a470>"
      ]
     },
     "execution_count": 12,
     "metadata": {},
     "output_type": "execute_result"
    },
    {
     "data": {
      "image/png": "[encoded data removed]",
      "text/plain": [
       "<Figure size 500x400 with 8 Axes>"
      ]
     },
     "metadata": {},
     "output_type": "display_data"
    }
   ],
   "source": [
    "# Initialize the FacetGrid object\n",
    "pal = sns.cubehelix_palette(8, rot=-.25, light=.0)\n",
    "# pal = sns.cubehelix_palette(8, rot=-.25, light=.7)\n",
    "g = sns.FacetGrid(\n",
    "    results, \n",
    "    row=\"boltzman temperature\", \n",
    "    hue=\"boltzman temperature\", \n",
    "    aspect=10, \n",
    "    height=.5, \n",
    "    palette=pal\n",
    ")\n",
    "\n",
    "# Draw the densities in a few steps\n",
    "g.map(sns.kdeplot, feature_name,\n",
    "      bw_adjust=.5, clip_on=False,\n",
    "      fill=True, alpha=1, linewidth=1.5)\n",
    "g.map(sns.kdeplot, feature_name, clip_on=False, color=\"w\", lw=2, bw_adjust=.5)\n",
    "\n",
    "# passing color=None to refline() uses the hue mapping\n",
    "g.refline(y=0, linewidth=2, linestyle=\"-\", color=None, clip_on=False)\n",
    "\n",
    "\n",
    "# Define and use a simple function to label the plot in axes coordinates\n",
    "def label(x, color, label):\n",
    "    ax = pyplot.gca()\n",
    "    ax.text(0, .5, label, fontweight=\"bold\", color=color,\n",
    "            ha=\"left\", va=\"center\", transform=ax.transAxes)\n",
    "\n",
    "g.map(label, feature_name)\n",
    "\n",
    "# Set the subplots to overlap\n",
    "g.figure.subplots_adjust(hspace=-.25)\n",
    "\n",
    "# Remove axes details that don't play well with overlap\n",
    "g.set_titles(\"\")\n",
    "g.set(yticks=[], ylabel=\"\")\n",
    "g.despine(bottom=True, left=True)"
   ]
  },
  {
   "cell_type": "code",
   "execution_count": 13,
   "id": "86970704-f809-4654-8755-4ccc344787a8",
   "metadata": {},
   "outputs": [
    {
     "data": {
      "text/html": [
       "<div>\n",
       "<style scoped>\n",
       "    .dataframe tbody tr th:only-of-type {\n",
       "        vertical-align: middle;\n",
       "    }\n",
       "\n",
       "    .dataframe tbody tr th {\n",
       "        vertical-align: top;\n",
       "    }\n",
       "\n",
       "    .dataframe thead th {\n",
       "        text-align: right;\n",
       "    }\n",
       "</style>\n",
       "<table border=\"1\" class=\"dataframe\">\n",
       "  <thead>\n",
       "    <tr style=\"text-align: right;\">\n",
       "      <th></th>\n",
       "      <th>clip_sigma_score-mean</th>\n",
       "      <th>clip_sigma_score-var</th>\n",
       "    </tr>\n",
       "    <tr>\n",
       "      <th>boltzman temperature</th>\n",
       "      <th></th>\n",
       "      <th></th>\n",
       "    </tr>\n",
       "  </thead>\n",
       "  <tbody>\n",
       "    <tr>\n",
       "      <th>0.125</th>\n",
       "      <td>-1.211345</td>\n",
       "      <td>0.516656</td>\n",
       "    </tr>\n",
       "    <tr>\n",
       "      <th>0.250</th>\n",
       "      <td>-1.205944</td>\n",
       "      <td>0.530257</td>\n",
       "    </tr>\n",
       "    <tr>\n",
       "      <th>0.500</th>\n",
       "      <td>-1.215164</td>\n",
       "      <td>0.512449</td>\n",
       "    </tr>\n",
       "    <tr>\n",
       "      <th>1.000</th>\n",
       "      <td>-1.292052</td>\n",
       "      <td>0.565983</td>\n",
       "    </tr>\n",
       "    <tr>\n",
       "      <th>2.000</th>\n",
       "      <td>-1.202027</td>\n",
       "      <td>0.508686</td>\n",
       "    </tr>\n",
       "    <tr>\n",
       "      <th>4.000</th>\n",
       "      <td>-1.223442</td>\n",
       "      <td>0.533082</td>\n",
       "    </tr>\n",
       "    <tr>\n",
       "      <th>8.000</th>\n",
       "      <td>-1.062959</td>\n",
       "      <td>0.592063</td>\n",
       "    </tr>\n",
       "    <tr>\n",
       "      <th>16.000</th>\n",
       "      <td>-0.935620</td>\n",
       "      <td>0.613878</td>\n",
       "    </tr>\n",
       "  </tbody>\n",
       "</table>\n",
       "</div>"
      ],
      "text/plain": [
       "                      clip_sigma_score-mean  clip_sigma_score-var\n",
       "boltzman temperature                                             \n",
       "0.125                             -1.211345              0.516656\n",
       "0.250                             -1.205944              0.530257\n",
       "0.500                             -1.215164              0.512449\n",
       "1.000                             -1.292052              0.565983\n",
       "2.000                             -1.202027              0.508686\n",
       "4.000                             -1.223442              0.533082\n",
       "8.000                             -1.062959              0.592063\n",
       "16.000                            -0.935620              0.613878"
      ]
     },
     "execution_count": 13,
     "metadata": {},
     "output_type": "execute_result"
    }
   ],
   "source": [
    "g = results.groupby('boltzman temperature')[feature_name]\n",
    "r = pd.concat([g.mean(), g.std()], axis=1)\n",
    "r.columns = [f'{feature_name}-mean', f'{feature_name}-var']\n",
    "r"
   ]
  },
  {
   "cell_type": "code",
   "execution_count": null,
   "id": "ab97c52d-3783-4580-b1ef-224bade56b16",
   "metadata": {},
   "outputs": [],
   "source": []
  }
 ],
 "metadata": {
  "kernelspec": {
   "display_name": "kk",
   "language": "python",
   "name": "kk"
  },
  "language_info": {
   "codemirror_mode": {
    "name": "ipython",
    "version": 3
   },
   "file_extension": ".py",
   "mimetype": "text/x-python",
   "name": "python",
   "nbconvert_exporter": "python",
   "pygments_lexer": "ipython3",
   "version": "3.10.13"
  }
 },
 "nbformat": 4,
 "nbformat_minor": 5
}
