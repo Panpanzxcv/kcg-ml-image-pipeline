{
 "cells": [
  {
   "cell_type": "code",
   "execution_count": 18,
   "id": "61d7e1e5-1435-4932-9493-181a35411cce",
   "metadata": {},
   "outputs": [],
   "source": [
    "import os\n",
    "\n",
    "import numpy as np\n",
    "import pandas as pd\n",
    "\n",
    "import zipfile\n",
    "\n",
    "from scipy import stats\n",
    "from matplotlib import pyplot"
   ]
  },
  {
   "cell_type": "markdown",
   "id": "4a69e372-9ff2-4e4c-a203-50b246753ca2",
   "metadata": {},
   "source": [
    "# load prompt phrase scores"
   ]
  },
  {
   "cell_type": "code",
   "execution_count": 9,
   "id": "29117ed9-dd71-4a1f-bb3a-41d1aac6a356",
   "metadata": {},
   "outputs": [
    {
     "data": {
      "text/html": [
       "<div>\n",
       "<style scoped>\n",
       "    .dataframe tbody tr th:only-of-type {\n",
       "        vertical-align: middle;\n",
       "    }\n",
       "\n",
       "    .dataframe tbody tr th {\n",
       "        vertical-align: top;\n",
       "    }\n",
       "\n",
       "    .dataframe thead th {\n",
       "        text-align: right;\n",
       "    }\n",
       "</style>\n",
       "<table border=\"1\" class=\"dataframe\">\n",
       "  <thead>\n",
       "    <tr style=\"text-align: right;\">\n",
       "      <th></th>\n",
       "      <th>index</th>\n",
       "      <th>phrase</th>\n",
       "      <th>occurrences</th>\n",
       "      <th>token length</th>\n",
       "      <th>boltzman_temperature</th>\n",
       "      <th>boltzman k</th>\n",
       "      <th>score</th>\n",
       "      <th>boltzman probability</th>\n",
       "      <th>normalized probability</th>\n",
       "      <th>unsmooth cumulative probability</th>\n",
       "      <th>normalized with epsilon</th>\n",
       "      <th>smooth cumulative probability</th>\n",
       "    </tr>\n",
       "  </thead>\n",
       "  <tbody>\n",
       "    <tr>\n",
       "      <th>0</th>\n",
       "      <td>0</td>\n",
       "      <td>environmental D</td>\n",
       "      <td>28941</td>\n",
       "      <td>3</td>\n",
       "      <td>0.5</td>\n",
       "      <td>1.0</td>\n",
       "      <td>-6.028159</td>\n",
       "      <td>5.807746e-06</td>\n",
       "      <td>-246.431058</td>\n",
       "      <td>-9.357335e+07</td>\n",
       "      <td>2.580879e-06</td>\n",
       "      <td>0.020006</td>\n",
       "    </tr>\n",
       "    <tr>\n",
       "      <th>1</th>\n",
       "      <td>1</td>\n",
       "      <td>D side scrolling</td>\n",
       "      <td>37016</td>\n",
       "      <td>3</td>\n",
       "      <td>0.5</td>\n",
       "      <td>1.0</td>\n",
       "      <td>72.349869</td>\n",
       "      <td>6.955010e+62</td>\n",
       "      <td>-89.675002</td>\n",
       "      <td>-2.653694e+02</td>\n",
       "      <td>9.391688e-07</td>\n",
       "      <td>0.999998</td>\n",
       "    </tr>\n",
       "    <tr>\n",
       "      <th>2</th>\n",
       "      <td>2</td>\n",
       "      <td>D side scrolling video game</td>\n",
       "      <td>39924</td>\n",
       "      <td>5</td>\n",
       "      <td>0.5</td>\n",
       "      <td>1.0</td>\n",
       "      <td>72.319138</td>\n",
       "      <td>6.540412e+62</td>\n",
       "      <td>-89.736464</td>\n",
       "      <td>-3.551058e+02</td>\n",
       "      <td>9.398125e-07</td>\n",
       "      <td>0.999997</td>\n",
       "    </tr>\n",
       "    <tr>\n",
       "      <th>3</th>\n",
       "      <td>3</td>\n",
       "      <td>video game</td>\n",
       "      <td>47624</td>\n",
       "      <td>2</td>\n",
       "      <td>0.5</td>\n",
       "      <td>1.0</td>\n",
       "      <td>2.277691</td>\n",
       "      <td>9.514309e+01</td>\n",
       "      <td>-229.819358</td>\n",
       "      <td>-7.369090e+06</td>\n",
       "      <td>2.406905e-06</td>\n",
       "      <td>0.922826</td>\n",
       "    </tr>\n",
       "    <tr>\n",
       "      <th>4</th>\n",
       "      <td>4</td>\n",
       "      <td>D environmental</td>\n",
       "      <td>30753</td>\n",
       "      <td>2</td>\n",
       "      <td>0.5</td>\n",
       "      <td>1.0</td>\n",
       "      <td>49.366970</td>\n",
       "      <td>7.578885e+42</td>\n",
       "      <td>-135.640800</td>\n",
       "      <td>-7.563040e+02</td>\n",
       "      <td>1.420570e-06</td>\n",
       "      <td>0.999993</td>\n",
       "    </tr>\n",
       "    <tr>\n",
       "      <th>...</th>\n",
       "      <td>...</td>\n",
       "      <td>...</td>\n",
       "      <td>...</td>\n",
       "      <td>...</td>\n",
       "      <td>...</td>\n",
       "      <td>...</td>\n",
       "      <td>...</td>\n",
       "      <td>...</td>\n",
       "      <td>...</td>\n",
       "      <td>...</td>\n",
       "      <td>...</td>\n",
       "      <td>...</td>\n",
       "    </tr>\n",
       "    <tr>\n",
       "      <th>409024</th>\n",
       "      <td>409024</td>\n",
       "      <td>walking in a passageway in london</td>\n",
       "      <td>1</td>\n",
       "      <td>8</td>\n",
       "      <td>0.5</td>\n",
       "      <td>1.0</td>\n",
       "      <td>0.161925</td>\n",
       "      <td>1.382440e+00</td>\n",
       "      <td>-234.050890</td>\n",
       "      <td>-7.045226e+07</td>\n",
       "      <td>2.451222e-06</td>\n",
       "      <td>0.262154</td>\n",
       "    </tr>\n",
       "    <tr>\n",
       "      <th>409025</th>\n",
       "      <td>409025</td>\n",
       "      <td>defraction spikes</td>\n",
       "      <td>1</td>\n",
       "      <td>3</td>\n",
       "      <td>0.5</td>\n",
       "      <td>1.0</td>\n",
       "      <td>0.243441</td>\n",
       "      <td>1.627235e+00</td>\n",
       "      <td>-233.887858</td>\n",
       "      <td>-6.453938e+07</td>\n",
       "      <td>2.449514e-06</td>\n",
       "      <td>0.324080</td>\n",
       "    </tr>\n",
       "    <tr>\n",
       "      <th>409026</th>\n",
       "      <td>409026</td>\n",
       "      <td>dressed in a scholars robe</td>\n",
       "      <td>1</td>\n",
       "      <td>6</td>\n",
       "      <td>0.5</td>\n",
       "      <td>1.0</td>\n",
       "      <td>0.175111</td>\n",
       "      <td>1.419383e+00</td>\n",
       "      <td>-234.024518</td>\n",
       "      <td>-6.948990e+07</td>\n",
       "      <td>2.450945e-06</td>\n",
       "      <td>0.272233</td>\n",
       "    </tr>\n",
       "    <tr>\n",
       "      <th>409027</th>\n",
       "      <td>409027</td>\n",
       "      <td>missing tail.</td>\n",
       "      <td>1</td>\n",
       "      <td>3</td>\n",
       "      <td>0.5</td>\n",
       "      <td>1.0</td>\n",
       "      <td>0.300110</td>\n",
       "      <td>1.822520e+00</td>\n",
       "      <td>-233.774520</td>\n",
       "      <td>-6.040969e+07</td>\n",
       "      <td>2.448327e-06</td>\n",
       "      <td>0.367330</td>\n",
       "    </tr>\n",
       "    <tr>\n",
       "      <th>409028</th>\n",
       "      <td>409028</td>\n",
       "      <td>nuclearpowerplant</td>\n",
       "      <td>1</td>\n",
       "      <td>4</td>\n",
       "      <td>0.5</td>\n",
       "      <td>1.0</td>\n",
       "      <td>0.093548</td>\n",
       "      <td>1.205743e+00</td>\n",
       "      <td>-234.187644</td>\n",
       "      <td>-7.543268e+07</td>\n",
       "      <td>2.452654e-06</td>\n",
       "      <td>0.209994</td>\n",
       "    </tr>\n",
       "  </tbody>\n",
       "</table>\n",
       "<p>409029 rows × 12 columns</p>\n",
       "</div>"
      ],
      "text/plain": [
       "         index                             phrase  occurrences  token length  \\\n",
       "0            0                    environmental D        28941             3   \n",
       "1            1                   D side scrolling        37016             3   \n",
       "2            2        D side scrolling video game        39924             5   \n",
       "3            3                         video game        47624             2   \n",
       "4            4                    D environmental        30753             2   \n",
       "...        ...                                ...          ...           ...   \n",
       "409024  409024  walking in a passageway in london            1             8   \n",
       "409025  409025                  defraction spikes            1             3   \n",
       "409026  409026         dressed in a scholars robe            1             6   \n",
       "409027  409027                      missing tail.            1             3   \n",
       "409028  409028                  nuclearpowerplant            1             4   \n",
       "\n",
       "        boltzman_temperature  boltzman k      score  boltzman probability  \\\n",
       "0                        0.5         1.0  -6.028159          5.807746e-06   \n",
       "1                        0.5         1.0  72.349869          6.955010e+62   \n",
       "2                        0.5         1.0  72.319138          6.540412e+62   \n",
       "3                        0.5         1.0   2.277691          9.514309e+01   \n",
       "4                        0.5         1.0  49.366970          7.578885e+42   \n",
       "...                      ...         ...        ...                   ...   \n",
       "409024                   0.5         1.0   0.161925          1.382440e+00   \n",
       "409025                   0.5         1.0   0.243441          1.627235e+00   \n",
       "409026                   0.5         1.0   0.175111          1.419383e+00   \n",
       "409027                   0.5         1.0   0.300110          1.822520e+00   \n",
       "409028                   0.5         1.0   0.093548          1.205743e+00   \n",
       "\n",
       "        normalized probability  unsmooth cumulative probability  \\\n",
       "0                  -246.431058                    -9.357335e+07   \n",
       "1                   -89.675002                    -2.653694e+02   \n",
       "2                   -89.736464                    -3.551058e+02   \n",
       "3                  -229.819358                    -7.369090e+06   \n",
       "4                  -135.640800                    -7.563040e+02   \n",
       "...                        ...                              ...   \n",
       "409024             -234.050890                    -7.045226e+07   \n",
       "409025             -233.887858                    -6.453938e+07   \n",
       "409026             -234.024518                    -6.948990e+07   \n",
       "409027             -233.774520                    -6.040969e+07   \n",
       "409028             -234.187644                    -7.543268e+07   \n",
       "\n",
       "        normalized with epsilon  smooth cumulative probability  \n",
       "0                  2.580879e-06                       0.020006  \n",
       "1                  9.391688e-07                       0.999998  \n",
       "2                  9.398125e-07                       0.999997  \n",
       "3                  2.406905e-06                       0.922826  \n",
       "4                  1.420570e-06                       0.999993  \n",
       "...                         ...                            ...  \n",
       "409024             2.451222e-06                       0.262154  \n",
       "409025             2.449514e-06                       0.324080  \n",
       "409026             2.450945e-06                       0.272233  \n",
       "409027             2.448327e-06                       0.367330  \n",
       "409028             2.452654e-06                       0.209994  \n",
       "\n",
       "[409029 rows x 12 columns]"
      ]
     },
     "execution_count": 9,
     "metadata": {},
     "output_type": "execute_result"
    }
   ],
   "source": [
    "f = zipfile.ZipFile('./tmp/2023-12-04-phrase-scores-probability-environmental.zip')\n",
    "df = pd.read_csv(f.open('2023-12-04-phrase-scores-probability-05-environmental-positive.csv'))\n",
    "df"
   ]
  },
  {
   "cell_type": "markdown",
   "id": "f191a68b-4970-4d97-ad0f-9f3c6900ce28",
   "metadata": {},
   "source": [
    "# histogram of score"
   ]
  },
  {
   "cell_type": "code",
   "execution_count": 20,
   "id": "6e1f26b8-2b0a-4ace-8b58-a831926cb98a",
   "metadata": {},
   "outputs": [],
   "source": [
    "score = df['score'].values"
   ]
  },
  {
   "cell_type": "code",
   "execution_count": 21,
   "id": "c62b48ab-c2e1-408c-96ee-bebc1af6d76a",
   "metadata": {},
   "outputs": [
    {
     "data": {
      "text/plain": [
       "Text(0.5, 1.0, 'histogram of score (log scale)')"
      ]
     },
     "execution_count": 21,
     "metadata": {},
     "output_type": "execute_result"
    },
    {
     "data": {
      "image/png": "[encoded data removed]",
      "text/plain": [
       "<Figure size 640x480 with 1 Axes>"
      ]
     },
     "metadata": {},
     "output_type": "display_data"
    }
   ],
   "source": [
    "_ = pyplot.hist(score, bins=100, log=True)\n",
    "pyplot.title('histogram of score (log scale)')"
   ]
  },
  {
   "cell_type": "markdown",
   "id": "5d1fbd8f-866d-48b7-b0b4-90e0db47787b",
   "metadata": {},
   "source": [
    "# normal test"
   ]
  },
  {
   "cell_type": "code",
   "execution_count": 22,
   "id": "6812d731-fa93-4fd8-a531-45f1939b0ef5",
   "metadata": {},
   "outputs": [
    {
     "data": {
      "text/plain": [
       "KstestResult(statistic=0.3163742561707882, pvalue=0.0, statistic_location=0.999999, statistic_sign=1)"
      ]
     },
     "execution_count": 22,
     "metadata": {},
     "output_type": "execute_result"
    }
   ],
   "source": [
    "stats.kstest(score, 'norm', args=(np.mean(data), np.std(data)))"
   ]
  },
  {
   "cell_type": "markdown",
   "id": "29081ced-0fb0-41c5-b7ac-ec03e5bb33e5",
   "metadata": {},
   "source": [
    "# histogram of probability"
   ]
  },
  {
   "cell_type": "code",
   "execution_count": 23,
   "id": "2779c929-17a5-432c-a602-0f479009aec2",
   "metadata": {},
   "outputs": [],
   "source": [
    "boltzman_k = 1\n",
    "boltzman_temperature = 2"
   ]
  },
  {
   "cell_type": "code",
   "execution_count": 24,
   "id": "4b5c4487-c4da-4cf0-ac52-c15f19cd7f7c",
   "metadata": {},
   "outputs": [],
   "source": [
    "probability = np.exp(-(score / (boltzman_k * boltzman_temperature)))"
   ]
  },
  {
   "cell_type": "code",
   "execution_count": 25,
   "id": "249b9efd-64df-4398-9061-a21bb6d27eb3",
   "metadata": {},
   "outputs": [
    {
     "data": {
      "text/plain": [
       "Text(0.5, 1.0, 'histogram of probability, temperature 2 (log scale)')"
      ]
     },
     "execution_count": 25,
     "metadata": {},
     "output_type": "execute_result"
    },
    {
     "data": {
      "image/png": "[encoded data removed]",
      "text/plain": [
       "<Figure size 640x480 with 1 Axes>"
      ]
     },
     "metadata": {},
     "output_type": "display_data"
    }
   ],
   "source": [
    "_ = pyplot.hist(probability, bins=100, log=True)\n",
    "pyplot.title(f'histogram of probability, temperature {boltzman_temperature} (log scale)')"
   ]
  },
  {
   "cell_type": "code",
   "execution_count": null,
   "id": "9e2e553a-c037-4a5f-8b75-fa200f4c96f7",
   "metadata": {},
   "outputs": [],
   "source": []
  }
 ],
 "metadata": {
  "kernelspec": {
   "display_name": "kk",
   "language": "python",
   "name": "kk"
  },
  "language_info": {
   "codemirror_mode": {
    "name": "ipython",
    "version": 3
   },
   "file_extension": ".py",
   "mimetype": "text/x-python",
   "name": "python",
   "nbconvert_exporter": "python",
   "pygments_lexer": "ipython3",
   "version": "3.10.13"
  }
 },
 "nbformat": 4,
 "nbformat_minor": 5
}
