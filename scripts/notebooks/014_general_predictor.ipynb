{
 "cells": [
  {
   "cell_type": "code",
   "execution_count": 20,
   "id": "7a9cb79b-561e-4ea9-b482-e5e12fff0430",
   "metadata": {
    "tags": []
   },
   "outputs": [],
   "source": [
    "import os\n",
    "os.environ['CUDA_VISIBLE_DEVICES'] = '3'\n",
    "\n",
    "import sys\n",
    "import json\n",
    "\n",
    "import numpy as np\n",
    "import pandas as pd\n",
    "\n",
    "import requests\n",
    "\n",
    "import torch\n",
    "\n",
    "from PIL import Image\n",
    "from io import BytesIO\n",
    "from matplotlib import pyplot\n",
    "\n",
    "from tqdm.auto import tqdm\n",
    "\n",
    "from transformers import AutoTokenizer, AutoModel, CLIPImageProcessor"
   ]
  },
  {
   "cell_type": "code",
   "execution_count": 45,
   "id": "c8a3fe97-c58a-4f03-a09e-fe096d70b2a4",
   "metadata": {
    "tags": []
   },
   "outputs": [],
   "source": [
    "from utils import get_score_from_embs"
   ]
  },
  {
   "cell_type": "markdown",
   "id": "ea1282c3-972b-48cd-ac58-5676eab0b0dc",
   "metadata": {},
   "source": [
    "# build model"
   ]
  },
  {
   "cell_type": "code",
   "execution_count": 2,
   "id": "734aed03-6838-473f-b98b-efbc02bc2fad",
   "metadata": {
    "tags": []
   },
   "outputs": [],
   "source": [
    "BATCH_SIZE = 64\n",
    "MAX_LENGTH = 77\n",
    "MODEL_NAME = 'openai/clip-vit-large-patch14'"
   ]
  },
  {
   "cell_type": "code",
   "execution_count": 3,
   "id": "5a447abd-601c-4ad6-9c12-42379e4492dc",
   "metadata": {
    "tags": []
   },
   "outputs": [
    {
     "name": "stderr",
     "output_type": "stream",
     "text": [
      "`text_config_dict` is provided which will be used to initialize `CLIPTextConfig`. The value `text_config[\"id2label\"]` will be overriden.\n"
     ]
    }
   ],
   "source": [
    "preprocessor = CLIPImageProcessor.from_pretrained(MODEL_NAME, local_files_only=True)\n",
    "\n",
    "clip_model = AutoModel.from_pretrained(MODEL_NAME, local_files_only=True).cuda().eval()"
   ]
  },
  {
   "cell_type": "markdown",
   "id": "37e6cd15-32ba-4a3f-8ffd-33affa1c4398",
   "metadata": {},
   "source": [
    "# laion aesthetic"
   ]
  },
  {
   "cell_type": "code",
   "execution_count": 4,
   "id": "8dfdf3ce-8fe0-425c-98eb-c811058d467f",
   "metadata": {
    "jupyter": {
     "source_hidden": true
    },
    "tags": []
   },
   "outputs": [],
   "source": [
    "infos = {'URL': ['https://cdn.mumsgrapevine.com.au/site/wp-content/uploads/2020/03/First-Easter-Shoes-360x240.jpg',\n",
    "  'https://cdn.aws.toolstation.com/images/141020-UK/250/77609-5.jpg',\n",
    "  'https://i0.wp.com/mystylosophy.com/wp-content/uploads/2017/10/ChristianDior-Dior-DiorExhibit-Paris-HautCouture-GoldenAge-DiorGoldenAge-ArtDecoratifs-PerfumeDior-DiorPerfume-DiorGown-5.jpg?resize=1093%2C729',\n",
    "  'https://www.goodnet.org/photos/620x0/27271.jpg',\n",
    "  'https://us.123rf.com/450wm/sivenkovnik/sivenkovnik1808/sivenkovnik180800032/106471031-.jpg?ver=6',\n",
    "  'https://www.picclickimg.com/d/l400/pict/322429071408_/Genuine-Kids-Oshkosh-girls-fruit-and-flower-skirt.jpg',\n",
    "  'https://i.pinimg.com/originals/58/be/54/58be542fc4a81775d91bb511f82eeda8.jpg',\n",
    "  'https://i1.wp.com/toffecamping.me/wp-content/uploads/2016/02/freehand-miami-hostel-photos-exterior.jpeg?w=387&h=253&ssl=1',\n",
    "  'http://img0106.popscreencdn.com/158526702_2pcs-luxury-doll-clothes-outfit-court-dress-for-.jpg',\n",
    "  'https://photos.smugmug.com/OP-W-Bloomfield-v-Walled-Lake-Western-football/i-sqr25bK/0/b6b541a8/XL/24AU17%20WLW%20v%20WB%20389-XL.jpg',\n",
    "  'https://p1.liveauctioneers.com/385/116367/59813930_1_x.jpg?version=1518047604&amp;width=280&amp;format=pjpg&amp;auto=webp&amp;quality=50',\n",
    "  'https://www.jpost.com//HttpHandlers/ShowImage.ashx?id=391764&w=822&h=537',\n",
    "  'https://d36tnp772eyphs.cloudfront.net/blogs/1/2019/06/Beautiful-Landscape-of-Grand-Canyon-from-Desert-View-Point-with-the-Colorado-River-visible-during-dusk-900x506.jpg',\n",
    "  'https://cdn.snsimg.carview.co.jp/minkara/usercar/000/002/957/017/2957017/p4mm.jpg?ct=596692692132',\n",
    "  'https://i1.wp.com/www.bodycenterbilbao.com/wp-content/uploads/2019/02/shutterstock_113011594-620x3602.jpg?resize=300%2C174&ssl=1',\n",
    "  'https://thelocalbrand.com/wp-content/uploads/2013/09/Oktoberfest-in-Germany1-300x228.jpg',\n",
    "  'https://uploads.carandclassic.co.uk/uploads/cars/austin_healey/12069496.jpg',\n",
    "  'https://www.stoptheboring.com/wp-content/uploads/2017/10/BigMouth-Inc-The-Original-Toilet-Mug-0-1-1.jpg',\n",
    "  'https://tse4.mm.bing.net/th?id=OIP.XDvNHjjnshLjFrnDH-8kgQEsEs',\n",
    "  'https://i.pinimg.com/236x/df/f7/ea/dff7ea50cd7bce86bde0042e55c7c4f2.jpg',\n",
    "  'https://chairish-prod.freetls.fastly.net/image/product/sized/a849c575-81a8-4d76-ad2a-04d0a59c3531/hickory-white-china-cabinet-3284?aspect=fit&width=320&height=320',\n",
    "  'https://i.pinimg.com/736x/e4/bc/a9/e4bca97b76cf55c0195999c1b03b92a7--ex-voto-milagro.jpg',\n",
    "  'https://lifeovercs.com/wp-content/uploads/2016/03/easter-egg-hunt2-700x464.jpg',\n",
    "  'https://i2.wp.com/runningonrealfood.com/wp-content/uploads/2021/03/Healthy-Vegan-Chocolate-Banana-Muffins-Recipe-7-700x1050.jpg',\n",
    "  'https://elizabethandjane.ca/wp-content/uploads/2019/02/Ottawa-dows-lake-14.jpg',\n",
    "  'https://www.1st-art-gallery.com/frame-preview/27856027.jpg?sku=Unframed&amp;w=24&amp;h=20&amp;thumb=0&amp;huge=0',\n",
    "  'https://sugargeekshow.com/wp-content/uploads/2020/11/lemon_shortbread_cookies-13-of-16.jpg',\n",
    "  'https://www.picclickimg.com/d/l400/pict/113373763354_/Vintage-1986-AVON-Musical-Figurine-We-wish.jpg',\n",
    "  'https://thumbs.dreamstime.com/b/amazing-view-zermatt-village-switzerland-famous-mountain-matterhorn-background-snow-top-beautiful-swiss-nature-alps-153230814.jpg',\n",
    "  'https://t1.ftcdn.net/jpg/00/57/36/02/240_F_57360264_MRBt4bmlmoaOw6pd6GMPVMdPCGJ93HeF.jpg',\n",
    "  'https://www.joyofkosher.com/.image/ar_8:10%2Cc_fill%2Ccs_srgb%2Cg_faces:center%2Cq_80%2Cw_620/MTMxNzYxNjUzOTA0NjMzODI2/strawberry-and-watermelon-smoothies-and-popsicles.jpg',\n",
    "  'https://p1.liveauctioneers.com/1325/132379/67249133_3_x.jpg?version=1543773410&amp;width=54&amp;format=pjpg&amp;auto=webp&amp;quality=25',\n",
    "  'https://www.jetsetter.com/uploads/sites/7/2018/04/bedroom-boutique-desert-inn.jpeg',\n",
    "  'https://i.etsystatic.com/20135037/r/il/34cfb1/2165843230/il_340x270.2165843230_n8ok.jpg',\n",
    "  'https://i.pinimg.com/236x/f1/dc/a7/f1dca70ae1dda0aea1bfc54136d2dab2--vintage-cocktail-dress-vintage-cocktails.jpg',\n",
    "  'https://images.stockfreeimages.com/1975/sfi226w/19758677.jpg',\n",
    "  'https://ir.redata.com/ir/do.php?src=http://www.redata.com/100042/mls/stillsminmmls/463426at.jpg?1618351007238&w=340',\n",
    "  'https://www.gannett-cdn.com/presto/2018/11/07/PPHX/828c8824-f54b-4788-bd2b-9e2c48afb792-if06518r3.jpg?width=540&amp;height=405&amp;fit=bounds&amp;auto=webp',\n",
    "  'https://us.123rf.com/450wm/lembergvector/lembergvector1912/lembergvector191200010/135337867-street-food-market-flat-color-vector-illustration-outdoor-marketplace-in-megapolis-vendors-and-custo.jpg?ver=6',\n",
    "  'https://www.wolverton-mountain.com/articles/images/apple_doesnt_fall_far/2.jpg',\n",
    "  'https://cdn.iconscout.com/icon/premium/png-128-thumb/cop-1922937-1630084.png',\n",
    "  'http://car-from-uk.com/ebay/carphotos/big/ebay49671.jpg',\n",
    "  'https://t0.gstatic.com/images?q=tbn:ANd9GcSVQOjeIbY7NbyywMki5Qv_r8d3yNeVozVbqJLBe35x31rGP04T',\n",
    "  'https://9qjzgzbyth-flywheel.netdna-ssl.com/wp-content/uploads/2018/06/snowmobile-tour-330x220.jpg',\n",
    "  'https://i0.wp.com/cdn.dealeraccelerate.com/rkm/1/3055/202154/1920x1440/w/1970-chevrolet-chevelle-super-sport?w=2000',\n",
    "  'https://img.monocle.com/gallery/a_8434054-53a16a5c3980b.jpg?w=533&amp;h=400&amp;&amp;g=center&amp;q=60',\n",
    "  'https://insitu-app.co.uk/wp-content/uploads/2015/12/canvas-9.jpg',\n",
    "  'https://pennsylvaniastatehealth.com/wp-content/uploads/sites/99/2020/09/4.jpg',\n",
    "  'https://redballoon.com.au/dw/image/v2/BCRD_PRD/on/demandware.static/-/Sites-rb-au-catalog/default/images/products/MEW007-M/asp7dpzcl9msbcmbplfz.jpg?sw=540&sh=302&q=70',\n",
    "  'https://cdn.shopify.com/s/files/1/0255/2515/products/505430ca6149f3fbd56613297df67da4_300x300.jpg?v=1587106552',\n",
    "  'https://render.fineartamerica.com/images/rendered/medium/greeting-card/images/artworkimages/medium/1/hummingbird-perched-on-an-orchid-plant-martin-johnson-heade-.jpg',\n",
    "  'https://www.ramascreen.com/wp-content/uploads/Trainspotting.png',\n",
    "  'http://i.pinimg.com/236x/40/d3/0b/40d30b62d2d2f088f68469937a0b57ee.jpg',\n",
    "  'https://bbyv231eix01sh2v620d8ptq-wpengine.netdna-ssl.com/wp-content/uploads/2020/09/who_are_the_archangels-560x600.jpg',\n",
    "  'http://www.tlaquepaque-centro.com/images/image_bank/IMG_4218_folkloric_dance_fixt_net.jpg',\n",
    "  'https://cinemaholics.ru/content/images/2019/02/leaving-neverland-1.jpg',\n",
    "  'https://i.pinimg.com/236x/ee/7c/9a/ee7c9a837444155e31dfa4c60f03cb98--western-furniture-log-furniture.jpg',\n",
    "  'https://render.fineartamerica.com/images/rendered/medium/poster/images-medium/herns-mill-covered-bridge-harold-rau.jpg',\n",
    "  'https://talksport.com/wp-content/uploads/sites/5/2021/08/2bca362c-a5b8-40dc-9625-00ec45e31397.jpg?strip=all&w=960&quality=100',\n",
    "  'https://www.kilroyworld.nl/media/10152/piha-beach-auckland-new-zealand.jpg?mode=crop&quality=70',\n",
    "  'https://images1.sw-cdn.net/product/picture/710x528_2228635_1902959_1459328248.jpg',\n",
    "  'https://www.christies.com/img/LotImages/2007/AMS/2007_AMS_02765_0057_000().jpg?mode=max&amp;Width=200',\n",
    "  'https://3dlancer.net/upload/galleries/801/3801/bedroom-in-a-country-house-by-the-river-65129-xxl.jpg',\n",
    "  'https://us.123rf.com/450wm/OlgaDrozdova/OlgaDrozdova1309/OlgaDrozdova130900018/22176210-black-seamless-floral-pattern-with-vivid-flowers-and-colorful-transparent-butterflies.jpg',\n",
    "  'https://i.pinimg.com/originals/e3/8d/8f/e38d8f597d3b2a4b61729717b9840f53.jpg',\n",
    "  'https://parkcity.org/home/showpublishedimage/3877/636717456062930000',\n",
    "  'http://deliciouslyyum.com/wp-content/uploads/2014/08/chocolate-chunk-cookie-butter-bars-6.jpg',\n",
    "  'https://thumbs.dreamstime.com/b/winter-panorama-landscape-forest-trees-covered-snow-sunrise-winterly-morning-new-day-purple-winter-landscape-102655259.jpg',\n",
    "  'https://i.pinimg.com/736x/56/24/7a/56247aba8b75d4627168dbe8d1df4fcb.jpg',\n",
    "  'https://d1s2pua8v98dyj.cloudfront.net/mk/images/p368226_2x.jpg?w=436',\n",
    "  'https://dygtyjqp7pi0m.cloudfront.net/i/39201/33669039_1m.jpg?v=8D70875CDDDB730',\n",
    "  'https://www.royalwolf.co.nz/uploads/images/products/UsedContainer_Category.jpg',\n",
    "  'https://i0.wp.com/stylefemale.com/wp-content/uploads/2018/09/50-best-pink-wedding-clothes-ideas-42.jpg?w=283&h=376&ssl=1',\n",
    "  'https://auto-database.com/image/pictures-of-opel-zafira-a-1999-112166.jpg',\n",
    "  'https://i0.wp.com/www.pandotrip.com/wp-content/uploads/2018/04/Interlaken-town-and-Aare-river-from-the-view-point-of-Harder-Kulm-Switzerland.jpg?resize=740%2C493&ssl=1',\n",
    "  'https://www.bestformykitchen.com/images/25100/15-French-Hydrangea-Flowers-Melamine-Serving-Tray-32.jpg',\n",
    "  'https://t1.ftcdn.net/jpg/02/34/46/38/240_F_234463822_KObP2qGSecXOUh2mlw0KyqIXHSoUWK7h.jpg',\n",
    "  'https://i.ebayimg.com/images/g/KFIAAOSw86JaXOJy/s-l500.jpg',\n",
    "  'https://prettydiyhome.com/wp-content/uploads/2021/06/Rocky-Road-Smores-Bark-a-Pumpkin-and-a-Princess-700-683x1024.jpg',\n",
    "  'https://render.fineartamerica.com/images/rendered/default/greeting-card/images-medium-5/poster-advertising-caco-van-houten-privat-livemont.jpg?&targetx=0&targety=-307&imagewidth=500&imageheight=1315&modelwidth=500&modelheight=700&backgroundcolor=DAC9AA&orientation=1',\n",
    "  'https://rieger-tuning.es/wp-content/uploads/2020/01/00055226_5-600x313.jpg',\n",
    "  'https://i.pinimg.com/236x/07/ae/4c/07ae4c3944b670772daa6e2e236d22de.jpg',\n",
    "  'https://www.casabouquet.com/wp-content/uploads/2017/04/orange-chocolate-chip-16.jpg',\n",
    "  'https://frommybowl.com/wp-content/uploads/2020/03/Vegan_Strawberry_Shortcakes_GlutenFree_FromMyBowl_SugarFree-10-scaled.jpg',\n",
    "  'https://ih0.redbubble.net/image.555016608.2521/raf,360x360,075,t,fafafa:ca443f4786.jpg',\n",
    "  'https://i0.wp.com/ritacor.files.wordpress.com/2016/07/self-portrait-with-monkey-and-parrot.jpg?w=370&',\n",
    "  'https://thumbs2.ebaystatic.com/d/l225/m/mXR8HQ3gZN9zybpJWKm7p0g.jpg',\n",
    "  'https://images.globalauctionguide.com/769021/320x240/769021_90_c45a2d97c628341011686e4545c1782e.jpg',\n",
    "  'https://static.barcelo.com/content/dam/bhg/master/es/hoteles/spain/andalucia/sevilla/imagenes-sevilla/iStock-534917469.jpg.bhgimg.jpg/1604514693284.jpg',\n",
    "  'https://i.ebayimg.com/00/s/ODAwWDYwMA==/z/UPQAAOSwdsFeq-Uu/$_118.PNG',\n",
    "  'https://www.mikereyfman.com/wp-content/gallery/lake-powell-glen-canyon-colorado-san-juan-river-utah-arizona-usa/thumbs/thumbs_012-LP3_O3X4981.jpg',\n",
    "  'https://www.okchicas.com/wp-content/uploads/2020/10/Aretes-en-forma-de-postres-3.jpg',\n",
    "  'http://viemagazine.com/wp-content/uploads/2018/09/vie-magazine-sendwell-hero-min.jpg',\n",
    "  'https://lid.zoocdn.com/354/255/fc91a54394578a3e60a1c1e35fe550303500ffba.jpg',\n",
    "  'https://www.baltimoreschild.com/wp-content/uploads/2020/07/FairyGarden-310x165.jpg',\n",
    "  'http://i.ytimg.com/vi/A9MgeWQvPu8/0.jpg',\n",
    "  'https://crochetdreamz.com/wp-content/uploads/2018/07/2carpet-059-copy-2-4-220x220_c.jpg',\n",
    "  'https://www.estylecdn.com/manufcols/marysbridal/current/zoomalt/4Q371-1.jpg',\n",
    "  'http://t0.gstatic.com/images?q=tbn:ANd9GcT2eBMR4mG2ZaebrBMS_cf17_V12iuHuctdZtmve5LKEqK1nhry',\n",
    "  'https://images.custommade.com/hEtRIgU4LJudMKV82JzPjO2Wj7Y=/fit-in/510x382/custommade-photosets/81393/81393.216214.jpg'],\n",
    " 'aesthetic': [7.172502517700195,\n",
    "  7.551183223724365,\n",
    "  7.591557025909424,\n",
    "  7.301273345947266,\n",
    "  7.366945266723633,\n",
    "  7.25872802734375,\n",
    "  7.846107006072998,\n",
    "  7.444241046905518,\n",
    "  8.693609237670898,\n",
    "  7.310762405395508,\n",
    "  7.313165664672852,\n",
    "  7.356822967529297,\n",
    "  7.1000800132751465,\n",
    "  7.744609355926514,\n",
    "  7.250083923339844,\n",
    "  7.058066368103027,\n",
    "  7.170432090759277,\n",
    "  7.129290580749512,\n",
    "  7.770288944244385,\n",
    "  7.353501319885254,\n",
    "  7.031122207641602,\n",
    "  7.452410697937012,\n",
    "  7.258460521697998,\n",
    "  7.380912780761719,\n",
    "  7.315114974975586,\n",
    "  7.175784587860107,\n",
    "  7.417852878570557,\n",
    "  7.428484916687012,\n",
    "  7.052938461303711,\n",
    "  7.239180088043213,\n",
    "  7.764685153961182,\n",
    "  7.01607608795166,\n",
    "  7.205810070037842,\n",
    "  7.004315376281738,\n",
    "  7.178605079650879,\n",
    "  7.785758972167969,\n",
    "  7.769811153411865,\n",
    "  7.801805019378662,\n",
    "  7.839773654937744,\n",
    "  7.182727813720703,\n",
    "  7.1983771324157715,\n",
    "  7.612484455108643,\n",
    "  7.85885763168335,\n",
    "  7.421217441558838,\n",
    "  8.203147888183594,\n",
    "  7.089407920837402,\n",
    "  7.655054569244385,\n",
    "  7.161921501159668,\n",
    "  7.556063175201416,\n",
    "  7.531184196472168,\n",
    "  7.3606276512146,\n",
    "  7.462562561035156,\n",
    "  7.9463934898376465,\n",
    "  7.310300350189209,\n",
    "  7.150605201721191,\n",
    "  7.310141563415527,\n",
    "  7.013078689575195,\n",
    "  7.998131275177002,\n",
    "  7.013938903808594,\n",
    "  7.156905651092529,\n",
    "  7.274003028869629,\n",
    "  7.754013538360596,\n",
    "  7.134812355041504,\n",
    "  7.6007466316223145,\n",
    "  7.012784004211426,\n",
    "  7.73198938369751,\n",
    "  7.115525722503662,\n",
    "  7.755051136016846,\n",
    "  7.201910495758057,\n",
    "  7.41689395904541,\n",
    "  7.098658084869385,\n",
    "  7.005938529968262,\n",
    "  7.655755519866943,\n",
    "  7.811648845672607,\n",
    "  7.1286702156066895,\n",
    "  7.272104263305664,\n",
    "  7.206401824951172,\n",
    "  7.161147117614746,\n",
    "  7.017979145050049,\n",
    "  7.734507083892822,\n",
    "  7.720720291137695,\n",
    "  7.329319000244141,\n",
    "  7.672746181488037,\n",
    "  7.8711161613464355,\n",
    "  7.9984259605407715,\n",
    "  7.2667694091796875,\n",
    "  7.137083053588867,\n",
    "  7.076663017272949,\n",
    "  7.2775444984436035,\n",
    "  7.068422317504883,\n",
    "  7.529209136962891,\n",
    "  7.268115997314453,\n",
    "  7.737618446350098,\n",
    "  7.971368312835693,\n",
    "  7.379256248474121,\n",
    "  7.057469844818115,\n",
    "  7.4130859375,\n",
    "  7.316041469573975,\n",
    "  7.42244291305542,\n",
    "  7.312711715698242]}"
   ]
  },
  {
   "cell_type": "code",
   "execution_count": 5,
   "id": "ead5e58b-b12b-4fe2-b56e-81f8f712a1e5",
   "metadata": {
    "tags": []
   },
   "outputs": [],
   "source": [
    "proxies = {\n",
    "    'http': 'http://10.68.98.153:7890',\n",
    "    'https': 'http://10.68.98.153:7890'\n",
    "}"
   ]
  },
  {
   "cell_type": "code",
   "execution_count": 17,
   "id": "780fca88-8772-4d55-9ab4-8d23669fa44a",
   "metadata": {
    "tags": []
   },
   "outputs": [],
   "source": [
    "images = list()\n",
    "scores = list()\n",
    "image_features = list()\n",
    "for url, score in tqdm(zip(infos['URL'], infos['aesthetic']), leave=False):\n",
    "    \n",
    "    try:\n",
    "        response = requests.get(url, proxies=proxies)\n",
    "        image = Image.open(BytesIO(response.content))\n",
    "    except:\n",
    "        continue\n",
    "    \n",
    "    images.append(image)\n",
    "    \n",
    "    image = preprocessor(images=image, return_tensors=\"pt\")\n",
    "    \n",
    "    image_feature = clip_model.get_image_features(pixel_values=image['pixel_values'].to(clip_model.device))\n",
    "    image_features.append(image_feature.detach().cpu().numpy())\n",
    "    scores.append(score)\n",
    "    \n",
    "image_features = np.concatenate(image_features, axis=0)"
   ]
  },
  {
   "cell_type": "markdown",
   "id": "7690da19-ece1-46d8-b307-19ecb1b87e96",
   "metadata": {},
   "source": [
    "# aesthetic-predictor"
   ]
  },
  {
   "cell_type": "code",
   "execution_count": null,
   "id": "7637011c-09ae-4cf2-aaf6-d99b64e2c545",
   "metadata": {},
   "outputs": [],
   "source": [
    "# https://github.com/LAION-AI/aesthetic-predictor"
   ]
  },
  {
   "cell_type": "code",
   "execution_count": 25,
   "id": "076cd2e9-ed18-49e1-8697-9ad57194c977",
   "metadata": {
    "tags": []
   },
   "outputs": [],
   "source": [
    "model = torch.nn.Linear(768, 1)"
   ]
  },
  {
   "cell_type": "code",
   "execution_count": 26,
   "id": "e45152a4-919f-4188-9f73-f6a66f9cac49",
   "metadata": {
    "tags": []
   },
   "outputs": [
    {
     "data": {
      "text/plain": [
       "<All keys matched successfully>"
      ]
     },
     "execution_count": 26,
     "metadata": {},
     "output_type": "execute_result"
    }
   ],
   "source": [
    "model.load_state_dict(torch.load('./weight/014/sa_0_4_vit_l_14_linear.pth'))"
   ]
  },
  {
   "cell_type": "code",
   "execution_count": 27,
   "id": "c18a0216-b8a5-4825-aaec-8d0b71f32239",
   "metadata": {
    "tags": []
   },
   "outputs": [],
   "source": [
    "model = model.cuda()\n",
    "model.eval();"
   ]
  },
  {
   "cell_type": "code",
   "execution_count": 30,
   "id": "2beeb868-11f4-4ab5-90d9-08cf19aaf94f",
   "metadata": {
    "tags": []
   },
   "outputs": [],
   "source": [
    "with torch.no_grad():\n",
    "    x = torch.tensor(image_features).cuda()\n",
    "    pred = model(x / x.norm(dim=-1, keepdim=True))"
   ]
  },
  {
   "cell_type": "markdown",
   "id": "90c7b64d-cfae-44ff-8d3b-eb4b9bd68eb1",
   "metadata": {},
   "source": [
    "# improved-aesthetic-predictor"
   ]
  },
  {
   "cell_type": "code",
   "execution_count": 7,
   "id": "989fd211-df58-4e9f-b90d-6afd6f6cc578",
   "metadata": {
    "tags": []
   },
   "outputs": [],
   "source": [
    "# https://github.com/christophschuhmann/improved-aesthetic-predictor"
   ]
  },
  {
   "cell_type": "code",
   "execution_count": 8,
   "id": "7328dc37-a4d3-41fb-a258-b60b66fa6f40",
   "metadata": {
    "tags": []
   },
   "outputs": [],
   "source": [
    "model = torch.nn.Sequential()\n",
    "model.add_module('layers', torch.nn.Sequential(\n",
    "    torch.nn.Linear(768, 1024),\n",
    "    #nn.ReLU(),\n",
    "    torch.nn.Dropout(0.2),\n",
    "    torch.nn.Linear(1024, 128),\n",
    "    #nn.ReLU(),\n",
    "    torch.nn.Dropout(0.2),\n",
    "    torch.nn.Linear(128, 64),\n",
    "    #nn.ReLU(),\n",
    "    torch.nn.Dropout(0.1),\n",
    "\n",
    "    torch.nn.Linear(64, 16),\n",
    "    #nn.ReLU(),\n",
    "\n",
    "    torch.nn.Linear(16, 1)\n",
    "))"
   ]
  },
  {
   "cell_type": "code",
   "execution_count": 9,
   "id": "88c14c43-67a7-4fcd-af02-a40ed9a85dd2",
   "metadata": {
    "tags": []
   },
   "outputs": [
    {
     "data": {
      "text/plain": [
       "<All keys matched successfully>"
      ]
     },
     "execution_count": 9,
     "metadata": {},
     "output_type": "execute_result"
    }
   ],
   "source": [
    "model.load_state_dict(torch.load('./weight/014/sac+logos+ava1-l14-linearMSE.pth'))"
   ]
  },
  {
   "cell_type": "code",
   "execution_count": 10,
   "id": "6b9a53d5-d0b8-4948-9536-46df20b83507",
   "metadata": {
    "tags": []
   },
   "outputs": [],
   "source": [
    "model = model.cuda()\n",
    "model.eval();"
   ]
  },
  {
   "cell_type": "code",
   "execution_count": 12,
   "id": "5b1693a5-8005-46e0-a771-58b12635eb9b",
   "metadata": {
    "tags": []
   },
   "outputs": [],
   "source": [
    "def normalized(a, axis=-1, order=2):\n",
    "    l2 = np.atleast_1d(np.linalg.norm(a, order, axis))\n",
    "    l2[l2 == 0] = 1\n",
    "    return a / np.expand_dims(l2, axis)"
   ]
  },
  {
   "cell_type": "code",
   "execution_count": 18,
   "id": "2e0af3b0-3bc0-4d4e-b76c-920bc94b9efc",
   "metadata": {
    "tags": []
   },
   "outputs": [],
   "source": [
    "with torch.no_grad():\n",
    "    pred = model(torch.tensor(normalized(image_features)).cuda())"
   ]
  },
  {
   "cell_type": "markdown",
   "id": "77273ae7-4075-4a2c-b873-d0e345daac88",
   "metadata": {},
   "source": [
    "# NSFW-Detector"
   ]
  },
  {
   "cell_type": "code",
   "execution_count": null,
   "id": "37c0d63c-ee1e-4feb-b195-0f1220450c08",
   "metadata": {},
   "outputs": [],
   "source": [
    "# https://github.com/LAION-AI/CLIP-based-NSFW-Detector"
   ]
  },
  {
   "cell_type": "code",
   "execution_count": null,
   "id": "0b2e2501-18df-4bba-bdc4-8fa21569e0bf",
   "metadata": {},
   "outputs": [],
   "source": [
    "# from tensorflow.keras.models import load_model\n",
    "# model_dir = './weight/014/clip_autokeras_binary_nsfw/'\n",
    "# model = load_model(model_dir, custom_objects=ak.CUSTOM_OBJECTS)"
   ]
  },
  {
   "cell_type": "code",
   "execution_count": null,
   "id": "4b942306-6fe7-47b7-8e6e-b6774f4127e3",
   "metadata": {},
   "outputs": [],
   "source": [
    "# state_dict = dict()\n",
    "# state_dict['norm.mean'] = model.layers[2].weights[0].numpy()\n",
    "# state_dict['norm.variance'] = model.layers[2].weights[1].numpy()\n",
    "# state_dict['linear_1.weight'] = model.layers[3].weights[0].numpy().T\n",
    "# state_dict['linear_1.bias'] = model.layers[3].weights[1].numpy()\n",
    "# state_dict['linear_2.weight'] = model.layers[5].weights[0].numpy().T\n",
    "# state_dict['linear_2.bias'] = model.layers[5].weights[1].numpy()\n",
    "# state_dict['linear_3.weight'] = model.layers[7].weights[0].numpy().T\n",
    "# state_dict['linear_3.bias'] = model.layers[7].weights[1].numpy()\n",
    "# state_dict['linear_4.weight'] = model.layers[9].weights[0].numpy().T\n",
    "# state_dict['linear_4.bias'] = model.layers[9].weights[1].numpy()\n",
    "\n",
    "# np.savez('./weight/014/lip_autokeras_binary_nsfw.npz', **state_dict)"
   ]
  },
  {
   "cell_type": "code",
   "execution_count": 34,
   "id": "4196cd23-bb0b-4341-b62e-5439621b67be",
   "metadata": {
    "tags": []
   },
   "outputs": [],
   "source": [
    "class Normalization(torch.nn.Module):\n",
    "    def __init__(self, shape):\n",
    "        super().__init__()\n",
    "        self.register_buffer('mean', torch.zeros(shape))\n",
    "        self.register_buffer('variance', torch.ones(shape))\n",
    "\n",
    "    def forward(self, x):\n",
    "        return (x - self.mean) / self.variance.sqrt()\n",
    "\n",
    "class NSFWModel(torch.nn.Module):\n",
    "    def __init__(self):\n",
    "        super().__init__()\n",
    "        self.norm = Normalization([768])\n",
    "        self.linear_1 = torch.nn.Linear(768, 64)\n",
    "        self.linear_2 = torch.nn.Linear(64, 512)\n",
    "        self.linear_3 = torch.nn.Linear(512, 256)\n",
    "        self.linear_4 = torch.nn.Linear(256, 1)\n",
    "        self.act = torch.nn.ReLU()\n",
    "\n",
    "    def forward(self, x):\n",
    "        x = self.norm(x)\n",
    "        x = self.act(self.linear_1(x))\n",
    "        x = self.act(self.linear_2(x))\n",
    "        x = self.act(self.linear_3(x))\n",
    "        x = self.linear_4(x)\n",
    "        return x"
   ]
  },
  {
   "cell_type": "code",
   "execution_count": 48,
   "id": "e5a0bc74-076e-41e0-9db0-f1cf42ddd606",
   "metadata": {
    "tags": []
   },
   "outputs": [
    {
     "data": {
      "text/plain": [
       "<All keys matched successfully>"
      ]
     },
     "execution_count": 48,
     "metadata": {},
     "output_type": "execute_result"
    }
   ],
   "source": [
    "model = NSFWModel().cuda()\n",
    "npz = np.load('./weight/014/clip_autokeras_binary_nsfw.npz')\n",
    "model.load_state_dict({k: torch.tensor(v) for k, v in npz.items()})"
   ]
  },
  {
   "cell_type": "code",
   "execution_count": 33,
   "id": "333aa67d-7ffc-4522-b2f7-ccea48fe4b0d",
   "metadata": {
    "tags": []
   },
   "outputs": [
    {
     "data": {
      "text/plain": [
       "[<matplotlib.lines.Line2D at 0x7f599455c490>]"
      ]
     },
     "execution_count": 33,
     "metadata": {},
     "output_type": "execute_result"
    },
    {
     "data": {
      "image/png": "[encoded data removed]",
      "text/plain": [
       "<Figure size 640x480 with 1 Axes>"
      ]
     },
     "metadata": {},
     "output_type": "display_data"
    }
   ],
   "source": [
    "pyplot.plot(scores, pred[..., 0].detach().cpu().numpy(), '.')"
   ]
  },
  {
   "cell_type": "code",
   "execution_count": 56,
   "id": "d77e4014-ebc7-4aef-871b-2e9fe32bd3d8",
   "metadata": {
    "tags": []
   },
   "outputs": [],
   "source": [
    "npz = np.load('../dataset/scrap/civitai-2023-11-14.npz', allow_pickle=True)\n",
    "\n",
    "id_to_index = {j:i for i, j in enumerate(npz['id'])}"
   ]
  },
  {
   "cell_type": "code",
   "execution_count": 40,
   "id": "52b54a92-320b-41f1-a7c2-b6e87573d294",
   "metadata": {
    "tags": []
   },
   "outputs": [],
   "source": [
    "CLIP_DIR = '../dataset/civitai-stable-diffusion-337k/clip/'"
   ]
  },
  {
   "cell_type": "code",
   "execution_count": 61,
   "id": "52dfbebc-768b-4b91-b874-be768faea666",
   "metadata": {
    "tags": []
   },
   "outputs": [
    {
     "data": {
      "application/vnd.jupyter.widget-view+json": {
       "model_id": "",
       "version_major": 2,
       "version_minor": 0
      },
      "text/plain": [
       "  0%|          | 0/80418 [00:00<?, ?it/s]"
      ]
     },
     "metadata": {},
     "output_type": "display_data"
    }
   ],
   "source": [
    "ids = list()\n",
    "vectors = list()\n",
    "for fname in tqdm(os.listdir(CLIP_DIR), leave=False):\n",
    "    \n",
    "    fid = int(os.path.splitext(fname)[0])\n",
    "    if fid not in id_to_index:\n",
    "        continue\n",
    "    \n",
    "    vectors.append(np.load(os.path.join(CLIP_DIR, fname)))\n",
    "    ids.append(fid)\n",
    "\n",
    "vectors = np.concatenate(vectors, axis=0)\n",
    "indices = list(map(id_to_index.get, ids))"
   ]
  },
  {
   "cell_type": "code",
   "execution_count": 62,
   "id": "cb7174d7-0ebc-4981-a352-f4e8bd8e87d5",
   "metadata": {
    "tags": []
   },
   "outputs": [
    {
     "data": {
      "application/vnd.jupyter.widget-view+json": {
       "model_id": "",
       "version_major": 2,
       "version_minor": 0
      },
      "text/plain": [
       "  0%|          | 0/1236 [00:00<?, ?it/s]"
      ]
     },
     "metadata": {},
     "output_type": "display_data"
    }
   ],
   "source": [
    "scores = get_score_from_embs(vectors, model, BATCH_SIZE)"
   ]
  },
  {
   "cell_type": "code",
   "execution_count": 63,
   "id": "06336da8-e2bb-4b07-8e1b-0427f8af988f",
   "metadata": {
    "tags": []
   },
   "outputs": [],
   "source": [
    "nsfw = npz['nsfw'][indices]"
   ]
  },
  {
   "cell_type": "code",
   "execution_count": 67,
   "id": "8154c73f-06a6-4c21-9c23-dcb1635e0965",
   "metadata": {
    "tags": []
   },
   "outputs": [
    {
     "data": {
      "image/png": "[encoded data removed]",
      "text/plain": [
       "<Figure size 640x480 with 1 Axes>"
      ]
     },
     "metadata": {},
     "output_type": "display_data"
    }
   ],
   "source": [
    "_ = pyplot.hist(scores[nsfw], bins=100, color='red', alpha=0.5)\n",
    "_ = pyplot.hist(scores[~nsfw], bins=100, color='blue', alpha=0.5)"
   ]
  },
  {
   "cell_type": "code",
   "execution_count": null,
   "id": "d4d44622-e9ed-431d-b2d3-56563bb36fa7",
   "metadata": {},
   "outputs": [],
   "source": []
  }
 ],
 "metadata": {
  "kernelspec": {
   "display_name": "kk",
   "language": "python",
   "name": "kk"
  },
  "language_info": {
   "codemirror_mode": {
    "name": "ipython",
    "version": 3
   },
   "file_extension": ".py",
   "mimetype": "text/x-python",
   "name": "python",
   "nbconvert_exporter": "python",
   "pygments_lexer": "ipython3",
   "version": "3.10.13"
  }
 },
 "nbformat": 4,
 "nbformat_minor": 5
}
