{
  "cells": [
    {
      "cell_type": "code",
      "source": [
        "# Clone repo and go to repo's directory\n",
        "!git clone https://github.com/kk-digital/kcg-ml-image-pipeline\n",
        "!cd ./kcg-ml-image-pipeline"
      ],
      "metadata": {
        "colab": {
          "base_uri": "https://localhost:8080/"
        },
        "id": "TpIpcISpenbs",
        "outputId": "363a81f3-9b0c-4b9b-a839-0f73e8630cd4"
      },
      "id": "TpIpcISpenbs",
      "execution_count": null,
      "outputs": [
        {
          "output_type": "stream",
          "name": "stdout",
          "text": [
            "Cloning into 'kcg-ml-image-pipeline'...\n",
            "remote: Enumerating objects: 11233, done.\u001b[K\n",
            "remote: Counting objects: 100% (1429/1429), done.\u001b[K\n",
            "remote: Compressing objects: 100% (491/491), done.\u001b[K\n",
            "remote: Total 11233 (delta 1007), reused 1227 (delta 916), pack-reused 9804\u001b[K\n",
            "Receiving objects: 100% (11233/11233), 68.10 MiB | 19.64 MiB/s, done.\n",
            "Resolving deltas: 100% (7067/7067), done.\n",
            "Updating files: 100% (299/299), done.\n"
          ]
        }
      ]
    },
    {
      "cell_type": "code",
      "source": [
        "# Install requirements\n",
        "!pip install minio torch==2.0.1 torchinfo==1.8.0"
      ],
      "metadata": {
        "colab": {
          "base_uri": "https://localhost:8080/"
        },
        "id": "BhM7tKNRfCsY",
        "outputId": "8514c962-4dbd-4a59-8f89-795c36db706e"
      },
      "id": "BhM7tKNRfCsY",
      "execution_count": null,
      "outputs": [
        {
          "output_type": "stream",
          "name": "stdout",
          "text": [
            "Collecting minio\n",
            "  Downloading minio-7.2.0-py3-none-any.whl (83 kB)\n",
            "\u001b[2K     \u001b[90m━━━━━━━━━━━━━━━━━━━━━━━━━━━━━━━━━━━━━━━━\u001b[0m \u001b[32m83.5/83.5 kB\u001b[0m \u001b[31m259.2 kB/s\u001b[0m eta \u001b[36m0:00:00\u001b[0m\n",
            "\u001b[?25hCollecting torch==2.0.1\n",
            "  Downloading torch-2.0.1-cp310-cp310-manylinux1_x86_64.whl (619.9 MB)\n",
            "\u001b[2K     \u001b[90m━━━━━━━━━━━━━━━━━━━━━━━━━━━━━━━━━━━━━━━━\u001b[0m \u001b[32m619.9/619.9 MB\u001b[0m \u001b[31m2.1 MB/s\u001b[0m eta \u001b[36m0:00:00\u001b[0m\n",
            "\u001b[?25hCollecting torchinfo==1.8.0\n",
            "  Downloading torchinfo-1.8.0-py3-none-any.whl (23 kB)\n",
            "Requirement already satisfied: filelock in /usr/local/lib/python3.10/dist-packages (from torch==2.0.1) (3.13.1)\n",
            "Requirement already satisfied: typing-extensions in /usr/local/lib/python3.10/dist-packages (from torch==2.0.1) (4.5.0)\n",
            "Requirement already satisfied: sympy in /usr/local/lib/python3.10/dist-packages (from torch==2.0.1) (1.12)\n",
            "Requirement already satisfied: networkx in /usr/local/lib/python3.10/dist-packages (from torch==2.0.1) (3.2.1)\n",
            "Requirement already satisfied: jinja2 in /usr/local/lib/python3.10/dist-packages (from torch==2.0.1) (3.1.2)\n",
            "Collecting nvidia-cuda-nvrtc-cu11==11.7.99 (from torch==2.0.1)\n",
            "  Downloading nvidia_cuda_nvrtc_cu11-11.7.99-2-py3-none-manylinux1_x86_64.whl (21.0 MB)\n",
            "\u001b[2K     \u001b[90m━━━━━━━━━━━━━━━━━━━━━━━━━━━━━━━━━━━━━━━━\u001b[0m \u001b[32m21.0/21.0 MB\u001b[0m \u001b[31m69.4 MB/s\u001b[0m eta \u001b[36m0:00:00\u001b[0m\n",
            "\u001b[?25hCollecting nvidia-cuda-runtime-cu11==11.7.99 (from torch==2.0.1)\n",
            "  Downloading nvidia_cuda_runtime_cu11-11.7.99-py3-none-manylinux1_x86_64.whl (849 kB)\n",
            "\u001b[2K     \u001b[90m━━━━━━━━━━━━━━━━━━━━━━━━━━━━━━━━━━━━━━━━\u001b[0m \u001b[32m849.3/849.3 kB\u001b[0m \u001b[31m64.5 MB/s\u001b[0m eta \u001b[36m0:00:00\u001b[0m\n",
            "\u001b[?25hCollecting nvidia-cuda-cupti-cu11==11.7.101 (from torch==2.0.1)\n",
            "  Downloading nvidia_cuda_cupti_cu11-11.7.101-py3-none-manylinux1_x86_64.whl (11.8 MB)\n",
            "\u001b[2K     \u001b[90m━━━━━━━━━━━━━━━━━━━━━━━━━━━━━━━━━━━━━━━━\u001b[0m \u001b[32m11.8/11.8 MB\u001b[0m \u001b[31m94.5 MB/s\u001b[0m eta \u001b[36m0:00:00\u001b[0m\n",
            "\u001b[?25hCollecting nvidia-cudnn-cu11==8.5.0.96 (from torch==2.0.1)\n",
            "  Downloading nvidia_cudnn_cu11-8.5.0.96-2-py3-none-manylinux1_x86_64.whl (557.1 MB)\n",
            "\u001b[2K     \u001b[90m━━━━━━━━━━━━━━━━━━━━━━━━━━━━━━━━━━━━━━━━\u001b[0m \u001b[32m557.1/557.1 MB\u001b[0m \u001b[31m2.8 MB/s\u001b[0m eta \u001b[36m0:00:00\u001b[0m\n",
            "\u001b[?25hCollecting nvidia-cublas-cu11==11.10.3.66 (from torch==2.0.1)\n",
            "  Downloading nvidia_cublas_cu11-11.10.3.66-py3-none-manylinux1_x86_64.whl (317.1 MB)\n",
            "\u001b[2K     \u001b[90m━━━━━━━━━━━━━━━━━━━━━━━━━━━━━━━━━━━━━━━━\u001b[0m \u001b[32m317.1/317.1 MB\u001b[0m \u001b[31m4.6 MB/s\u001b[0m eta \u001b[36m0:00:00\u001b[0m\n",
            "\u001b[?25hCollecting nvidia-cufft-cu11==10.9.0.58 (from torch==2.0.1)\n",
            "  Downloading nvidia_cufft_cu11-10.9.0.58-py3-none-manylinux1_x86_64.whl (168.4 MB)\n",
            "\u001b[2K     \u001b[90m━━━━━━━━━━━━━━━━━━━━━━━━━━━━━━━━━━━━━━━━\u001b[0m \u001b[32m168.4/168.4 MB\u001b[0m \u001b[31m6.3 MB/s\u001b[0m eta \u001b[36m0:00:00\u001b[0m\n",
            "\u001b[?25hCollecting nvidia-curand-cu11==10.2.10.91 (from torch==2.0.1)\n",
            "  Downloading nvidia_curand_cu11-10.2.10.91-py3-none-manylinux1_x86_64.whl (54.6 MB)\n",
            "\u001b[2K     \u001b[90m━━━━━━━━━━━━━━━━━━━━━━━━━━━━━━━━━━━━━━━━\u001b[0m \u001b[32m54.6/54.6 MB\u001b[0m \u001b[31m9.8 MB/s\u001b[0m eta \u001b[36m0:00:00\u001b[0m\n",
            "\u001b[?25hCollecting nvidia-cusolver-cu11==11.4.0.1 (from torch==2.0.1)\n",
            "  Downloading nvidia_cusolver_cu11-11.4.0.1-2-py3-none-manylinux1_x86_64.whl (102.6 MB)\n",
            "\u001b[2K     \u001b[90m━━━━━━━━━━━━━━━━━━━━━━━━━━━━━━━━━━━━━━━━\u001b[0m \u001b[32m102.6/102.6 MB\u001b[0m \u001b[31m8.9 MB/s\u001b[0m eta \u001b[36m0:00:00\u001b[0m\n",
            "\u001b[?25hCollecting nvidia-cusparse-cu11==11.7.4.91 (from torch==2.0.1)\n",
            "  Downloading nvidia_cusparse_cu11-11.7.4.91-py3-none-manylinux1_x86_64.whl (173.2 MB)\n",
            "\u001b[2K     \u001b[90m━━━━━━━━━━━━━━━━━━━━━━━━━━━━━━━━━━━━━━━━\u001b[0m \u001b[32m173.2/173.2 MB\u001b[0m \u001b[31m6.6 MB/s\u001b[0m eta \u001b[36m0:00:00\u001b[0m\n",
            "\u001b[?25hCollecting nvidia-nccl-cu11==2.14.3 (from torch==2.0.1)\n",
            "  Downloading nvidia_nccl_cu11-2.14.3-py3-none-manylinux1_x86_64.whl (177.1 MB)\n",
            "\u001b[2K     \u001b[90m━━━━━━━━━━━━━━━━━━━━━━━━━━━━━━━━━━━━━━━━\u001b[0m \u001b[32m177.1/177.1 MB\u001b[0m \u001b[31m5.8 MB/s\u001b[0m eta \u001b[36m0:00:00\u001b[0m\n",
            "\u001b[?25hCollecting nvidia-nvtx-cu11==11.7.91 (from torch==2.0.1)\n",
            "  Downloading nvidia_nvtx_cu11-11.7.91-py3-none-manylinux1_x86_64.whl (98 kB)\n",
            "\u001b[2K     \u001b[90m━━━━━━━━━━━━━━━━━━━━━━━━━━━━━━━━━━━━━━━━\u001b[0m \u001b[32m98.6/98.6 kB\u001b[0m \u001b[31m12.9 MB/s\u001b[0m eta \u001b[36m0:00:00\u001b[0m\n",
            "\u001b[?25hCollecting triton==2.0.0 (from torch==2.0.1)\n",
            "  Downloading triton-2.0.0-1-cp310-cp310-manylinux2014_x86_64.manylinux_2_17_x86_64.whl (63.3 MB)\n",
            "\u001b[2K     \u001b[90m━━━━━━━━━━━━━━━━━━━━━━━━━━━━━━━━━━━━━━━━\u001b[0m \u001b[32m63.3/63.3 MB\u001b[0m \u001b[31m10.1 MB/s\u001b[0m eta \u001b[36m0:00:00\u001b[0m\n",
            "\u001b[?25hRequirement already satisfied: setuptools in /usr/local/lib/python3.10/dist-packages (from nvidia-cublas-cu11==11.10.3.66->torch==2.0.1) (67.7.2)\n",
            "Requirement already satisfied: wheel in /usr/local/lib/python3.10/dist-packages (from nvidia-cublas-cu11==11.10.3.66->torch==2.0.1) (0.42.0)\n",
            "Requirement already satisfied: cmake in /usr/local/lib/python3.10/dist-packages (from triton==2.0.0->torch==2.0.1) (3.27.7)\n",
            "Collecting lit (from triton==2.0.0->torch==2.0.1)\n",
            "  Downloading lit-17.0.6.tar.gz (153 kB)\n",
            "\u001b[2K     \u001b[90m━━━━━━━━━━━━━━━━━━━━━━━━━━━━━━━━━━━━━━━━\u001b[0m \u001b[32m153.0/153.0 kB\u001b[0m \u001b[31m21.0 MB/s\u001b[0m eta \u001b[36m0:00:00\u001b[0m\n",
            "\u001b[?25h  Installing build dependencies ... \u001b[?25l\u001b[?25hdone\n",
            "  Getting requirements to build wheel ... \u001b[?25l\u001b[?25hdone\n",
            "  Installing backend dependencies ... \u001b[?25l\u001b[?25hdone\n",
            "  Preparing metadata (pyproject.toml) ... \u001b[?25l\u001b[?25hdone\n",
            "Requirement already satisfied: certifi in /usr/local/lib/python3.10/dist-packages (from minio) (2023.11.17)\n",
            "Requirement already satisfied: urllib3 in /usr/local/lib/python3.10/dist-packages (from minio) (2.0.7)\n",
            "Requirement already satisfied: argon2-cffi in /usr/local/lib/python3.10/dist-packages (from minio) (23.1.0)\n",
            "Collecting pycryptodome (from minio)\n",
            "  Downloading pycryptodome-3.19.0-cp35-abi3-manylinux_2_17_x86_64.manylinux2014_x86_64.whl (2.1 MB)\n",
            "\u001b[2K     \u001b[90m━━━━━━━━━━━━━━━━━━━━━━━━━━━━━━━━━━━━━━━━\u001b[0m \u001b[32m2.1/2.1 MB\u001b[0m \u001b[31m93.0 MB/s\u001b[0m eta \u001b[36m0:00:00\u001b[0m\n",
            "\u001b[?25hRequirement already satisfied: argon2-cffi-bindings in /usr/local/lib/python3.10/dist-packages (from argon2-cffi->minio) (21.2.0)\n",
            "Requirement already satisfied: MarkupSafe>=2.0 in /usr/local/lib/python3.10/dist-packages (from jinja2->torch==2.0.1) (2.1.3)\n",
            "Requirement already satisfied: mpmath>=0.19 in /usr/local/lib/python3.10/dist-packages (from sympy->torch==2.0.1) (1.3.0)\n",
            "Requirement already satisfied: cffi>=1.0.1 in /usr/local/lib/python3.10/dist-packages (from argon2-cffi-bindings->argon2-cffi->minio) (1.16.0)\n",
            "Requirement already satisfied: pycparser in /usr/local/lib/python3.10/dist-packages (from cffi>=1.0.1->argon2-cffi-bindings->argon2-cffi->minio) (2.21)\n",
            "Building wheels for collected packages: lit\n",
            "  Building wheel for lit (pyproject.toml) ... \u001b[?25l\u001b[?25hdone\n",
            "  Created wheel for lit: filename=lit-17.0.6-py3-none-any.whl size=93255 sha256=b0099ea17d7578fb50b434f349dffb8fecc5cf78a632ecd59bdf02ed70c236b9\n",
            "  Stored in directory: /root/.cache/pip/wheels/30/dd/04/47d42976a6a86dc2ab66d7518621ae96f43452c8841d74758a\n",
            "Successfully built lit\n",
            "Installing collected packages: lit, torchinfo, pycryptodome, nvidia-nvtx-cu11, nvidia-nccl-cu11, nvidia-cusparse-cu11, nvidia-curand-cu11, nvidia-cufft-cu11, nvidia-cuda-runtime-cu11, nvidia-cuda-nvrtc-cu11, nvidia-cuda-cupti-cu11, nvidia-cublas-cu11, nvidia-cusolver-cu11, nvidia-cudnn-cu11, minio, triton, torch\n",
            "  Attempting uninstall: triton\n",
            "    Found existing installation: triton 2.1.0\n",
            "    Uninstalling triton-2.1.0:\n",
            "      Successfully uninstalled triton-2.1.0\n",
            "  Attempting uninstall: torch\n",
            "    Found existing installation: torch 2.1.0+cu118\n",
            "    Uninstalling torch-2.1.0+cu118:\n",
            "      Successfully uninstalled torch-2.1.0+cu118\n",
            "\u001b[31mERROR: pip's dependency resolver does not currently take into account all the packages that are installed. This behaviour is the source of the following dependency conflicts.\n",
            "torchaudio 2.1.0+cu118 requires torch==2.1.0, but you have torch 2.0.1 which is incompatible.\n",
            "torchdata 0.7.0 requires torch==2.1.0, but you have torch 2.0.1 which is incompatible.\n",
            "torchtext 0.16.0 requires torch==2.1.0, but you have torch 2.0.1 which is incompatible.\n",
            "torchvision 0.16.0+cu118 requires torch==2.1.0, but you have torch 2.0.1 which is incompatible.\u001b[0m\u001b[31m\n",
            "\u001b[0mSuccessfully installed lit-17.0.6 minio-7.2.0 nvidia-cublas-cu11-11.10.3.66 nvidia-cuda-cupti-cu11-11.7.101 nvidia-cuda-nvrtc-cu11-11.7.99 nvidia-cuda-runtime-cu11-11.7.99 nvidia-cudnn-cu11-8.5.0.96 nvidia-cufft-cu11-10.9.0.58 nvidia-curand-cu11-10.2.10.91 nvidia-cusolver-cu11-11.4.0.1 nvidia-cusparse-cu11-11.7.4.91 nvidia-nccl-cu11-2.14.3 nvidia-nvtx-cu11-11.7.91 pycryptodome-3.19.0 torch-2.0.1 torchinfo-1.8.0 triton-2.0.0\n"
          ]
        }
      ]
    },
    {
      "cell_type": "code",
      "source": [
        "# Get minio client\n",
        "MINIO_ADDRESS = \"123.176.98.90:9000\"\n",
        "access_key = \"GXvqLWtthELCaROPITOG\"\n",
        "secret_key = \"DmlKgey5u0DnMHP30Vg7rkLT0NNbNIGaM8IwPckD\"\n",
        "\n",
        "import sys\n",
        "import os\n",
        "import io\n",
        "sys.path.append(os.path.abspath('./kcg-ml-image-pipeline/'))\n",
        "from training_worker.ab_ranking.model.ab_ranking_linear import ABRankingModel as ABRankingLinearModel\n",
        "from utility.minio.cmd import is_minio_server_accessible, connect_to_minio_client, download_from_minio, get_file_from_minio\n",
        "\n",
        "minio_client = connect_to_minio_client(MINIO_ADDRESS, access_key, secret_key)\n"
      ],
      "metadata": {
        "colab": {
          "base_uri": "https://localhost:8080/"
        },
        "id": "FASOesaZhl6h",
        "outputId": "4ce8dde5-39fb-4731-eaaf-f0cca19cb7e3"
      },
      "id": "FASOesaZhl6h",
      "execution_count": null,
      "outputs": [
        {
          "output_type": "stream",
          "name": "stdout",
          "text": [
            "Connecting to minio client...\n",
            "Successfully connected to minio client...\n"
          ]
        }
      ]
    },
    {
      "cell_type": "code",
      "source": [
        "import torch\n",
        "# get linear positive embedding model\n",
        "linear_model_path = \"environmental/models/ranking/2023-12-08-00-score-linear-embedding-positive.pth\"\n",
        "\n",
        "\n",
        "model_file_data = get_file_from_minio(minio_client, 'datasets', linear_model_path)\n",
        "if not model_file_data:\n",
        "    raise Exception(\"No model file found at path: \", linear_model_path)\n",
        "\n",
        "byte_buffer = io.BytesIO()\n",
        "for data in model_file_data.stream(amt=8192):\n",
        "    byte_buffer.write(data)\n",
        "byte_buffer.seek(0)\n",
        "\n",
        "linear_model = ABRankingLinearModel(inputs_shape=768)\n",
        "model = torch.load(byte_buffer, map_location=torch.device('cpu'))\n",
        "linear_model.model.load_state_dict(model['model_dict'])\n"
      ],
      "metadata": {
        "id": "BLzlCnrsh-r6",
        "colab": {
          "base_uri": "https://localhost:8080/"
        },
        "outputId": "a49a9fab-bb1c-4564-ffc4-97271caeb9b9"
      },
      "id": "BLzlCnrsh-r6",
      "execution_count": null,
      "outputs": [
        {
          "output_type": "execute_result",
          "data": {
            "text/plain": [
              "<All keys matched successfully>"
            ]
          },
          "metadata": {},
          "execution_count": 42
        }
      ]
    },
    {
      "cell_type": "code",
      "source": [
        "# Get CLIP model\n",
        "import math\n",
        "import os\n",
        "import time\n",
        "\n",
        "import requests\n",
        "from tqdm import tqdm\n",
        "\n",
        "from configs import model_config\n",
        "from utility.utils_logger import logger\n",
        "from utility.labml.monit import section\n",
        "from utility.minio.cmd import is_minio_server_accessible, connect_to_minio_client, download_from_minio\n",
        "\n",
        "# create dirs\n",
        "if not os.path.exists(\"input/model\"):\n",
        "  os.makedirs(\"input/model\")\n",
        "if not os.path.exists(\"./output\"):\n",
        "  os.makedirs(\"output\")\n",
        "\n",
        "config = model_config.ModelPathConfig()\n",
        "\n",
        "def create_directory_tree_folders(config):\n",
        "    config.create_paths()\n",
        "\n",
        "with section(\"Creating directory tree folders.\"):\n",
        "    create_directory_tree_folders(config)\n",
        "\n",
        "logger.info(\"Downloading models. This may take a while.\")\n",
        "\n",
        "with section(\"Downloading CLIP model from minio\"):\n",
        "    # DOWNLOAD_BASE_CLIP_MODEL\n",
        "    clip_path = \"./kcg-ml-image-pipeline/input/model/clip/vit-large-patch14/model.safetensors\"\n",
        "\n",
        "    bucket_name = \"models\"\n",
        "    object_name = \"clip-vit-large-patch14/model.safetensors\"\n",
        "    download_from_minio(minio_client, bucket_name, object_name, clip_path)\n",
        "\n",
        "!cp ./kcg-ml-image-pipeline/input/model/clip/vit-large-patch14/model.safetensors ./kcg-ml-image-pipeline/input/model/clip/txt_emb_model\n",
        "!cp -r ./kcg-ml-image-pipeline/input ./"
      ],
      "metadata": {
        "colab": {
          "base_uri": "https://localhost:8080/"
        },
        "id": "zCwOKS5wjg34",
        "outputId": "3c8202e0-c3de-4b1c-d748-c35fafbb8c99"
      },
      "id": "zCwOKS5wjg34",
      "execution_count": null,
      "outputs": [
        {
          "output_type": "stream",
          "name": "stderr",
          "text": [
            "INFO:root:All model paths have been created.\n"
          ]
        },
        {
          "output_type": "stream",
          "name": "stdout",
          "text": [
            "\r                                                                                                    \rCreating directory tree folders.\u001b[32m...[DONE]\u001b[0m\u001b[34m\t5.47ms\u001b[0m\n"
          ]
        },
        {
          "output_type": "stream",
          "name": "stderr",
          "text": [
            "INFO:root:Downloading models. This may take a while.\n"
          ]
        },
        {
          "output_type": "stream",
          "name": "stdout",
          "text": [
            "\u001b[1;32mINFO: Downloading models. This may take a while.\u001b[0m\n",
            "Downloading CLIP model from minio\u001b[32m...[DONE]\u001b[0m\u001b[34m\t158,879.48ms\u001b[0m\n"
          ]
        }
      ]
    },
    {
      "cell_type": "code",
      "source": [
        "# Process CLIP model\n",
        "from stable_diffusion.model.clip_text_embedder import CLIPTextEmbedder\n",
        "\n",
        "# CLIP\n",
        "text_embedder = CLIPTextEmbedder()\n",
        "text_embedder.load_submodels()"
      ],
      "metadata": {
        "colab": {
          "base_uri": "https://localhost:8080/"
        },
        "id": "m0Goc_DmrTzf",
        "outputId": "27524750-5cb8-4a30-8acb-0b9a98b0686c"
      },
      "id": "m0Goc_DmrTzf",
      "execution_count": null,
      "outputs": [
        {
          "output_type": "stream",
          "name": "stderr",
          "text": [
            "WARNING:root:You are running this script without CUDA or MPS (current device: cpu). It may be very slow\n"
          ]
        },
        {
          "output_type": "stream",
          "name": "stdout",
          "text": [
            "\u001b[1;33mWARNING: You are running this script without CUDA or MPS (current device: cpu). It may be very slow\u001b[0m\n"
          ]
        },
        {
          "output_type": "stream",
          "name": "stderr",
          "text": [
            "Some weights of the model checkpoint at ./input/model/clip/txt_emb_model were not used when initializing CLIPTextModel: ['vision_model.encoder.layers.9.layer_norm2.weight', 'vision_model.encoder.layers.0.self_attn.out_proj.bias', 'vision_model.encoder.layers.12.self_attn.q_proj.weight', 'vision_model.encoder.layers.13.layer_norm2.bias', 'vision_model.encoder.layers.7.self_attn.k_proj.bias', 'vision_model.encoder.layers.16.layer_norm1.bias', 'vision_model.encoder.layers.13.layer_norm1.weight', 'vision_model.encoder.layers.21.self_attn.k_proj.bias', 'vision_model.encoder.layers.14.layer_norm2.weight', 'vision_model.encoder.layers.0.mlp.fc2.weight', 'vision_model.encoder.layers.3.layer_norm2.bias', 'vision_model.encoder.layers.3.self_attn.k_proj.weight', 'vision_model.encoder.layers.0.mlp.fc1.weight', 'vision_model.encoder.layers.22.self_attn.k_proj.bias', 'vision_model.encoder.layers.8.layer_norm2.weight', 'vision_model.embeddings.patch_embedding.weight', 'vision_model.encoder.layers.1.layer_norm1.weight', 'vision_model.encoder.layers.15.mlp.fc1.weight', 'vision_model.encoder.layers.10.mlp.fc2.weight', 'vision_model.encoder.layers.4.layer_norm2.bias', 'vision_model.encoder.layers.15.layer_norm1.weight', 'vision_model.encoder.layers.13.mlp.fc2.weight', 'vision_model.encoder.layers.14.self_attn.v_proj.bias', 'vision_model.encoder.layers.17.layer_norm1.bias', 'vision_model.encoder.layers.11.self_attn.v_proj.bias', 'vision_model.encoder.layers.11.self_attn.out_proj.bias', 'vision_model.encoder.layers.18.self_attn.out_proj.weight', 'vision_model.encoder.layers.6.layer_norm1.weight', 'vision_model.encoder.layers.13.self_attn.k_proj.weight', 'vision_model.encoder.layers.8.layer_norm1.bias', 'vision_model.encoder.layers.17.self_attn.out_proj.weight', 'vision_model.encoder.layers.10.mlp.fc1.bias', 'vision_model.encoder.layers.7.layer_norm2.bias', 'vision_model.encoder.layers.17.mlp.fc1.weight', 'vision_model.encoder.layers.17.self_attn.v_proj.weight', 'vision_model.encoder.layers.2.self_attn.v_proj.weight', 'vision_model.encoder.layers.13.self_attn.out_proj.bias', 'vision_model.encoder.layers.8.mlp.fc1.bias', 'vision_model.encoder.layers.8.mlp.fc2.bias', 'vision_model.encoder.layers.19.self_attn.v_proj.bias', 'vision_model.encoder.layers.20.layer_norm1.weight', 'vision_model.encoder.layers.9.self_attn.k_proj.bias', 'vision_model.encoder.layers.2.self_attn.out_proj.weight', 'vision_model.encoder.layers.6.mlp.fc1.weight', 'vision_model.encoder.layers.11.self_attn.q_proj.weight', 'vision_model.encoder.layers.14.self_attn.q_proj.bias', 'vision_model.encoder.layers.20.layer_norm2.weight', 'vision_model.encoder.layers.7.mlp.fc2.weight', 'vision_model.encoder.layers.16.self_attn.out_proj.bias', 'vision_model.encoder.layers.7.self_attn.out_proj.weight', 'vision_model.encoder.layers.23.self_attn.v_proj.weight', 'vision_model.encoder.layers.23.mlp.fc1.weight', 'vision_model.encoder.layers.11.mlp.fc1.weight', 'vision_model.encoder.layers.21.layer_norm1.weight', 'vision_model.encoder.layers.13.self_attn.q_proj.weight', 'vision_model.encoder.layers.7.self_attn.v_proj.bias', 'vision_model.encoder.layers.21.mlp.fc2.bias', 'vision_model.encoder.layers.7.self_attn.v_proj.weight', 'vision_model.encoder.layers.8.self_attn.q_proj.bias', 'vision_model.encoder.layers.4.mlp.fc2.bias', 'vision_model.encoder.layers.7.mlp.fc2.bias', 'vision_model.encoder.layers.1.self_attn.k_proj.weight', 'vision_model.encoder.layers.13.layer_norm2.weight', 'vision_model.encoder.layers.5.layer_norm2.weight', 'vision_model.encoder.layers.11.mlp.fc2.weight', 'vision_model.encoder.layers.16.self_attn.q_proj.weight', 'vision_model.encoder.layers.5.self_attn.k_proj.bias', 'vision_model.encoder.layers.3.mlp.fc2.weight', 'vision_model.encoder.layers.0.self_attn.k_proj.weight', 'vision_model.encoder.layers.21.self_attn.v_proj.bias', 'vision_model.encoder.layers.21.mlp.fc2.weight', 'vision_model.encoder.layers.18.mlp.fc1.weight', 'vision_model.encoder.layers.16.mlp.fc1.bias', 'vision_model.encoder.layers.0.self_attn.out_proj.weight', 'vision_model.encoder.layers.3.mlp.fc2.bias', 'vision_model.encoder.layers.13.self_attn.q_proj.bias', 'vision_model.encoder.layers.19.mlp.fc1.weight', 'vision_model.encoder.layers.9.self_attn.k_proj.weight', 'vision_model.encoder.layers.6.self_attn.q_proj.weight', 'vision_model.encoder.layers.15.self_attn.out_proj.bias', 'vision_model.encoder.layers.15.mlp.fc2.weight', 'vision_model.pre_layrnorm.weight', 'vision_model.encoder.layers.9.mlp.fc2.weight', 'vision_model.encoder.layers.13.self_attn.k_proj.bias', 'vision_model.encoder.layers.0.layer_norm2.weight', 'vision_model.encoder.layers.10.mlp.fc2.bias', 'vision_model.encoder.layers.19.mlp.fc2.bias', 'vision_model.encoder.layers.15.self_attn.v_proj.bias', 'vision_model.encoder.layers.23.layer_norm2.bias', 'vision_model.encoder.layers.14.mlp.fc1.bias', 'vision_model.encoder.layers.8.self_attn.k_proj.bias', 'vision_model.encoder.layers.21.self_attn.out_proj.weight', 'vision_model.encoder.layers.9.layer_norm2.bias', 'vision_model.encoder.layers.22.mlp.fc2.weight', 'vision_model.encoder.layers.23.layer_norm1.bias', 'vision_model.encoder.layers.8.self_attn.k_proj.weight', 'vision_model.encoder.layers.4.self_attn.k_proj.bias', 'vision_model.encoder.layers.19.self_attn.out_proj.weight', 'vision_model.encoder.layers.2.layer_norm1.bias', 'vision_model.encoder.layers.20.self_attn.out_proj.weight', 'vision_model.encoder.layers.13.self_attn.out_proj.weight', 'vision_model.encoder.layers.22.layer_norm2.bias', 'vision_model.encoder.layers.0.layer_norm2.bias', 'vision_model.encoder.layers.11.layer_norm1.weight', 'vision_model.encoder.layers.6.mlp.fc1.bias', 'vision_model.encoder.layers.4.self_attn.v_proj.bias', 'vision_model.encoder.layers.23.mlp.fc2.weight', 'vision_model.encoder.layers.3.self_attn.out_proj.weight', 'vision_model.encoder.layers.1.mlp.fc2.bias', 'vision_model.encoder.layers.16.layer_norm2.weight', 'vision_model.encoder.layers.6.self_attn.out_proj.bias', 'vision_model.encoder.layers.4.self_attn.out_proj.weight', 'vision_model.encoder.layers.20.self_attn.k_proj.bias', 'vision_model.encoder.layers.1.layer_norm1.bias', 'vision_model.encoder.layers.4.self_attn.q_proj.weight', 'vision_model.encoder.layers.0.self_attn.v_proj.weight', 'vision_model.encoder.layers.17.self_attn.k_proj.bias', 'vision_model.encoder.layers.3.self_attn.q_proj.weight', 'vision_model.encoder.layers.12.self_attn.v_proj.bias', 'vision_model.encoder.layers.17.layer_norm2.weight', 'vision_model.encoder.layers.9.mlp.fc1.bias', 'vision_model.encoder.layers.3.self_attn.out_proj.bias', 'vision_model.encoder.layers.12.self_attn.v_proj.weight', 'vision_model.encoder.layers.22.self_attn.v_proj.bias', 'vision_model.pre_layrnorm.bias', 'vision_model.encoder.layers.8.self_attn.v_proj.bias', 'vision_model.encoder.layers.6.self_attn.k_proj.bias', 'vision_model.encoder.layers.11.self_attn.q_proj.bias', 'vision_model.encoder.layers.19.self_attn.q_proj.bias', 'vision_model.encoder.layers.4.layer_norm1.weight', 'vision_model.embeddings.position_embedding.weight', 'vision_model.encoder.layers.18.layer_norm1.bias', 'vision_model.encoder.layers.1.self_attn.v_proj.weight', 'vision_model.encoder.layers.16.self_attn.v_proj.weight', 'vision_model.encoder.layers.5.self_attn.v_proj.bias', 'vision_model.encoder.layers.13.self_attn.v_proj.weight', 'vision_model.encoder.layers.16.layer_norm2.bias', 'vision_model.encoder.layers.15.self_attn.v_proj.weight', 'vision_model.encoder.layers.5.mlp.fc1.bias', 'vision_model.encoder.layers.13.layer_norm1.bias', 'vision_model.encoder.layers.0.mlp.fc2.bias', 'vision_model.encoder.layers.21.mlp.fc1.weight', 'vision_model.encoder.layers.7.self_attn.k_proj.weight', 'vision_model.encoder.layers.4.layer_norm2.weight', 'vision_model.encoder.layers.7.mlp.fc1.bias', 'vision_model.encoder.layers.11.self_attn.k_proj.weight', 'vision_model.encoder.layers.14.mlp.fc1.weight', 'vision_model.encoder.layers.1.mlp.fc1.bias', 'vision_model.encoder.layers.19.layer_norm1.bias', 'visual_projection.weight', 'vision_model.encoder.layers.19.self_attn.q_proj.weight', 'vision_model.encoder.layers.4.mlp.fc1.bias', 'vision_model.encoder.layers.23.layer_norm2.weight', 'vision_model.encoder.layers.6.self_attn.q_proj.bias', 'vision_model.encoder.layers.23.layer_norm1.weight', 'vision_model.encoder.layers.3.self_attn.v_proj.weight', 'vision_model.encoder.layers.5.self_attn.v_proj.weight', 'vision_model.post_layernorm.bias', 'vision_model.encoder.layers.10.layer_norm2.bias', 'vision_model.encoder.layers.9.self_attn.out_proj.weight', 'vision_model.encoder.layers.2.self_attn.k_proj.weight', 'vision_model.encoder.layers.16.self_attn.v_proj.bias', 'text_projection.weight', 'vision_model.encoder.layers.16.self_attn.out_proj.weight', 'vision_model.encoder.layers.20.self_attn.q_proj.bias', 'vision_model.encoder.layers.6.self_attn.k_proj.weight', 'vision_model.encoder.layers.12.self_attn.out_proj.bias', 'vision_model.encoder.layers.1.mlp.fc1.weight', 'vision_model.encoder.layers.12.self_attn.out_proj.weight', 'vision_model.encoder.layers.23.self_attn.k_proj.weight', 'vision_model.encoder.layers.19.mlp.fc1.bias', 'vision_model.encoder.layers.4.layer_norm1.bias', 'vision_model.encoder.layers.21.self_attn.v_proj.weight', 'vision_model.encoder.layers.20.mlp.fc2.weight', 'vision_model.encoder.layers.0.self_attn.k_proj.bias', 'vision_model.encoder.layers.2.self_attn.k_proj.bias', 'vision_model.encoder.layers.4.mlp.fc2.weight', 'vision_model.encoder.layers.19.layer_norm2.bias', 'vision_model.encoder.layers.18.mlp.fc2.weight', 'vision_model.encoder.layers.21.self_attn.k_proj.weight', 'vision_model.encoder.layers.3.layer_norm2.weight', 'vision_model.encoder.layers.22.self_attn.q_proj.weight', 'vision_model.encoder.layers.7.self_attn.q_proj.weight', 'vision_model.encoder.layers.17.layer_norm2.bias', 'vision_model.encoder.layers.1.self_attn.out_proj.bias', 'vision_model.encoder.layers.10.layer_norm1.weight', 'vision_model.encoder.layers.5.self_attn.k_proj.weight', 'vision_model.encoder.layers.14.mlp.fc2.weight', 'vision_model.encoder.layers.6.mlp.fc2.bias', 'vision_model.encoder.layers.22.self_attn.v_proj.weight', 'vision_model.encoder.layers.6.self_attn.out_proj.weight', 'vision_model.encoder.layers.10.layer_norm1.bias', 'vision_model.encoder.layers.12.layer_norm2.weight', 'vision_model.encoder.layers.22.mlp.fc1.weight', 'vision_model.encoder.layers.11.layer_norm2.bias', 'vision_model.encoder.layers.21.self_attn.out_proj.bias', 'vision_model.encoder.layers.9.self_attn.q_proj.weight', 'vision_model.encoder.layers.12.layer_norm2.bias', 'vision_model.encoder.layers.15.mlp.fc2.bias', 'vision_model.encoder.layers.18.self_attn.k_proj.bias', 'vision_model.encoder.layers.11.self_attn.out_proj.weight', 'vision_model.encoder.layers.8.self_attn.out_proj.bias', 'vision_model.encoder.layers.16.mlp.fc2.weight', 'vision_model.encoder.layers.4.self_attn.q_proj.bias', 'vision_model.encoder.layers.20.layer_norm2.bias', 'vision_model.encoder.layers.21.mlp.fc1.bias', 'vision_model.encoder.layers.20.self_attn.v_proj.weight', 'vision_model.encoder.layers.6.layer_norm2.weight', 'vision_model.encoder.layers.7.layer_norm1.bias', 'vision_model.encoder.layers.1.self_attn.out_proj.weight', 'vision_model.encoder.layers.8.layer_norm2.bias', 'vision_model.encoder.layers.7.layer_norm2.weight', 'vision_model.encoder.layers.11.self_attn.v_proj.weight', 'vision_model.encoder.layers.17.mlp.fc2.weight', 'vision_model.encoder.layers.17.self_attn.q_proj.bias', 'vision_model.encoder.layers.18.self_attn.v_proj.weight', 'vision_model.encoder.layers.16.self_attn.k_proj.bias', 'vision_model.encoder.layers.10.self_attn.k_proj.bias', 'vision_model.encoder.layers.18.layer_norm2.bias', 'vision_model.encoder.layers.10.mlp.fc1.weight', 'vision_model.encoder.layers.23.self_attn.out_proj.bias', 'vision_model.encoder.layers.10.self_attn.q_proj.weight', 'vision_model.encoder.layers.4.self_attn.out_proj.bias', 'vision_model.encoder.layers.18.mlp.fc1.bias', 'vision_model.encoder.layers.11.layer_norm2.weight', 'vision_model.encoder.layers.22.layer_norm2.weight', 'vision_model.encoder.layers.6.layer_norm2.bias', 'vision_model.encoder.layers.13.mlp.fc2.bias', 'vision_model.encoder.layers.23.self_attn.k_proj.bias', 'vision_model.encoder.layers.22.layer_norm1.weight', 'vision_model.encoder.layers.19.self_attn.out_proj.bias', 'vision_model.encoder.layers.21.layer_norm2.bias', 'vision_model.encoder.layers.14.self_attn.k_proj.weight', 'vision_model.encoder.layers.12.mlp.fc2.bias', 'vision_model.encoder.layers.2.layer_norm1.weight', 'vision_model.encoder.layers.18.self_attn.q_proj.weight', 'vision_model.encoder.layers.15.self_attn.k_proj.bias', 'vision_model.encoder.layers.2.self_attn.out_proj.bias', 'vision_model.encoder.layers.22.self_attn.out_proj.bias', 'vision_model.encoder.layers.15.self_attn.q_proj.bias', 'vision_model.encoder.layers.3.mlp.fc1.weight', 'vision_model.encoder.layers.9.mlp.fc1.weight', 'vision_model.encoder.layers.14.self_attn.k_proj.bias', 'vision_model.encoder.layers.12.self_attn.q_proj.bias', 'vision_model.embeddings.position_ids', 'vision_model.encoder.layers.17.mlp.fc2.bias', 'vision_model.encoder.layers.16.layer_norm1.weight', 'vision_model.encoder.layers.18.self_attn.q_proj.bias', 'vision_model.encoder.layers.23.self_attn.q_proj.bias', 'vision_model.encoder.layers.22.self_attn.q_proj.bias', 'logit_scale', 'vision_model.encoder.layers.4.mlp.fc1.weight', 'vision_model.encoder.layers.2.layer_norm2.bias', 'vision_model.encoder.layers.5.mlp.fc2.bias', 'vision_model.encoder.layers.4.self_attn.k_proj.weight', 'vision_model.encoder.layers.17.self_attn.k_proj.weight', 'vision_model.encoder.layers.3.layer_norm1.weight', 'vision_model.encoder.layers.5.layer_norm1.weight', 'vision_model.encoder.layers.14.self_attn.q_proj.weight', 'vision_model.encoder.layers.16.self_attn.k_proj.weight', 'vision_model.encoder.layers.8.self_attn.q_proj.weight', 'vision_model.encoder.layers.0.layer_norm1.weight', 'vision_model.encoder.layers.13.mlp.fc1.bias', 'vision_model.encoder.layers.20.mlp.fc1.bias', 'vision_model.encoder.layers.11.mlp.fc1.bias', 'vision_model.encoder.layers.18.self_attn.v_proj.bias', 'vision_model.encoder.layers.0.mlp.fc1.bias', 'vision_model.encoder.layers.19.self_attn.k_proj.bias', 'vision_model.encoder.layers.2.mlp.fc2.weight', 'vision_model.encoder.layers.18.mlp.fc2.bias', 'vision_model.encoder.layers.10.layer_norm2.weight', 'vision_model.encoder.layers.3.self_attn.k_proj.bias', 'vision_model.encoder.layers.1.self_attn.k_proj.bias', 'vision_model.encoder.layers.20.self_attn.k_proj.weight', 'vision_model.encoder.layers.14.layer_norm2.bias', 'vision_model.encoder.layers.11.layer_norm1.bias', 'vision_model.encoder.layers.20.mlp.fc2.bias', 'vision_model.encoder.layers.10.self_attn.q_proj.bias', 'vision_model.encoder.layers.8.self_attn.out_proj.weight', 'vision_model.encoder.layers.8.self_attn.v_proj.weight', 'vision_model.encoder.layers.19.self_attn.k_proj.weight', 'vision_model.encoder.layers.0.self_attn.q_proj.bias', 'vision_model.encoder.layers.1.self_attn.v_proj.bias', 'vision_model.encoder.layers.21.self_attn.q_proj.weight', 'vision_model.encoder.layers.7.self_attn.out_proj.bias', 'vision_model.encoder.layers.12.self_attn.k_proj.bias', 'vision_model.encoder.layers.2.self_attn.q_proj.bias', 'vision_model.encoder.layers.9.layer_norm1.weight', 'vision_model.encoder.layers.14.self_attn.v_proj.weight', 'vision_model.encoder.layers.9.mlp.fc2.bias', 'vision_model.encoder.layers.0.self_attn.q_proj.weight', 'vision_model.encoder.layers.12.self_attn.k_proj.weight', 'vision_model.encoder.layers.17.layer_norm1.weight', 'vision_model.encoder.layers.2.self_attn.q_proj.weight', 'vision_model.encoder.layers.17.mlp.fc1.bias', 'vision_model.encoder.layers.9.layer_norm1.bias', 'vision_model.encoder.layers.12.mlp.fc1.weight', 'vision_model.encoder.layers.22.mlp.fc1.bias', 'vision_model.encoder.layers.4.self_attn.v_proj.weight', 'vision_model.encoder.layers.17.self_attn.q_proj.weight', 'vision_model.encoder.layers.18.layer_norm2.weight', 'vision_model.encoder.layers.10.self_attn.out_proj.weight', 'vision_model.encoder.layers.15.self_attn.q_proj.weight', 'vision_model.encoder.layers.10.self_attn.k_proj.weight', 'vision_model.encoder.layers.10.self_attn.v_proj.bias', 'vision_model.encoder.layers.14.layer_norm1.weight', 'vision_model.encoder.layers.8.layer_norm1.weight', 'vision_model.encoder.layers.19.layer_norm1.weight', 'vision_model.encoder.layers.15.layer_norm1.bias', 'vision_model.encoder.layers.5.self_attn.q_proj.bias', 'vision_model.encoder.layers.3.self_attn.q_proj.bias', 'vision_model.encoder.layers.23.mlp.fc1.bias', 'vision_model.encoder.layers.8.mlp.fc1.weight', 'vision_model.encoder.layers.1.mlp.fc2.weight', 'vision_model.encoder.layers.21.layer_norm2.weight', 'vision_model.encoder.layers.13.self_attn.v_proj.bias', 'vision_model.encoder.layers.3.self_attn.v_proj.bias', 'vision_model.encoder.layers.16.mlp.fc1.weight', 'vision_model.encoder.layers.22.self_attn.k_proj.weight', 'vision_model.encoder.layers.16.mlp.fc2.bias', 'vision_model.encoder.layers.2.mlp.fc2.bias', 'vision_model.encoder.layers.14.self_attn.out_proj.bias', 'vision_model.encoder.layers.1.layer_norm2.bias', 'vision_model.encoder.layers.5.layer_norm2.bias', 'vision_model.encoder.layers.18.self_attn.k_proj.weight', 'vision_model.encoder.layers.13.mlp.fc1.weight', 'vision_model.encoder.layers.14.layer_norm1.bias', 'vision_model.encoder.layers.14.self_attn.out_proj.weight', 'vision_model.encoder.layers.22.mlp.fc2.bias', 'vision_model.encoder.layers.23.self_attn.q_proj.weight', 'vision_model.encoder.layers.20.self_attn.v_proj.bias', 'vision_model.encoder.layers.10.self_attn.v_proj.weight', 'vision_model.encoder.layers.12.layer_norm1.weight', 'vision_model.encoder.layers.6.mlp.fc2.weight', 'vision_model.encoder.layers.8.mlp.fc2.weight', 'vision_model.encoder.layers.12.layer_norm1.bias', 'vision_model.encoder.layers.5.mlp.fc1.weight', 'vision_model.encoder.layers.7.self_attn.q_proj.bias', 'vision_model.encoder.layers.1.layer_norm2.weight', 'vision_model.encoder.layers.2.mlp.fc1.weight', 'vision_model.encoder.layers.21.self_attn.q_proj.bias', 'vision_model.encoder.layers.22.layer_norm1.bias', 'vision_model.encoder.layers.3.mlp.fc1.bias', 'vision_model.encoder.layers.20.self_attn.q_proj.weight', 'vision_model.encoder.layers.9.self_attn.out_proj.bias', 'vision_model.encoder.layers.17.self_attn.out_proj.bias', 'vision_model.encoder.layers.16.self_attn.q_proj.bias', 'vision_model.encoder.layers.10.self_attn.out_proj.bias', 'vision_model.encoder.layers.22.self_attn.out_proj.weight', 'vision_model.encoder.layers.5.self_attn.out_proj.bias', 'vision_model.encoder.layers.20.mlp.fc1.weight', 'vision_model.encoder.layers.23.mlp.fc2.bias', 'vision_model.encoder.layers.18.self_attn.out_proj.bias', 'vision_model.encoder.layers.5.mlp.fc2.weight', 'vision_model.encoder.layers.0.self_attn.v_proj.bias', 'vision_model.encoder.layers.19.mlp.fc2.weight', 'vision_model.encoder.layers.20.layer_norm1.bias', 'vision_model.encoder.layers.15.self_attn.k_proj.weight', 'vision_model.encoder.layers.7.layer_norm1.weight', 'vision_model.encoder.layers.11.mlp.fc2.bias', 'vision_model.encoder.layers.2.self_attn.v_proj.bias', 'vision_model.encoder.layers.21.layer_norm1.bias', 'vision_model.encoder.layers.9.self_attn.v_proj.bias', 'vision_model.encoder.layers.6.self_attn.v_proj.bias', 'vision_model.encoder.layers.23.self_attn.v_proj.bias', 'vision_model.encoder.layers.1.self_attn.q_proj.weight', 'vision_model.encoder.layers.6.layer_norm1.bias', 'vision_model.encoder.layers.9.self_attn.v_proj.weight', 'vision_model.encoder.layers.23.self_attn.out_proj.weight', 'vision_model.post_layernorm.weight', 'vision_model.encoder.layers.15.layer_norm2.weight', 'vision_model.encoder.layers.5.layer_norm1.bias', 'vision_model.encoder.layers.6.self_attn.v_proj.weight', 'vision_model.encoder.layers.17.self_attn.v_proj.bias', 'vision_model.encoder.layers.19.layer_norm2.weight', 'vision_model.encoder.layers.0.layer_norm1.bias', 'vision_model.encoder.layers.12.mlp.fc1.bias', 'vision_model.encoder.layers.15.layer_norm2.bias', 'vision_model.encoder.layers.20.self_attn.out_proj.bias', 'vision_model.encoder.layers.5.self_attn.q_proj.weight', 'vision_model.encoder.layers.9.self_attn.q_proj.bias', 'vision_model.encoder.layers.15.self_attn.out_proj.weight', 'vision_model.encoder.layers.2.mlp.fc1.bias', 'vision_model.encoder.layers.12.mlp.fc2.weight', 'vision_model.encoder.layers.5.self_attn.out_proj.weight', 'vision_model.encoder.layers.18.layer_norm1.weight', 'vision_model.encoder.layers.19.self_attn.v_proj.weight', 'vision_model.encoder.layers.11.self_attn.k_proj.bias', 'vision_model.encoder.layers.14.mlp.fc2.bias', 'vision_model.encoder.layers.15.mlp.fc1.bias', 'vision_model.encoder.layers.1.self_attn.q_proj.bias', 'vision_model.encoder.layers.7.mlp.fc1.weight', 'vision_model.encoder.layers.3.layer_norm1.bias', 'vision_model.encoder.layers.2.layer_norm2.weight', 'vision_model.embeddings.class_embedding']\n",
            "- This IS expected if you are initializing CLIPTextModel from the checkpoint of a model trained on another task or with another architecture (e.g. initializing a BertForSequenceClassification model from a BertForPreTraining model).\n",
            "- This IS NOT expected if you are initializing CLIPTextModel from the checkpoint of a model that you expect to be exactly identical (initializing a BertForSequenceClassification model from a BertForSequenceClassification model).\n"
          ]
        },
        {
          "output_type": "stream",
          "name": "stdout",
          "text": [
            "\r                                                                                                    \rLoading tokenizer and transformer\u001b[32m...[DONE]\u001b[0m\u001b[34m\t5,558.92ms\u001b[0m\n"
          ]
        },
        {
          "output_type": "execute_result",
          "data": {
            "text/plain": [
              "CLIPTextEmbedder(\n",
              "  (transformer): CLIPTextModel(\n",
              "    (text_model): CLIPTextTransformer(\n",
              "      (embeddings): CLIPTextEmbeddings(\n",
              "        (token_embedding): Embedding(49408, 768)\n",
              "        (position_embedding): Embedding(77, 768)\n",
              "      )\n",
              "      (encoder): CLIPEncoder(\n",
              "        (layers): ModuleList(\n",
              "          (0-11): 12 x CLIPEncoderLayer(\n",
              "            (self_attn): CLIPAttention(\n",
              "              (k_proj): Linear(in_features=768, out_features=768, bias=True)\n",
              "              (v_proj): Linear(in_features=768, out_features=768, bias=True)\n",
              "              (q_proj): Linear(in_features=768, out_features=768, bias=True)\n",
              "              (out_proj): Linear(in_features=768, out_features=768, bias=True)\n",
              "            )\n",
              "            (layer_norm1): LayerNorm((768,), eps=1e-05, elementwise_affine=True)\n",
              "            (mlp): CLIPMLP(\n",
              "              (activation_fn): QuickGELUActivation()\n",
              "              (fc1): Linear(in_features=768, out_features=3072, bias=True)\n",
              "              (fc2): Linear(in_features=3072, out_features=768, bias=True)\n",
              "            )\n",
              "            (layer_norm2): LayerNorm((768,), eps=1e-05, elementwise_affine=True)\n",
              "          )\n",
              "        )\n",
              "      )\n",
              "      (final_layer_norm): LayerNorm((768,), eps=1e-05, elementwise_affine=True)\n",
              "    )\n",
              "  )\n",
              ")"
            ]
          },
          "metadata": {},
          "execution_count": 7
        }
      ]
    },
    {
      "cell_type": "code",
      "source": [
        "from utility.clip.clip_text_embedder import tensor_attention_pooling, tensor_max_pooling, tensor_max_abs_pooling\n",
        "\n",
        "# For getting prompt score using linear embedding model\n",
        "def get_prompt_linear_embedding_score(text_embedder, linear_model, prompt):\n",
        "  # get embedding of prompt first\n",
        "  embedding, _, attention_mask = text_embedder.forward_return_all(prompt)\n",
        "  # average using attention mask\n",
        "  average_pooled = tensor_attention_pooling(embedding, attention_mask)\n",
        "\n",
        "  # use linear model\n",
        "  score = linear_model.predict_positive_or_negative_only_pooled(average_pooled)\n",
        "\n",
        "  return score.item()"
      ],
      "metadata": {
        "id": "-MXBRS72IQqs"
      },
      "id": "-MXBRS72IQqs",
      "execution_count": null,
      "outputs": []
    },
    {
      "cell_type": "code",
      "execution_count": null,
      "metadata": {
        "id": "OlK9O3IJ1F7i"
      },
      "outputs": [],
      "source": [
        "# Get phrase scores probability\n",
        "filename = \"2023_11_29_phrase_scores_probability_09_environmental_positive.csv\"\n",
        "\n",
        "download_urls = ['https://mega.nz/file/4I42VbTY#iZvzE8gc_vPbhvA8YEFqyIYToUoZqSJfvrRLksL4qq8']\n",
        "\n",
        "# Destination paths for data transfer (can be in Google Drive or session storage)\n",
        "destination_paths = ['./']\n",
        "\n",
        "# Mega user name and password. Leave as empty string for anonymous login\n",
        "# note: not used\n",
        "mega_user_email = ''\n",
        "mega_user_password = ''"
      ],
      "id": "OlK9O3IJ1F7i"
    },
    {
      "cell_type": "code",
      "source": [
        "!pip install mega.py"
      ],
      "metadata": {
        "id": "ovxMJBMYiQdq",
        "colab": {
          "base_uri": "https://localhost:8080/"
        },
        "outputId": "aced7323-ab41-4352-dffe-288e36b0d35b"
      },
      "id": "ovxMJBMYiQdq",
      "execution_count": null,
      "outputs": [
        {
          "output_type": "stream",
          "name": "stdout",
          "text": [
            "Collecting mega.py\n",
            "  Downloading mega.py-1.0.8-py2.py3-none-any.whl (19 kB)\n",
            "Requirement already satisfied: requests>=0.10 in /usr/local/lib/python3.10/dist-packages (from mega.py) (2.31.0)\n",
            "Requirement already satisfied: pycryptodome<4.0.0,>=3.9.6 in /usr/local/lib/python3.10/dist-packages (from mega.py) (3.19.0)\n",
            "Requirement already satisfied: pathlib==1.0.1 in /usr/local/lib/python3.10/dist-packages (from mega.py) (1.0.1)\n",
            "Collecting tenacity<6.0.0,>=5.1.5 (from mega.py)\n",
            "  Downloading tenacity-5.1.5-py2.py3-none-any.whl (34 kB)\n",
            "Requirement already satisfied: charset-normalizer<4,>=2 in /usr/local/lib/python3.10/dist-packages (from requests>=0.10->mega.py) (3.3.2)\n",
            "Requirement already satisfied: idna<4,>=2.5 in /usr/local/lib/python3.10/dist-packages (from requests>=0.10->mega.py) (3.6)\n",
            "Requirement already satisfied: urllib3<3,>=1.21.1 in /usr/local/lib/python3.10/dist-packages (from requests>=0.10->mega.py) (2.0.7)\n",
            "Requirement already satisfied: certifi>=2017.4.17 in /usr/local/lib/python3.10/dist-packages (from requests>=0.10->mega.py) (2023.11.17)\n",
            "Requirement already satisfied: six>=1.9.0 in /usr/local/lib/python3.10/dist-packages (from tenacity<6.0.0,>=5.1.5->mega.py) (1.16.0)\n",
            "Installing collected packages: tenacity, mega.py\n",
            "  Attempting uninstall: tenacity\n",
            "    Found existing installation: tenacity 8.2.3\n",
            "    Uninstalling tenacity-8.2.3:\n",
            "      Successfully uninstalled tenacity-8.2.3\n",
            "\u001b[31mERROR: pip's dependency resolver does not currently take into account all the packages that are installed. This behaviour is the source of the following dependency conflicts.\n",
            "plotly 5.15.0 requires tenacity>=6.2.0, but you have tenacity 5.1.5 which is incompatible.\u001b[0m\u001b[31m\n",
            "\u001b[0mSuccessfully installed mega.py-1.0.8 tenacity-5.1.5\n"
          ]
        }
      ]
    },
    {
      "cell_type": "code",
      "execution_count": null,
      "metadata": {
        "id": "w1KjTHWu03RA",
        "colab": {
          "base_uri": "https://localhost:8080/"
        },
        "outputId": "945b6ea7-fe8b-45bf-b037-f8e82b0505dd"
      },
      "outputs": [
        {
          "output_type": "stream",
          "name": "stdout",
          "text": [
            "Downloading to ./\n"
          ]
        },
        {
          "output_type": "stream",
          "name": "stderr",
          "text": [
            "INFO:mega.mega:131072 of 62266258 downloaded\n"
          ]
        },
        {
          "output_type": "stream",
          "name": "stdout",
          "text": [
            "\u001b[1;32mINFO: 131072 of 62266258 downloaded\u001b[0m\n"
          ]
        },
        {
          "output_type": "stream",
          "name": "stderr",
          "text": [
            "INFO:mega.mega:393216 of 62266258 downloaded\n"
          ]
        },
        {
          "output_type": "stream",
          "name": "stdout",
          "text": [
            "\u001b[1;32mINFO: 393216 of 62266258 downloaded\u001b[0m\n"
          ]
        },
        {
          "output_type": "stream",
          "name": "stderr",
          "text": [
            "INFO:mega.mega:786432 of 62266258 downloaded\n"
          ]
        },
        {
          "output_type": "stream",
          "name": "stdout",
          "text": [
            "\u001b[1;32mINFO: 786432 of 62266258 downloaded\u001b[0m\n"
          ]
        },
        {
          "output_type": "stream",
          "name": "stderr",
          "text": [
            "INFO:mega.mega:1310720 of 62266258 downloaded\n"
          ]
        },
        {
          "output_type": "stream",
          "name": "stdout",
          "text": [
            "\u001b[1;32mINFO: 1310720 of 62266258 downloaded\u001b[0m\n"
          ]
        },
        {
          "output_type": "stream",
          "name": "stderr",
          "text": [
            "INFO:mega.mega:1966080 of 62266258 downloaded\n"
          ]
        },
        {
          "output_type": "stream",
          "name": "stdout",
          "text": [
            "\u001b[1;32mINFO: 1966080 of 62266258 downloaded\u001b[0m\n"
          ]
        },
        {
          "output_type": "stream",
          "name": "stderr",
          "text": [
            "INFO:mega.mega:2752512 of 62266258 downloaded\n"
          ]
        },
        {
          "output_type": "stream",
          "name": "stdout",
          "text": [
            "\u001b[1;32mINFO: 2752512 of 62266258 downloaded\u001b[0m\n"
          ]
        },
        {
          "output_type": "stream",
          "name": "stderr",
          "text": [
            "INFO:mega.mega:3670016 of 62266258 downloaded\n"
          ]
        },
        {
          "output_type": "stream",
          "name": "stdout",
          "text": [
            "\u001b[1;32mINFO: 3670016 of 62266258 downloaded\u001b[0m\n"
          ]
        },
        {
          "output_type": "stream",
          "name": "stderr",
          "text": [
            "INFO:mega.mega:4718592 of 62266258 downloaded\n"
          ]
        },
        {
          "output_type": "stream",
          "name": "stdout",
          "text": [
            "\u001b[1;32mINFO: 4718592 of 62266258 downloaded\u001b[0m\n"
          ]
        },
        {
          "output_type": "stream",
          "name": "stderr",
          "text": [
            "INFO:mega.mega:5767168 of 62266258 downloaded\n"
          ]
        },
        {
          "output_type": "stream",
          "name": "stdout",
          "text": [
            "\u001b[1;32mINFO: 5767168 of 62266258 downloaded\u001b[0m\n"
          ]
        },
        {
          "output_type": "stream",
          "name": "stderr",
          "text": [
            "INFO:mega.mega:6815744 of 62266258 downloaded\n"
          ]
        },
        {
          "output_type": "stream",
          "name": "stdout",
          "text": [
            "\u001b[1;32mINFO: 6815744 of 62266258 downloaded\u001b[0m\n"
          ]
        },
        {
          "output_type": "stream",
          "name": "stderr",
          "text": [
            "INFO:mega.mega:7864320 of 62266258 downloaded\n"
          ]
        },
        {
          "output_type": "stream",
          "name": "stdout",
          "text": [
            "\u001b[1;32mINFO: 7864320 of 62266258 downloaded\u001b[0m\n"
          ]
        },
        {
          "output_type": "stream",
          "name": "stderr",
          "text": [
            "INFO:mega.mega:8912896 of 62266258 downloaded\n"
          ]
        },
        {
          "output_type": "stream",
          "name": "stdout",
          "text": [
            "\u001b[1;32mINFO: 8912896 of 62266258 downloaded\u001b[0m\n"
          ]
        },
        {
          "output_type": "stream",
          "name": "stderr",
          "text": [
            "INFO:mega.mega:9961472 of 62266258 downloaded\n"
          ]
        },
        {
          "output_type": "stream",
          "name": "stdout",
          "text": [
            "\u001b[1;32mINFO: 9961472 of 62266258 downloaded\u001b[0m\n"
          ]
        },
        {
          "output_type": "stream",
          "name": "stderr",
          "text": [
            "INFO:mega.mega:11010048 of 62266258 downloaded\n"
          ]
        },
        {
          "output_type": "stream",
          "name": "stdout",
          "text": [
            "\u001b[1;32mINFO: 11010048 of 62266258 downloaded\u001b[0m\n"
          ]
        },
        {
          "output_type": "stream",
          "name": "stderr",
          "text": [
            "INFO:mega.mega:12058624 of 62266258 downloaded\n"
          ]
        },
        {
          "output_type": "stream",
          "name": "stdout",
          "text": [
            "\u001b[1;32mINFO: 12058624 of 62266258 downloaded\u001b[0m\n"
          ]
        },
        {
          "output_type": "stream",
          "name": "stderr",
          "text": [
            "INFO:mega.mega:13107200 of 62266258 downloaded\n"
          ]
        },
        {
          "output_type": "stream",
          "name": "stdout",
          "text": [
            "\u001b[1;32mINFO: 13107200 of 62266258 downloaded\u001b[0m\n"
          ]
        },
        {
          "output_type": "stream",
          "name": "stderr",
          "text": [
            "INFO:mega.mega:14155776 of 62266258 downloaded\n"
          ]
        },
        {
          "output_type": "stream",
          "name": "stdout",
          "text": [
            "\u001b[1;32mINFO: 14155776 of 62266258 downloaded\u001b[0m\n"
          ]
        },
        {
          "output_type": "stream",
          "name": "stderr",
          "text": [
            "INFO:mega.mega:15204352 of 62266258 downloaded\n"
          ]
        },
        {
          "output_type": "stream",
          "name": "stdout",
          "text": [
            "\u001b[1;32mINFO: 15204352 of 62266258 downloaded\u001b[0m\n"
          ]
        },
        {
          "output_type": "stream",
          "name": "stderr",
          "text": [
            "INFO:mega.mega:16252928 of 62266258 downloaded\n"
          ]
        },
        {
          "output_type": "stream",
          "name": "stdout",
          "text": [
            "\u001b[1;32mINFO: 16252928 of 62266258 downloaded\u001b[0m\n"
          ]
        },
        {
          "output_type": "stream",
          "name": "stderr",
          "text": [
            "INFO:mega.mega:17301504 of 62266258 downloaded\n"
          ]
        },
        {
          "output_type": "stream",
          "name": "stdout",
          "text": [
            "\u001b[1;32mINFO: 17301504 of 62266258 downloaded\u001b[0m\n"
          ]
        },
        {
          "output_type": "stream",
          "name": "stderr",
          "text": [
            "INFO:mega.mega:18350080 of 62266258 downloaded\n"
          ]
        },
        {
          "output_type": "stream",
          "name": "stdout",
          "text": [
            "\u001b[1;32mINFO: 18350080 of 62266258 downloaded\u001b[0m\n"
          ]
        },
        {
          "output_type": "stream",
          "name": "stderr",
          "text": [
            "INFO:mega.mega:19398656 of 62266258 downloaded\n"
          ]
        },
        {
          "output_type": "stream",
          "name": "stdout",
          "text": [
            "\u001b[1;32mINFO: 19398656 of 62266258 downloaded\u001b[0m\n"
          ]
        },
        {
          "output_type": "stream",
          "name": "stderr",
          "text": [
            "INFO:mega.mega:20447232 of 62266258 downloaded\n"
          ]
        },
        {
          "output_type": "stream",
          "name": "stdout",
          "text": [
            "\u001b[1;32mINFO: 20447232 of 62266258 downloaded\u001b[0m\n"
          ]
        },
        {
          "output_type": "stream",
          "name": "stderr",
          "text": [
            "INFO:mega.mega:21495808 of 62266258 downloaded\n"
          ]
        },
        {
          "output_type": "stream",
          "name": "stdout",
          "text": [
            "\u001b[1;32mINFO: 21495808 of 62266258 downloaded\u001b[0m\n"
          ]
        },
        {
          "output_type": "stream",
          "name": "stderr",
          "text": [
            "INFO:mega.mega:22544384 of 62266258 downloaded\n"
          ]
        },
        {
          "output_type": "stream",
          "name": "stdout",
          "text": [
            "\u001b[1;32mINFO: 22544384 of 62266258 downloaded\u001b[0m\n"
          ]
        },
        {
          "output_type": "stream",
          "name": "stderr",
          "text": [
            "INFO:mega.mega:23592960 of 62266258 downloaded\n"
          ]
        },
        {
          "output_type": "stream",
          "name": "stdout",
          "text": [
            "\u001b[1;32mINFO: 23592960 of 62266258 downloaded\u001b[0m\n"
          ]
        },
        {
          "output_type": "stream",
          "name": "stderr",
          "text": [
            "INFO:mega.mega:24641536 of 62266258 downloaded\n"
          ]
        },
        {
          "output_type": "stream",
          "name": "stdout",
          "text": [
            "\u001b[1;32mINFO: 24641536 of 62266258 downloaded\u001b[0m\n"
          ]
        },
        {
          "output_type": "stream",
          "name": "stderr",
          "text": [
            "INFO:mega.mega:25690112 of 62266258 downloaded\n"
          ]
        },
        {
          "output_type": "stream",
          "name": "stdout",
          "text": [
            "\u001b[1;32mINFO: 25690112 of 62266258 downloaded\u001b[0m\n"
          ]
        },
        {
          "output_type": "stream",
          "name": "stderr",
          "text": [
            "INFO:mega.mega:26738688 of 62266258 downloaded\n"
          ]
        },
        {
          "output_type": "stream",
          "name": "stdout",
          "text": [
            "\u001b[1;32mINFO: 26738688 of 62266258 downloaded\u001b[0m\n"
          ]
        },
        {
          "output_type": "stream",
          "name": "stderr",
          "text": [
            "INFO:mega.mega:27787264 of 62266258 downloaded\n"
          ]
        },
        {
          "output_type": "stream",
          "name": "stdout",
          "text": [
            "\u001b[1;32mINFO: 27787264 of 62266258 downloaded\u001b[0m\n"
          ]
        },
        {
          "output_type": "stream",
          "name": "stderr",
          "text": [
            "INFO:mega.mega:28835840 of 62266258 downloaded\n"
          ]
        },
        {
          "output_type": "stream",
          "name": "stdout",
          "text": [
            "\u001b[1;32mINFO: 28835840 of 62266258 downloaded\u001b[0m\n"
          ]
        },
        {
          "output_type": "stream",
          "name": "stderr",
          "text": [
            "INFO:mega.mega:29884416 of 62266258 downloaded\n"
          ]
        },
        {
          "output_type": "stream",
          "name": "stdout",
          "text": [
            "\u001b[1;32mINFO: 29884416 of 62266258 downloaded\u001b[0m\n"
          ]
        },
        {
          "output_type": "stream",
          "name": "stderr",
          "text": [
            "INFO:mega.mega:30932992 of 62266258 downloaded\n"
          ]
        },
        {
          "output_type": "stream",
          "name": "stdout",
          "text": [
            "\u001b[1;32mINFO: 30932992 of 62266258 downloaded\u001b[0m\n"
          ]
        },
        {
          "output_type": "stream",
          "name": "stderr",
          "text": [
            "INFO:mega.mega:31981568 of 62266258 downloaded\n"
          ]
        },
        {
          "output_type": "stream",
          "name": "stdout",
          "text": [
            "\u001b[1;32mINFO: 31981568 of 62266258 downloaded\u001b[0m\n"
          ]
        },
        {
          "output_type": "stream",
          "name": "stderr",
          "text": [
            "INFO:mega.mega:33030144 of 62266258 downloaded\n"
          ]
        },
        {
          "output_type": "stream",
          "name": "stdout",
          "text": [
            "\u001b[1;32mINFO: 33030144 of 62266258 downloaded\u001b[0m\n"
          ]
        },
        {
          "output_type": "stream",
          "name": "stderr",
          "text": [
            "INFO:mega.mega:34078720 of 62266258 downloaded\n"
          ]
        },
        {
          "output_type": "stream",
          "name": "stdout",
          "text": [
            "\u001b[1;32mINFO: 34078720 of 62266258 downloaded\u001b[0m\n"
          ]
        },
        {
          "output_type": "stream",
          "name": "stderr",
          "text": [
            "INFO:mega.mega:35127296 of 62266258 downloaded\n"
          ]
        },
        {
          "output_type": "stream",
          "name": "stdout",
          "text": [
            "\u001b[1;32mINFO: 35127296 of 62266258 downloaded\u001b[0m\n"
          ]
        },
        {
          "output_type": "stream",
          "name": "stderr",
          "text": [
            "INFO:mega.mega:36175872 of 62266258 downloaded\n"
          ]
        },
        {
          "output_type": "stream",
          "name": "stdout",
          "text": [
            "\u001b[1;32mINFO: 36175872 of 62266258 downloaded\u001b[0m\n"
          ]
        },
        {
          "output_type": "stream",
          "name": "stderr",
          "text": [
            "INFO:mega.mega:37224448 of 62266258 downloaded\n"
          ]
        },
        {
          "output_type": "stream",
          "name": "stdout",
          "text": [
            "\u001b[1;32mINFO: 37224448 of 62266258 downloaded\u001b[0m\n"
          ]
        },
        {
          "output_type": "stream",
          "name": "stderr",
          "text": [
            "INFO:mega.mega:38273024 of 62266258 downloaded\n"
          ]
        },
        {
          "output_type": "stream",
          "name": "stdout",
          "text": [
            "\u001b[1;32mINFO: 38273024 of 62266258 downloaded\u001b[0m\n"
          ]
        },
        {
          "output_type": "stream",
          "name": "stderr",
          "text": [
            "INFO:mega.mega:39321600 of 62266258 downloaded\n"
          ]
        },
        {
          "output_type": "stream",
          "name": "stdout",
          "text": [
            "\u001b[1;32mINFO: 39321600 of 62266258 downloaded\u001b[0m\n"
          ]
        },
        {
          "output_type": "stream",
          "name": "stderr",
          "text": [
            "INFO:mega.mega:40370176 of 62266258 downloaded\n"
          ]
        },
        {
          "output_type": "stream",
          "name": "stdout",
          "text": [
            "\u001b[1;32mINFO: 40370176 of 62266258 downloaded\u001b[0m\n"
          ]
        },
        {
          "output_type": "stream",
          "name": "stderr",
          "text": [
            "INFO:mega.mega:41418752 of 62266258 downloaded\n"
          ]
        },
        {
          "output_type": "stream",
          "name": "stdout",
          "text": [
            "\u001b[1;32mINFO: 41418752 of 62266258 downloaded\u001b[0m\n"
          ]
        },
        {
          "output_type": "stream",
          "name": "stderr",
          "text": [
            "INFO:mega.mega:42467328 of 62266258 downloaded\n"
          ]
        },
        {
          "output_type": "stream",
          "name": "stdout",
          "text": [
            "\u001b[1;32mINFO: 42467328 of 62266258 downloaded\u001b[0m\n"
          ]
        },
        {
          "output_type": "stream",
          "name": "stderr",
          "text": [
            "INFO:mega.mega:43515904 of 62266258 downloaded\n"
          ]
        },
        {
          "output_type": "stream",
          "name": "stdout",
          "text": [
            "\u001b[1;32mINFO: 43515904 of 62266258 downloaded\u001b[0m\n"
          ]
        },
        {
          "output_type": "stream",
          "name": "stderr",
          "text": [
            "INFO:mega.mega:44564480 of 62266258 downloaded\n"
          ]
        },
        {
          "output_type": "stream",
          "name": "stdout",
          "text": [
            "\u001b[1;32mINFO: 44564480 of 62266258 downloaded\u001b[0m\n"
          ]
        },
        {
          "output_type": "stream",
          "name": "stderr",
          "text": [
            "INFO:mega.mega:45613056 of 62266258 downloaded\n"
          ]
        },
        {
          "output_type": "stream",
          "name": "stdout",
          "text": [
            "\u001b[1;32mINFO: 45613056 of 62266258 downloaded\u001b[0m\n"
          ]
        },
        {
          "output_type": "stream",
          "name": "stderr",
          "text": [
            "INFO:mega.mega:46661632 of 62266258 downloaded\n"
          ]
        },
        {
          "output_type": "stream",
          "name": "stdout",
          "text": [
            "\u001b[1;32mINFO: 46661632 of 62266258 downloaded\u001b[0m\n"
          ]
        },
        {
          "output_type": "stream",
          "name": "stderr",
          "text": [
            "INFO:mega.mega:47710208 of 62266258 downloaded\n"
          ]
        },
        {
          "output_type": "stream",
          "name": "stdout",
          "text": [
            "\u001b[1;32mINFO: 47710208 of 62266258 downloaded\u001b[0m\n"
          ]
        },
        {
          "output_type": "stream",
          "name": "stderr",
          "text": [
            "INFO:mega.mega:48758784 of 62266258 downloaded\n"
          ]
        },
        {
          "output_type": "stream",
          "name": "stdout",
          "text": [
            "\u001b[1;32mINFO: 48758784 of 62266258 downloaded\u001b[0m\n"
          ]
        },
        {
          "output_type": "stream",
          "name": "stderr",
          "text": [
            "INFO:mega.mega:49807360 of 62266258 downloaded\n"
          ]
        },
        {
          "output_type": "stream",
          "name": "stdout",
          "text": [
            "\u001b[1;32mINFO: 49807360 of 62266258 downloaded\u001b[0m\n"
          ]
        },
        {
          "output_type": "stream",
          "name": "stderr",
          "text": [
            "INFO:mega.mega:50855936 of 62266258 downloaded\n"
          ]
        },
        {
          "output_type": "stream",
          "name": "stdout",
          "text": [
            "\u001b[1;32mINFO: 50855936 of 62266258 downloaded\u001b[0m\n"
          ]
        },
        {
          "output_type": "stream",
          "name": "stderr",
          "text": [
            "INFO:mega.mega:51904512 of 62266258 downloaded\n"
          ]
        },
        {
          "output_type": "stream",
          "name": "stdout",
          "text": [
            "\u001b[1;32mINFO: 51904512 of 62266258 downloaded\u001b[0m\n"
          ]
        },
        {
          "output_type": "stream",
          "name": "stderr",
          "text": [
            "INFO:mega.mega:52953088 of 62266258 downloaded\n"
          ]
        },
        {
          "output_type": "stream",
          "name": "stdout",
          "text": [
            "\u001b[1;32mINFO: 52953088 of 62266258 downloaded\u001b[0m\n"
          ]
        },
        {
          "output_type": "stream",
          "name": "stderr",
          "text": [
            "INFO:mega.mega:54001664 of 62266258 downloaded\n"
          ]
        },
        {
          "output_type": "stream",
          "name": "stdout",
          "text": [
            "\u001b[1;32mINFO: 54001664 of 62266258 downloaded\u001b[0m\n"
          ]
        },
        {
          "output_type": "stream",
          "name": "stderr",
          "text": [
            "INFO:mega.mega:55050240 of 62266258 downloaded\n"
          ]
        },
        {
          "output_type": "stream",
          "name": "stdout",
          "text": [
            "\u001b[1;32mINFO: 55050240 of 62266258 downloaded\u001b[0m\n"
          ]
        },
        {
          "output_type": "stream",
          "name": "stderr",
          "text": [
            "INFO:mega.mega:56098816 of 62266258 downloaded\n"
          ]
        },
        {
          "output_type": "stream",
          "name": "stdout",
          "text": [
            "\u001b[1;32mINFO: 56098816 of 62266258 downloaded\u001b[0m\n"
          ]
        },
        {
          "output_type": "stream",
          "name": "stderr",
          "text": [
            "INFO:mega.mega:57147392 of 62266258 downloaded\n"
          ]
        },
        {
          "output_type": "stream",
          "name": "stdout",
          "text": [
            "\u001b[1;32mINFO: 57147392 of 62266258 downloaded\u001b[0m\n"
          ]
        },
        {
          "output_type": "stream",
          "name": "stderr",
          "text": [
            "INFO:mega.mega:58195968 of 62266258 downloaded\n"
          ]
        },
        {
          "output_type": "stream",
          "name": "stdout",
          "text": [
            "\u001b[1;32mINFO: 58195968 of 62266258 downloaded\u001b[0m\n"
          ]
        },
        {
          "output_type": "stream",
          "name": "stderr",
          "text": [
            "INFO:mega.mega:59244544 of 62266258 downloaded\n"
          ]
        },
        {
          "output_type": "stream",
          "name": "stdout",
          "text": [
            "\u001b[1;32mINFO: 59244544 of 62266258 downloaded\u001b[0m\n"
          ]
        },
        {
          "output_type": "stream",
          "name": "stderr",
          "text": [
            "INFO:mega.mega:60293120 of 62266258 downloaded\n"
          ]
        },
        {
          "output_type": "stream",
          "name": "stdout",
          "text": [
            "\u001b[1;32mINFO: 60293120 of 62266258 downloaded\u001b[0m\n"
          ]
        },
        {
          "output_type": "stream",
          "name": "stderr",
          "text": [
            "INFO:mega.mega:61341696 of 62266258 downloaded\n"
          ]
        },
        {
          "output_type": "stream",
          "name": "stdout",
          "text": [
            "\u001b[1;32mINFO: 61341696 of 62266258 downloaded\u001b[0m\n"
          ]
        },
        {
          "output_type": "stream",
          "name": "stderr",
          "text": [
            "INFO:mega.mega:62266258 of 62266258 downloaded\n"
          ]
        },
        {
          "output_type": "stream",
          "name": "stdout",
          "text": [
            "\u001b[1;32mINFO: 62266258 of 62266258 downloaded\u001b[0m\n",
            "Download complete: ./\n"
          ]
        }
      ],
      "source": [
        "import os\n",
        "from mega import Mega\n",
        "\n",
        "# Create Mega User Object and Login\n",
        "mega = Mega()\n",
        "# mega_user = mega.login(mega_user_email, mega_user_password)\n",
        "\n",
        "\n",
        "# Download files specified in download_urls to locations specified in destination_paths\n",
        "for url, path in zip(download_urls, destination_paths):\n",
        "    # Construct the full path to the file\n",
        "    full_file_path = os.path.join(path, filename)\n",
        "\n",
        "    # Check if file already exists\n",
        "    if os.path.exists(full_file_path):\n",
        "        print(f\"File already exists: {full_file_path}\")\n",
        "    else:\n",
        "        # Create directory if it does not exist\n",
        "        os.makedirs(os.path.dirname(path), exist_ok=True)\n",
        "\n",
        "        # Download file\n",
        "        print(f\"Downloading to {path}\")\n",
        "        mega.download_url(url, path)\n",
        "        print(f\"Download complete: {path}\")\n"
      ],
      "id": "w1KjTHWu03RA"
    },
    {
      "cell_type": "code",
      "execution_count": null,
      "metadata": {
        "id": "61d7e1e5-1435-4932-9493-181a35411cce"
      },
      "outputs": [],
      "source": [
        "import os\n",
        "\n",
        "import numpy as np\n",
        "import pandas as pd\n",
        "\n",
        "import zipfile\n",
        "\n",
        "from scipy import stats\n",
        "from matplotlib import pyplot"
      ],
      "id": "61d7e1e5-1435-4932-9493-181a35411cce"
    },
    {
      "cell_type": "code",
      "execution_count": null,
      "metadata": {
        "id": "PUPr1Kwm02mo",
        "colab": {
          "base_uri": "https://localhost:8080/"
        },
        "outputId": "803200b5-66b3-4604-fb2e-0275e7fc00d4"
      },
      "outputs": [
        {
          "output_type": "stream",
          "name": "stdout",
          "text": [
            "  File: 2023_11_29_phrase_scores_probability_09_environmental_positive.csv\n",
            "  Size: 62266258  \tBlocks: 121616     IO Block: 4096   regular file\n",
            "Device: 34h/52d\tInode: 1573353     Links: 1\n",
            "Access: (0600/-rw-------)  Uid: (    0/    root)   Gid: (    0/    root)\n",
            "Access: 2023-12-08 06:59:39.035994108 +0000\n",
            "Modify: 2023-12-08 07:00:08.729363567 +0000\n",
            "Change: 2023-12-08 07:00:08.949381123 +0000\n",
            " Birth: 2023-12-08 06:59:39.035994108 +0000\n"
          ]
        }
      ],
      "source": [
        "!stat 2023_11_29_phrase_scores_probability_09_environmental_positive.csv"
      ],
      "id": "PUPr1Kwm02mo"
    },
    {
      "cell_type": "markdown",
      "metadata": {
        "id": "4a69e372-9ff2-4e4c-a203-50b246753ca2"
      },
      "source": [
        "# load prompt phrase scores"
      ],
      "id": "4a69e372-9ff2-4e4c-a203-50b246753ca2"
    },
    {
      "cell_type": "code",
      "execution_count": null,
      "metadata": {
        "id": "29117ed9-dd71-4a1f-bb3a-41d1aac6a356",
        "colab": {
          "base_uri": "https://localhost:8080/",
          "height": 419
        },
        "outputId": "53374d96-c225-44cb-d529-79a63b7714dc"
      },
      "outputs": [
        {
          "output_type": "execute_result",
          "data": {
            "text/plain": [
              "         index                              phrase  occurrences  token length  \\\n",
              "0            0                                snes        19804             2   \n",
              "1            1                           pixel art        21903             2   \n",
              "2            2              tile based environment        27557             3   \n",
              "3            3  D environmental art side scrolling        43548             5   \n",
              "4            4                        level design        31583             2   \n",
              "...        ...                                 ...          ...           ...   \n",
              "397956  397956                 sanmian chidarakeno            1             7   \n",
              "397957  397957                        intense glow            1             3   \n",
              "397958  397958                  smoking with cigar            1             4   \n",
              "397959  397959                        blank slates            1             3   \n",
              "397960  397960                    angel with wings            1             3   \n",
              "\n",
              "        boltzman_temperature  boltzman k      score  boltzman probability  \\\n",
              "0                        0.8         1.0 -12.678100          7.630203e+06   \n",
              "1                        0.8         1.0   0.730409          4.013139e-01   \n",
              "2                        0.8         1.0  13.857334          3.001203e-08   \n",
              "3                        0.8         1.0  38.863129          7.988163e-22   \n",
              "4                        0.8         1.0  23.191227          2.571714e-13   \n",
              "...                      ...         ...        ...                   ...   \n",
              "397956                   0.8         1.0   0.203044          7.758431e-01   \n",
              "397957                   0.8         1.0   0.774378          3.798524e-01   \n",
              "397958                   0.8         1.0   0.069281          9.170427e-01   \n",
              "397959                   0.8         1.0   0.925085          3.146305e-01   \n",
              "397960                   0.8         1.0   0.196831          7.818919e-01   \n",
              "\n",
              "        normalized probability  unsmooth cumulative probability  \\\n",
              "0                 2.393384e-21                              1.0   \n",
              "1                 1.258811e-28                              1.0   \n",
              "2                 9.413946e-36                              1.0   \n",
              "3                 2.505666e-49                              1.0   \n",
              "4                 8.066756e-41                              1.0   \n",
              "...                        ...                              ...   \n",
              "397956            2.433606e-28                              1.0   \n",
              "397957            1.191492e-28                              1.0   \n",
              "397958            2.876510e-28                              1.0   \n",
              "397959            9.869091e-29                              1.0   \n",
              "397960            2.452579e-28                              1.0   \n",
              "\n",
              "        normalized with epsilon  smooth cumulative probability  \n",
              "0                  2.510299e-09                       0.999004  \n",
              "1                  2.510299e-09                       0.999023  \n",
              "2                  2.510299e-09                       0.999023  \n",
              "3                  2.510299e-09                       0.999023  \n",
              "4                  2.510299e-09                       0.999023  \n",
              "...                         ...                            ...  \n",
              "397956             2.510299e-09                       1.000000  \n",
              "397957             2.510299e-09                       1.000000  \n",
              "397958             2.510299e-09                       1.000000  \n",
              "397959             2.510299e-09                       1.000000  \n",
              "397960             2.510299e-09                       1.000000  \n",
              "\n",
              "[397961 rows x 12 columns]"
            ],
            "text/html": [
              "\n",
              "  <div id=\"df-9c6fe2f0-bae4-46b0-9a75-b6b67de58da6\" class=\"colab-df-container\">\n",
              "    <div>\n",
              "<style scoped>\n",
              "    .dataframe tbody tr th:only-of-type {\n",
              "        vertical-align: middle;\n",
              "    }\n",
              "\n",
              "    .dataframe tbody tr th {\n",
              "        vertical-align: top;\n",
              "    }\n",
              "\n",
              "    .dataframe thead th {\n",
              "        text-align: right;\n",
              "    }\n",
              "</style>\n",
              "<table border=\"1\" class=\"dataframe\">\n",
              "  <thead>\n",
              "    <tr style=\"text-align: right;\">\n",
              "      <th></th>\n",
              "      <th>index</th>\n",
              "      <th>phrase</th>\n",
              "      <th>occurrences</th>\n",
              "      <th>token length</th>\n",
              "      <th>boltzman_temperature</th>\n",
              "      <th>boltzman k</th>\n",
              "      <th>score</th>\n",
              "      <th>boltzman probability</th>\n",
              "      <th>normalized probability</th>\n",
              "      <th>unsmooth cumulative probability</th>\n",
              "      <th>normalized with epsilon</th>\n",
              "      <th>smooth cumulative probability</th>\n",
              "    </tr>\n",
              "  </thead>\n",
              "  <tbody>\n",
              "    <tr>\n",
              "      <th>0</th>\n",
              "      <td>0</td>\n",
              "      <td>snes</td>\n",
              "      <td>19804</td>\n",
              "      <td>2</td>\n",
              "      <td>0.8</td>\n",
              "      <td>1.0</td>\n",
              "      <td>-12.678100</td>\n",
              "      <td>7.630203e+06</td>\n",
              "      <td>2.393384e-21</td>\n",
              "      <td>1.0</td>\n",
              "      <td>2.510299e-09</td>\n",
              "      <td>0.999004</td>\n",
              "    </tr>\n",
              "    <tr>\n",
              "      <th>1</th>\n",
              "      <td>1</td>\n",
              "      <td>pixel art</td>\n",
              "      <td>21903</td>\n",
              "      <td>2</td>\n",
              "      <td>0.8</td>\n",
              "      <td>1.0</td>\n",
              "      <td>0.730409</td>\n",
              "      <td>4.013139e-01</td>\n",
              "      <td>1.258811e-28</td>\n",
              "      <td>1.0</td>\n",
              "      <td>2.510299e-09</td>\n",
              "      <td>0.999023</td>\n",
              "    </tr>\n",
              "    <tr>\n",
              "      <th>2</th>\n",
              "      <td>2</td>\n",
              "      <td>tile based environment</td>\n",
              "      <td>27557</td>\n",
              "      <td>3</td>\n",
              "      <td>0.8</td>\n",
              "      <td>1.0</td>\n",
              "      <td>13.857334</td>\n",
              "      <td>3.001203e-08</td>\n",
              "      <td>9.413946e-36</td>\n",
              "      <td>1.0</td>\n",
              "      <td>2.510299e-09</td>\n",
              "      <td>0.999023</td>\n",
              "    </tr>\n",
              "    <tr>\n",
              "      <th>3</th>\n",
              "      <td>3</td>\n",
              "      <td>D environmental art side scrolling</td>\n",
              "      <td>43548</td>\n",
              "      <td>5</td>\n",
              "      <td>0.8</td>\n",
              "      <td>1.0</td>\n",
              "      <td>38.863129</td>\n",
              "      <td>7.988163e-22</td>\n",
              "      <td>2.505666e-49</td>\n",
              "      <td>1.0</td>\n",
              "      <td>2.510299e-09</td>\n",
              "      <td>0.999023</td>\n",
              "    </tr>\n",
              "    <tr>\n",
              "      <th>4</th>\n",
              "      <td>4</td>\n",
              "      <td>level design</td>\n",
              "      <td>31583</td>\n",
              "      <td>2</td>\n",
              "      <td>0.8</td>\n",
              "      <td>1.0</td>\n",
              "      <td>23.191227</td>\n",
              "      <td>2.571714e-13</td>\n",
              "      <td>8.066756e-41</td>\n",
              "      <td>1.0</td>\n",
              "      <td>2.510299e-09</td>\n",
              "      <td>0.999023</td>\n",
              "    </tr>\n",
              "    <tr>\n",
              "      <th>...</th>\n",
              "      <td>...</td>\n",
              "      <td>...</td>\n",
              "      <td>...</td>\n",
              "      <td>...</td>\n",
              "      <td>...</td>\n",
              "      <td>...</td>\n",
              "      <td>...</td>\n",
              "      <td>...</td>\n",
              "      <td>...</td>\n",
              "      <td>...</td>\n",
              "      <td>...</td>\n",
              "      <td>...</td>\n",
              "    </tr>\n",
              "    <tr>\n",
              "      <th>397956</th>\n",
              "      <td>397956</td>\n",
              "      <td>sanmian chidarakeno</td>\n",
              "      <td>1</td>\n",
              "      <td>7</td>\n",
              "      <td>0.8</td>\n",
              "      <td>1.0</td>\n",
              "      <td>0.203044</td>\n",
              "      <td>7.758431e-01</td>\n",
              "      <td>2.433606e-28</td>\n",
              "      <td>1.0</td>\n",
              "      <td>2.510299e-09</td>\n",
              "      <td>1.000000</td>\n",
              "    </tr>\n",
              "    <tr>\n",
              "      <th>397957</th>\n",
              "      <td>397957</td>\n",
              "      <td>intense glow</td>\n",
              "      <td>1</td>\n",
              "      <td>3</td>\n",
              "      <td>0.8</td>\n",
              "      <td>1.0</td>\n",
              "      <td>0.774378</td>\n",
              "      <td>3.798524e-01</td>\n",
              "      <td>1.191492e-28</td>\n",
              "      <td>1.0</td>\n",
              "      <td>2.510299e-09</td>\n",
              "      <td>1.000000</td>\n",
              "    </tr>\n",
              "    <tr>\n",
              "      <th>397958</th>\n",
              "      <td>397958</td>\n",
              "      <td>smoking with cigar</td>\n",
              "      <td>1</td>\n",
              "      <td>4</td>\n",
              "      <td>0.8</td>\n",
              "      <td>1.0</td>\n",
              "      <td>0.069281</td>\n",
              "      <td>9.170427e-01</td>\n",
              "      <td>2.876510e-28</td>\n",
              "      <td>1.0</td>\n",
              "      <td>2.510299e-09</td>\n",
              "      <td>1.000000</td>\n",
              "    </tr>\n",
              "    <tr>\n",
              "      <th>397959</th>\n",
              "      <td>397959</td>\n",
              "      <td>blank slates</td>\n",
              "      <td>1</td>\n",
              "      <td>3</td>\n",
              "      <td>0.8</td>\n",
              "      <td>1.0</td>\n",
              "      <td>0.925085</td>\n",
              "      <td>3.146305e-01</td>\n",
              "      <td>9.869091e-29</td>\n",
              "      <td>1.0</td>\n",
              "      <td>2.510299e-09</td>\n",
              "      <td>1.000000</td>\n",
              "    </tr>\n",
              "    <tr>\n",
              "      <th>397960</th>\n",
              "      <td>397960</td>\n",
              "      <td>angel with wings</td>\n",
              "      <td>1</td>\n",
              "      <td>3</td>\n",
              "      <td>0.8</td>\n",
              "      <td>1.0</td>\n",
              "      <td>0.196831</td>\n",
              "      <td>7.818919e-01</td>\n",
              "      <td>2.452579e-28</td>\n",
              "      <td>1.0</td>\n",
              "      <td>2.510299e-09</td>\n",
              "      <td>1.000000</td>\n",
              "    </tr>\n",
              "  </tbody>\n",
              "</table>\n",
              "<p>397961 rows × 12 columns</p>\n",
              "</div>\n",
              "    <div class=\"colab-df-buttons\">\n",
              "\n",
              "  <div class=\"colab-df-container\">\n",
              "    <button class=\"colab-df-convert\" onclick=\"convertToInteractive('df-9c6fe2f0-bae4-46b0-9a75-b6b67de58da6')\"\n",
              "            title=\"Convert this dataframe to an interactive table.\"\n",
              "            style=\"display:none;\">\n",
              "\n",
              "  <svg xmlns=\"http://www.w3.org/2000/svg\" height=\"24px\" viewBox=\"0 -960 960 960\">\n",
              "    <path d=\"M120-120v-720h720v720H120Zm60-500h600v-160H180v160Zm220 220h160v-160H400v160Zm0 220h160v-160H400v160ZM180-400h160v-160H180v160Zm440 0h160v-160H620v160ZM180-180h160v-160H180v160Zm440 0h160v-160H620v160Z\"/>\n",
              "  </svg>\n",
              "    </button>\n",
              "\n",
              "  <style>\n",
              "    .colab-df-container {\n",
              "      display:flex;\n",
              "      gap: 12px;\n",
              "    }\n",
              "\n",
              "    .colab-df-convert {\n",
              "      background-color: #E8F0FE;\n",
              "      border: none;\n",
              "      border-radius: 50%;\n",
              "      cursor: pointer;\n",
              "      display: none;\n",
              "      fill: #1967D2;\n",
              "      height: 32px;\n",
              "      padding: 0 0 0 0;\n",
              "      width: 32px;\n",
              "    }\n",
              "\n",
              "    .colab-df-convert:hover {\n",
              "      background-color: #E2EBFA;\n",
              "      box-shadow: 0px 1px 2px rgba(60, 64, 67, 0.3), 0px 1px 3px 1px rgba(60, 64, 67, 0.15);\n",
              "      fill: #174EA6;\n",
              "    }\n",
              "\n",
              "    .colab-df-buttons div {\n",
              "      margin-bottom: 4px;\n",
              "    }\n",
              "\n",
              "    [theme=dark] .colab-df-convert {\n",
              "      background-color: #3B4455;\n",
              "      fill: #D2E3FC;\n",
              "    }\n",
              "\n",
              "    [theme=dark] .colab-df-convert:hover {\n",
              "      background-color: #434B5C;\n",
              "      box-shadow: 0px 1px 3px 1px rgba(0, 0, 0, 0.15);\n",
              "      filter: drop-shadow(0px 1px 2px rgba(0, 0, 0, 0.3));\n",
              "      fill: #FFFFFF;\n",
              "    }\n",
              "  </style>\n",
              "\n",
              "    <script>\n",
              "      const buttonEl =\n",
              "        document.querySelector('#df-9c6fe2f0-bae4-46b0-9a75-b6b67de58da6 button.colab-df-convert');\n",
              "      buttonEl.style.display =\n",
              "        google.colab.kernel.accessAllowed ? 'block' : 'none';\n",
              "\n",
              "      async function convertToInteractive(key) {\n",
              "        const element = document.querySelector('#df-9c6fe2f0-bae4-46b0-9a75-b6b67de58da6');\n",
              "        const dataTable =\n",
              "          await google.colab.kernel.invokeFunction('convertToInteractive',\n",
              "                                                    [key], {});\n",
              "        if (!dataTable) return;\n",
              "\n",
              "        const docLinkHtml = 'Like what you see? Visit the ' +\n",
              "          '<a target=\"_blank\" href=https://colab.research.google.com/notebooks/data_table.ipynb>data table notebook</a>'\n",
              "          + ' to learn more about interactive tables.';\n",
              "        element.innerHTML = '';\n",
              "        dataTable['output_type'] = 'display_data';\n",
              "        await google.colab.output.renderOutput(dataTable, element);\n",
              "        const docLink = document.createElement('div');\n",
              "        docLink.innerHTML = docLinkHtml;\n",
              "        element.appendChild(docLink);\n",
              "      }\n",
              "    </script>\n",
              "  </div>\n",
              "\n",
              "\n",
              "<div id=\"df-e4caec1a-e22c-444e-9cbc-29ae2cade54a\">\n",
              "  <button class=\"colab-df-quickchart\" onclick=\"quickchart('df-e4caec1a-e22c-444e-9cbc-29ae2cade54a')\"\n",
              "            title=\"Suggest charts\"\n",
              "            style=\"display:none;\">\n",
              "\n",
              "<svg xmlns=\"http://www.w3.org/2000/svg\" height=\"24px\"viewBox=\"0 0 24 24\"\n",
              "     width=\"24px\">\n",
              "    <g>\n",
              "        <path d=\"M19 3H5c-1.1 0-2 .9-2 2v14c0 1.1.9 2 2 2h14c1.1 0 2-.9 2-2V5c0-1.1-.9-2-2-2zM9 17H7v-7h2v7zm4 0h-2V7h2v10zm4 0h-2v-4h2v4z\"/>\n",
              "    </g>\n",
              "</svg>\n",
              "  </button>\n",
              "\n",
              "<style>\n",
              "  .colab-df-quickchart {\n",
              "      --bg-color: #E8F0FE;\n",
              "      --fill-color: #1967D2;\n",
              "      --hover-bg-color: #E2EBFA;\n",
              "      --hover-fill-color: #174EA6;\n",
              "      --disabled-fill-color: #AAA;\n",
              "      --disabled-bg-color: #DDD;\n",
              "  }\n",
              "\n",
              "  [theme=dark] .colab-df-quickchart {\n",
              "      --bg-color: #3B4455;\n",
              "      --fill-color: #D2E3FC;\n",
              "      --hover-bg-color: #434B5C;\n",
              "      --hover-fill-color: #FFFFFF;\n",
              "      --disabled-bg-color: #3B4455;\n",
              "      --disabled-fill-color: #666;\n",
              "  }\n",
              "\n",
              "  .colab-df-quickchart {\n",
              "    background-color: var(--bg-color);\n",
              "    border: none;\n",
              "    border-radius: 50%;\n",
              "    cursor: pointer;\n",
              "    display: none;\n",
              "    fill: var(--fill-color);\n",
              "    height: 32px;\n",
              "    padding: 0;\n",
              "    width: 32px;\n",
              "  }\n",
              "\n",
              "  .colab-df-quickchart:hover {\n",
              "    background-color: var(--hover-bg-color);\n",
              "    box-shadow: 0 1px 2px rgba(60, 64, 67, 0.3), 0 1px 3px 1px rgba(60, 64, 67, 0.15);\n",
              "    fill: var(--button-hover-fill-color);\n",
              "  }\n",
              "\n",
              "  .colab-df-quickchart-complete:disabled,\n",
              "  .colab-df-quickchart-complete:disabled:hover {\n",
              "    background-color: var(--disabled-bg-color);\n",
              "    fill: var(--disabled-fill-color);\n",
              "    box-shadow: none;\n",
              "  }\n",
              "\n",
              "  .colab-df-spinner {\n",
              "    border: 2px solid var(--fill-color);\n",
              "    border-color: transparent;\n",
              "    border-bottom-color: var(--fill-color);\n",
              "    animation:\n",
              "      spin 1s steps(1) infinite;\n",
              "  }\n",
              "\n",
              "  @keyframes spin {\n",
              "    0% {\n",
              "      border-color: transparent;\n",
              "      border-bottom-color: var(--fill-color);\n",
              "      border-left-color: var(--fill-color);\n",
              "    }\n",
              "    20% {\n",
              "      border-color: transparent;\n",
              "      border-left-color: var(--fill-color);\n",
              "      border-top-color: var(--fill-color);\n",
              "    }\n",
              "    30% {\n",
              "      border-color: transparent;\n",
              "      border-left-color: var(--fill-color);\n",
              "      border-top-color: var(--fill-color);\n",
              "      border-right-color: var(--fill-color);\n",
              "    }\n",
              "    40% {\n",
              "      border-color: transparent;\n",
              "      border-right-color: var(--fill-color);\n",
              "      border-top-color: var(--fill-color);\n",
              "    }\n",
              "    60% {\n",
              "      border-color: transparent;\n",
              "      border-right-color: var(--fill-color);\n",
              "    }\n",
              "    80% {\n",
              "      border-color: transparent;\n",
              "      border-right-color: var(--fill-color);\n",
              "      border-bottom-color: var(--fill-color);\n",
              "    }\n",
              "    90% {\n",
              "      border-color: transparent;\n",
              "      border-bottom-color: var(--fill-color);\n",
              "    }\n",
              "  }\n",
              "</style>\n",
              "\n",
              "  <script>\n",
              "    async function quickchart(key) {\n",
              "      const quickchartButtonEl =\n",
              "        document.querySelector('#' + key + ' button');\n",
              "      quickchartButtonEl.disabled = true;  // To prevent multiple clicks.\n",
              "      quickchartButtonEl.classList.add('colab-df-spinner');\n",
              "      try {\n",
              "        const charts = await google.colab.kernel.invokeFunction(\n",
              "            'suggestCharts', [key], {});\n",
              "      } catch (error) {\n",
              "        console.error('Error during call to suggestCharts:', error);\n",
              "      }\n",
              "      quickchartButtonEl.classList.remove('colab-df-spinner');\n",
              "      quickchartButtonEl.classList.add('colab-df-quickchart-complete');\n",
              "    }\n",
              "    (() => {\n",
              "      let quickchartButtonEl =\n",
              "        document.querySelector('#df-e4caec1a-e22c-444e-9cbc-29ae2cade54a button');\n",
              "      quickchartButtonEl.style.display =\n",
              "        google.colab.kernel.accessAllowed ? 'block' : 'none';\n",
              "    })();\n",
              "  </script>\n",
              "</div>\n",
              "    </div>\n",
              "  </div>\n"
            ]
          },
          "metadata": {},
          "execution_count": 14
        }
      ],
      "source": [
        "#f = zipfile.ZipFile('./tmp/2023-12-04-phrase-scores-probability-environmental.zip')\n",
        "\n",
        "#positive_phrase_df = pd.read_csv(f.open('2023_11_29_phrase_scores_probability_09_environmental_positive.csv'))\n",
        "positive_phrase_df = pd.read_csv('2023_11_29_phrase_scores_probability_09_environmental_positive.csv')\n",
        "positive_phrase_df"
      ],
      "id": "29117ed9-dd71-4a1f-bb3a-41d1aac6a356"
    },
    {
      "cell_type": "markdown",
      "metadata": {
        "id": "f191a68b-4970-4d97-ad0f-9f3c6900ce28"
      },
      "source": [
        "# histogram of score"
      ],
      "id": "f191a68b-4970-4d97-ad0f-9f3c6900ce28"
    },
    {
      "cell_type": "code",
      "execution_count": null,
      "metadata": {
        "id": "6e1f26b8-2b0a-4ace-8b58-a831926cb98a"
      },
      "outputs": [],
      "source": [
        "score = positive_phrase_df[\"score\"].values\n",
        "\n",
        "# negate the score\n",
        "score = score * -1"
      ],
      "id": "6e1f26b8-2b0a-4ace-8b58-a831926cb98a"
    },
    {
      "cell_type": "code",
      "execution_count": null,
      "metadata": {
        "id": "PFTegvoI5LYX",
        "colab": {
          "base_uri": "https://localhost:8080/",
          "height": 408
        },
        "outputId": "e2bb24f3-5a2a-496c-88b2-93cc3df0e3b0"
      },
      "outputs": [
        {
          "output_type": "execute_result",
          "data": {
            "text/plain": [
              "Text(0.5, 1.0, 'histogram of score (log scale)')"
            ]
          },
          "metadata": {},
          "execution_count": 16
        },
        {
          "output_type": "display_data",
          "data": {
            "text/plain": [
              "<Figure size 1200x400 with 2 Axes>"
            ],
            "image/png": "[encoded data removed]"
          },
          "metadata": {}
        }
      ],
      "source": [
        "pyplot.figure(figsize=(12, 4))\n",
        "\n",
        "pyplot.subplot(1, 2, 1)\n",
        "\n",
        "_ = pyplot.hist(score, bins=1024, log=False)\n",
        "pyplot.title('histogram of score')\n",
        "\n",
        "pyplot.subplot(1, 2, 2)\n",
        "\n",
        "_ = pyplot.hist(score, bins=1024, log=True)\n",
        "pyplot.title('histogram of score (log scale)')"
      ],
      "id": "PFTegvoI5LYX"
    },
    {
      "cell_type": "markdown",
      "metadata": {
        "id": "5d1fbd8f-866d-48b7-b0b4-90e0db47787b"
      },
      "source": [
        "# normal test"
      ],
      "id": "5d1fbd8f-866d-48b7-b0b4-90e0db47787b"
    },
    {
      "cell_type": "code",
      "execution_count": null,
      "metadata": {
        "id": "sP90knap5ZME",
        "colab": {
          "base_uri": "https://localhost:8080/"
        },
        "outputId": "8aaff123-3c3c-45d7-da25-280f6fdcdb7d"
      },
      "outputs": [
        {
          "output_type": "stream",
          "name": "stdout",
          "text": [
            "score_mean=  -0.4641266598234501\n",
            "score_std=  2.5635318510653944\n"
          ]
        }
      ],
      "source": [
        "score_mean = np.mean(score)\n",
        "score_std = np.std(score)\n",
        "\n",
        "print(\"score_mean= \", score_mean)\n",
        "print(\"score_std= \", score_std)"
      ],
      "id": "sP90knap5ZME"
    },
    {
      "cell_type": "code",
      "execution_count": null,
      "metadata": {
        "id": "6812d731-fa93-4fd8-a531-45f1939b0ef5",
        "colab": {
          "base_uri": "https://localhost:8080/"
        },
        "outputId": "a0efc146-5407-46d3-9ed3-7e7fd498ff7d"
      },
      "outputs": [
        {
          "output_type": "execute_result",
          "data": {
            "text/plain": [
              "KstestResult(statistic=0.3156398291494339, pvalue=0.0, statistic_location=-0.999997, statistic_sign=-1)"
            ]
          },
          "metadata": {},
          "execution_count": 18
        }
      ],
      "source": [
        "stats.kstest(score, 'norm', args=(np.mean(score), np.std(score)))"
      ],
      "id": "6812d731-fa93-4fd8-a531-45f1939b0ef5"
    },
    {
      "cell_type": "markdown",
      "source": [
        "# set probability formula"
      ],
      "metadata": {
        "id": "GVI2wCje1NFT"
      },
      "id": "GVI2wCje1NFT"
    },
    {
      "cell_type": "code",
      "source": [
        "boltzman_k = 1.0\n",
        "\n",
        "def probablity_formula(score: np.ndarray, boltzman_temperature: float):\n",
        "\n",
        "  p_array = np.exp(-(score / (boltzman_k * boltzman_temperature)))\n",
        "  p_array_nomralized = p_array  / p_array.sum()  #np.linalg.norm(p_array )\n",
        "\n",
        "  return p_array, p_array_nomralized"
      ],
      "metadata": {
        "id": "RGdgCbQU1MY1"
      },
      "id": "RGdgCbQU1MY1",
      "execution_count": null,
      "outputs": []
    },
    {
      "cell_type": "markdown",
      "metadata": {
        "id": "29081ced-0fb0-41c5-b7ac-ec03e5bb33e5"
      },
      "source": [
        "# trend of probability with temperature"
      ],
      "id": "29081ced-0fb0-41c5-b7ac-ec03e5bb33e5"
    },
    {
      "cell_type": "code",
      "execution_count": null,
      "metadata": {
        "id": "2779c929-17a5-432c-a602-0f479009aec2"
      },
      "outputs": [],
      "source": [],
      "id": "2779c929-17a5-432c-a602-0f479009aec2"
    },
    {
      "cell_type": "code",
      "execution_count": null,
      "metadata": {
        "id": "3YZedbZgbX3T",
        "colab": {
          "base_uri": "https://localhost:8080/",
          "height": 408
        },
        "outputId": "a94e3e33-c9e8-4c3b-ec8c-01d2f869c7ab"
      },
      "outputs": [
        {
          "output_type": "execute_result",
          "data": {
            "text/plain": [
              "Text(0.5, 1.0, 'trend of normalized probability (log scale)')"
            ]
          },
          "metadata": {},
          "execution_count": 20
        },
        {
          "output_type": "display_data",
          "data": {
            "text/plain": [
              "<Figure size 1200x400 with 2 Axes>"
            ],
            "image/png": "[encoded data removed]"
          },
          "metadata": {}
        }
      ],
      "source": [
        "#raw outputs\n",
        "\n",
        "boltzman_temperatures = list()\n",
        "p_normalized_maxs = list()\n",
        "p_normalized_mins = list()\n",
        "\n",
        "for n in range(1,32):\n",
        "  boltzman_temperature = float(n)\n",
        "\n",
        "  p_array, p_array_nomralized = probablity_formula(score, boltzman_temperature)\n",
        "\n",
        "  p_max = np.max(p_array)\n",
        "  p_min = np.min(p_array)\n",
        "\n",
        "  # print(\"n=%i, min_max_ratio= %.2f, probability_min= %.6f, probability_max= %.6f\" % (n, p_max/p_min, p_min, p_max))\n",
        "\n",
        "  p_normalized_max = np.max(p_array_nomralized)\n",
        "  p_normalized_min = np.min(p_array_nomralized)\n",
        "\n",
        "  # print(\"n=%i, normalized_min_max_ratio= %.2f, normalized_probability_min= %.6f, normalized_probability_max= %.6f\" % (n, p_normalized_max/p_normalized_min, p_normalized_min, p_normalized_max))\n",
        "\n",
        "  boltzman_temperatures.append(boltzman_temperature)\n",
        "  p_normalized_maxs.append(p_normalized_max)\n",
        "  p_normalized_mins.append(p_normalized_min)\n",
        "\n",
        "\n",
        "pyplot.figure(figsize=(12, 4))\n",
        "\n",
        "pyplot.subplot(1, 2, 1)\n",
        "\n",
        "pyplot.plot(boltzman_temperatures, p_normalized_maxs, color='red', label='p_normalized_max')\n",
        "pyplot.plot(boltzman_temperatures, p_normalized_mins, color='blue', label='p_normalized_min')\n",
        "pyplot.legend()\n",
        "pyplot.title(f'trend of normalized probability (linear scale)')\n",
        "\n",
        "pyplot.subplot(1, 2, 2)\n",
        "\n",
        "pyplot.semilogy(boltzman_temperatures, p_normalized_maxs, color='red', label='p_normalized_max')\n",
        "pyplot.semilogy(boltzman_temperatures, p_normalized_mins, color='blue', label='p_normalized_min')\n",
        "pyplot.legend()\n",
        "pyplot.title(f'trend of normalized probability (log scale)')\n"
      ],
      "id": "3YZedbZgbX3T"
    },
    {
      "cell_type": "markdown",
      "metadata": {
        "id": "wvd6idVizPoc"
      },
      "source": [
        "Note:\n",
        "- As temperature increases, selection probability goes to uniform\n",
        "-"
      ],
      "id": "wvd6idVizPoc"
    },
    {
      "cell_type": "markdown",
      "source": [
        "# specific temperature and analysis"
      ],
      "metadata": {
        "id": "b5BehH_mz0ve"
      },
      "id": "b5BehH_mz0ve"
    },
    {
      "cell_type": "code",
      "source": [
        "boltzman_temperature = 8\n",
        "\n",
        "p_array, p_array_nomralized = probablity_formula(score, boltzman_temperature)"
      ],
      "metadata": {
        "id": "Csf-7xWWzvas"
      },
      "id": "Csf-7xWWzvas",
      "execution_count": null,
      "outputs": []
    },
    {
      "cell_type": "markdown",
      "source": [
        "## histogram of normalized probability"
      ],
      "metadata": {
        "id": "JK0wsXzK0I3T"
      },
      "id": "JK0wsXzK0I3T"
    },
    {
      "cell_type": "code",
      "execution_count": null,
      "metadata": {
        "id": "249b9efd-64df-4398-9061-a21bb6d27eb3",
        "colab": {
          "base_uri": "https://localhost:8080/",
          "height": 408
        },
        "outputId": "e8025955-a18f-4e50-cd15-e46e1f172d19"
      },
      "outputs": [
        {
          "output_type": "execute_result",
          "data": {
            "text/plain": [
              "Text(0.5, 1.0, 'hist: normalized probability, temperature 8 (log scale)')"
            ]
          },
          "metadata": {},
          "execution_count": 22
        },
        {
          "output_type": "display_data",
          "data": {
            "text/plain": [
              "<Figure size 1200x400 with 2 Axes>"
            ],
            "image/png": "[encoded data removed]"
          },
          "metadata": {}
        }
      ],
      "source": [
        "pyplot.figure(figsize=(12, 4))\n",
        "\n",
        "pyplot.subplot(1, 2, 1)\n",
        "\n",
        "_ = pyplot.hist(p_array_nomralized, bins=256, log=False)\n",
        "pyplot.title(f'hist: normalized probability, temperature {boltzman_temperature} (linear scale)')\n",
        "\n",
        "pyplot.subplot(1, 2, 2)\n",
        "\n",
        "_ = pyplot.hist(p_array_nomralized, bins=256, log=True)\n",
        "pyplot.title(f'hist: normalized probability, temperature {boltzman_temperature} (log scale)')"
      ],
      "id": "249b9efd-64df-4398-9061-a21bb6d27eb3"
    },
    {
      "cell_type": "markdown",
      "metadata": {
        "id": "1HjmUagp8Yfb"
      },
      "source": [
        "## histogram of cumulative probability"
      ],
      "id": "1HjmUagp8Yfb"
    },
    {
      "cell_type": "code",
      "source": [
        "def get_normalized_probability(scores,\n",
        "                              boltzman_k,\n",
        "                              boltzman_temperature):\n",
        "  probability = np.exp(-(score / (boltzman_k * boltzman_temperature)))\n",
        "  #normalized_probability = probability / np.linalg.norm(probability) #probability.sum()\n",
        "  normalized_probability = probability / probability.sum()\n",
        "\n",
        "  p_max = np.max(probability)\n",
        "  p_min = np.min(probability)\n",
        "\n",
        "  print(\"-----------------------------------------------\")\n",
        "  print(\"boltzman_k = \", boltzman_k)\n",
        "  print(\"boltzman_temperature = \", boltzman_temperature)\n",
        "  print(\"probability_max= \", p_max)\n",
        "  print(\"probability_min= \", p_min)\n",
        "  # _ = pyplot.hist(normalized_probability, bins=256, log=True)\n",
        "  # pyplot.title(f'histogram of normalized probability, temperature {boltzman_temperature} (log scale)')\n",
        "\n",
        "  return normalized_probability"
      ],
      "metadata": {
        "id": "oHX40yxinkk6"
      },
      "id": "oHX40yxinkk6",
      "execution_count": null,
      "outputs": []
    },
    {
      "cell_type": "code",
      "source": [
        "def get_cumulative_probability(normalized_probability):\n",
        "  # we need the sorted indexes to get correct index of chosen phrase\n",
        "  sorted_normalized_probability = []\n",
        "  sorted_indexes = sorted(range(len(normalized_probability)), key=lambda x: normalized_probability[x],\n",
        "                                  reverse=True)\n",
        "  for i in sorted_indexes:\n",
        "      sorted_normalized_probability.append(normalized_probability[i])\n",
        "  sorted_normalized_probability = np.array(sorted_normalized_probability)\n",
        "\n",
        "  # sorted_normalized_probability = np.array(sorted(normalized_probability, reverse=True))\n",
        "  cumulative_probability = sorted_normalized_probability.cumsum()\n",
        "\n",
        "  # assert cumulative_probability.sum() == 1.0, \"Error: culmulative probability does not add to 1.0\"\n",
        "\n",
        "  return sorted_indexes, cumulative_probability"
      ],
      "metadata": {
        "id": "ozCCDleimQnV"
      },
      "id": "ozCCDleimQnV",
      "execution_count": null,
      "outputs": []
    },
    {
      "cell_type": "code",
      "execution_count": null,
      "metadata": {
        "id": "4b5c4487-c4da-4cf0-ac52-c15f19cd7f7c",
        "colab": {
          "base_uri": "https://localhost:8080/"
        },
        "outputId": "b25d473b-039a-40f5-e7cf-84456a77f38c"
      },
      "outputs": [
        {
          "output_type": "stream",
          "name": "stdout",
          "text": [
            "-----------------------------------------------\n",
            "boltzman_k =  1.0\n",
            "boltzman_temperature =  2.0\n",
            "probability_max=  65614890731.78187\n",
            "probability_min=  1.0054468031210674e-11\n"
          ]
        }
      ],
      "source": [
        "boltzman_temperature = 2.0\n",
        "normalized_probability = get_normalized_probability(score,\n",
        "                                                    boltzman_k,\n",
        "                                                    boltzman_temperature)\n",
        "sorted_indexes, cumulative_probability = get_cumulative_probability(normalized_probability)\n"
      ],
      "id": "4b5c4487-c4da-4cf0-ac52-c15f19cd7f7c"
    },
    {
      "cell_type": "code",
      "execution_count": null,
      "metadata": {
        "id": "Lp0twj0c8WhY"
      },
      "outputs": [],
      "source": [
        "\n",
        "\n"
      ],
      "id": "Lp0twj0c8WhY"
    },
    {
      "cell_type": "code",
      "execution_count": null,
      "metadata": {
        "id": "9e2e553a-c037-4a5f-8b75-fa200f4c96f7",
        "colab": {
          "base_uri": "https://localhost:8080/",
          "height": 469
        },
        "outputId": "4e0b35ee-5fef-4d47-e133-f1ab65eb46f1"
      },
      "outputs": [
        {
          "output_type": "execute_result",
          "data": {
            "text/plain": [
              "<matplotlib.legend.Legend at 0x7f869bcbf6a0>"
            ]
          },
          "metadata": {},
          "execution_count": 26
        },
        {
          "output_type": "display_data",
          "data": {
            "text/plain": [
              "<Figure size 640x480 with 1 Axes>"
            ],
            "image/png": "[encoded data removed]"
          },
          "metadata": {}
        }
      ],
      "source": [
        "### TODO:\n",
        "### Assert than cumulative probability range is 0.00 to 1.00\n",
        "#_ = pyplot.hist(cumulative_probability, bins=256, log=True)\n",
        "#pyplot.title(f'histogram of cumulative probability, temperature {boltzman_temperature} (log scale)')\n",
        "\n",
        "cumulative_probability_log2 = np.log2(cumulative_probability)\n",
        "\n",
        "pyplot.title(f'CDF, T={boltzman_temperature} (log2 scale)')\n",
        "pyplot.plot(cumulative_probability_log2, color='red', label='CDF_log2')\n",
        "#pyplot.plot(boltzman_temperatures, p_normalized_mins, color='blue', label='p_normalized_min')\n",
        "pyplot.legend()\n"
      ],
      "id": "9e2e553a-c037-4a5f-8b75-fa200f4c96f7"
    },
    {
      "cell_type": "markdown",
      "metadata": {
        "id": "n87R5i6kvwHJ"
      },
      "source": [
        "Sampling"
      ],
      "id": "n87R5i6kvwHJ"
    },
    {
      "cell_type": "code",
      "execution_count": null,
      "metadata": {
        "id": "lW0HJ7bBvyeg"
      },
      "outputs": [],
      "source": [
        "#Add function\n",
        "#uses cumulative probability distribution\n",
        "#choose random number between 0.00 and 1.00\n",
        "#use to choose next prompt from list\n",
        "#keep adding phrases/prompts until token length would go over 75 (using token length parameter in csv)\n",
        "\n",
        "#NOTE: make sure we dont use same prompt phrase twice in same generation\n",
        "\n",
        "import math\n",
        "\n",
        "# find the first element, whose cumulative prob is more than the random float\n",
        "def find_first_element_binary_search(cumulative_prob_arr, random_float):\n",
        "    low = 0\n",
        "    high = len(cumulative_prob_arr) - 1\n",
        "    mid = 0\n",
        "\n",
        "    loop_count = 0\n",
        "    while low < high:\n",
        "        loop_count += 1\n",
        "        assert loop_count < 32, \"Error: binary search loop count is more than 32\"\n",
        "\n",
        "        mid = (high + low) / 2\n",
        "        mid = math.floor(mid)\n",
        "\n",
        "        # If random_float is greater, ignore left half\n",
        "        if cumulative_prob_arr[mid] < random_float:\n",
        "            low = mid + 1\n",
        "        # If random_float is smaller, ignore right half\n",
        "        elif cumulative_prob_arr[mid] >= random_float:\n",
        "            high = mid - 1\n",
        "\n",
        "        # use this index since sometimes the exact\n",
        "        # random num is not in the list\n",
        "        if low == high:\n",
        "            # assert cumulative_prob_arr[low-1] < random_float\n",
        "            # assert cumulative_prob_arr[low] >= random_float, \"{} >= {}, next index val={}\".format(cumulative_prob_arr[low], random_float, cumulative_prob_arr[low+1])\n",
        "            # assert round(cumulative_prob_arr[low], 4) >= 0.0, \"val={}\".format(cumulative_prob_arr[low])\n",
        "            # assert round(cumulative_prob_arr[low], 4) <= 1.0, \"val={}\".format(cumulative_prob_arr[low])\n",
        "\n",
        "            return low\n",
        "\n",
        "\n",
        "    # If we reach here, then the element was not present\n",
        "    return -1"
      ],
      "id": "lW0HJ7bBvyeg"
    },
    {
      "cell_type": "code",
      "execution_count": null,
      "metadata": {
        "id": "CO8_3Z4sX59a"
      },
      "outputs": [],
      "source": [
        "import random\n",
        "\n",
        "def generate_prompt(positive_phrase_df,\n",
        "                    positive_phrase_origin_indexes,\n",
        "                    positive_cumulative_probability_arr,\n",
        "                    ):\n",
        "    max_token_size = 75\n",
        "    comma_token_size = 1\n",
        "\n",
        "    positive_prompt_total_token_size = 0\n",
        "    positive_prompt = []\n",
        "    positive_prompt_indexes = []\n",
        "    positive_used_phrase_dict = {}\n",
        "\n",
        "    positive_cumulative_probability_arr_min = positive_cumulative_probability_arr.min()\n",
        "    positive_cumulative_probability_arr_max = positive_cumulative_probability_arr.max()\n",
        "    # positive prompt\n",
        "    while positive_prompt_total_token_size < max_token_size:\n",
        "        random_float = random.uniform(positive_cumulative_probability_arr_min,\n",
        "                                      positive_cumulative_probability_arr_max)\n",
        "        random_index = find_first_element_binary_search(positive_cumulative_probability_arr, random_float)\n",
        "        if random_index in positive_used_phrase_dict:\n",
        "            continue\n",
        "\n",
        "        prompt_index = positive_phrase_origin_indexes[random_index]\n",
        "        random_phrase = positive_phrase_df[\"phrase\"][prompt_index]\n",
        "\n",
        "        chosen_phrase_size = positive_phrase_df[\"token length\"][prompt_index]\n",
        "        sum_token_size = positive_prompt_total_token_size + chosen_phrase_size + comma_token_size\n",
        "        if sum_token_size < max_token_size:\n",
        "            # update used array\n",
        "            positive_used_phrase_dict[random_index] = 1\n",
        "            positive_prompt.append(str(random_phrase))\n",
        "            positive_prompt_indexes.append(prompt_index)\n",
        "            positive_prompt_total_token_size = sum_token_size\n",
        "        else:\n",
        "            break\n",
        "\n",
        "    positive_prompt_str = ', '.join([prompt for prompt in positive_prompt])\n",
        "\n",
        "    return positive_prompt_str, positive_prompt_indexes"
      ],
      "id": "CO8_3Z4sX59a"
    },
    {
      "cell_type": "code",
      "source": [
        "def get_variance(energies, mean):\n",
        "  energies = np.array(energies)\n",
        "  diff = energies - mean\n",
        "  product = diff * diff\n",
        "  sum = product.sum()\n",
        "  variance = sum/len(energies)\n",
        "\n",
        "  return variance"
      ],
      "metadata": {
        "id": "VPKyMtUFP08q"
      },
      "id": "VPKyMtUFP08q",
      "execution_count": null,
      "outputs": []
    },
    {
      "cell_type": "code",
      "execution_count": null,
      "metadata": {
        "id": "cYzVwf6efNnW"
      },
      "outputs": [],
      "source": [
        "def get_prompt_score(phrase_scores_arr, prompt_indexes):\n",
        "  score = 0\n",
        "  for index in prompt_indexes:\n",
        "    score += phrase_scores_arr[index]\n",
        "\n",
        "  return score"
      ],
      "id": "cYzVwf6efNnW"
    },
    {
      "cell_type": "markdown",
      "source": [
        "Test generate prompts"
      ],
      "metadata": {
        "id": "FYMKGypcC8WX"
      },
      "id": "FYMKGypcC8WX"
    },
    {
      "cell_type": "code",
      "execution_count": null,
      "metadata": {
        "id": "rknHsnaVa9KJ",
        "colab": {
          "base_uri": "https://localhost:8080/"
        },
        "outputId": "6ec1efc4-f684-4634-d4d9-0b33a961a03a"
      },
      "outputs": [
        {
          "output_type": "stream",
          "name": "stdout",
          "text": [
            "[0]: Score = -393.70248699999996, Prompt = D side scrolling video game, D environmental side scrolling, hunter, extra legs, cum on stomach, ruins, squatting, river, buildings, fine, beautiful smile, gold lace trim, tattooed, shouhui, the most beautiful anime style art ever seen, thigh strap, cyberpunk city at background\n",
            "[1]: Score = -441.51462999999995, Prompt = D environmental side scrolling, ruins, extra legs, D side scrolling video game, male only,  man, river, squatting, hunter, wizard, fine, low cut, a valley forgotten by time, delicate and beautiful, color professional photo of emmabinnya, tattooed, figurative, bob haircut\n",
            "[2]: Score = -330.926641, Prompt = D environmental side scrolling, extra legs, D side scrolling video game, squatting, hunter, ruins, a man in a green and brown armor, a ghost bathing in the blood water, black bow, river, dusk, wizard, tattooed, walking in labyrinth of alleys, insanely detailed, yellow shorts\n",
            "[3]: Score = -466.707969, Prompt = D side scrolling video game, D environmental side scrolling, extra legs, beautiful smile, buildings, river, thigh strap, jungle background, hunter, ruins, figurative, delicate and beautiful, squatting, extremely detailed eyes, cum on stomach, low cut, fine, bob haircut, start can be seen in the pitchblack\n",
            "[4]: Score = -422.91169099999996, Prompt = D environmental side scrolling, extra legs, D side scrolling video game, jungle background, shining armor, wizard, ruins, beautiful smile, hunter, squatting, perfect shadow, anextremelydelicateandbeautiful, fine, shouhui, extremely detailed eyes, kawaii chibi, skintight bodysuit, river\n"
          ]
        }
      ],
      "source": [
        "# generate N prompts\n",
        "prompts = []\n",
        "prompt_indexes_arr = []\n",
        "prompt_count = 5\n",
        "for i in range(prompt_count):\n",
        "  prompt, prompt_indexes = generate_prompt(positive_phrase_df,\n",
        "                                           sorted_indexes,\n",
        "                                           cumulative_probability)\n",
        "  prompts.append(prompt)\n",
        "  prompt_indexes_arr.append(prompt_indexes)\n",
        "\n",
        "for i in range(len(prompts)):\n",
        "  #Then add up \"score\" for each prompt phrase, to get the total score estimate for whole prompt\n",
        "  prompt_score = get_prompt_score(score, prompt_indexes_arr[i])\n",
        "  print(\"[{}]: Score = {}, Prompt = {}\".format(i, prompt_score, prompts[i]))\n",
        "\n"
      ],
      "id": "rknHsnaVa9KJ"
    },
    {
      "cell_type": "markdown",
      "metadata": {
        "id": "sgMBqe9R9fKy"
      },
      "source": [
        "Graph average prompt energy per temperature"
      ],
      "id": "sgMBqe9R9fKy"
    },
    {
      "cell_type": "code",
      "execution_count": null,
      "metadata": {
        "id": "2SvAqr7OwIEx",
        "colab": {
          "base_uri": "https://localhost:8080/",
          "height": 640
        },
        "outputId": "fe77e136-70db-4a96-f7b7-165b52c3a69d"
      },
      "outputs": [
        {
          "output_type": "stream",
          "name": "stdout",
          "text": [
            "temperature_range= [4, 5, 6, 7, 8, 9, 10, 11, 12, 13, 14, 15, 16, 17, 18, 19, 20, 21, 22, 23, 24, 25, 26, 27, 28, 29, 30, 31, 32]\n"
          ]
        },
        {
          "output_type": "stream",
          "name": "stderr",
          "text": [
            "\r  0%|          | 0/29 [00:00<?, ?it/s]"
          ]
        },
        {
          "output_type": "stream",
          "name": "stdout",
          "text": [
            "-----------------------------------------------\n",
            "boltzman_k =  1.0\n",
            "boltzman_temperature =  4\n",
            "probability_max=  256154.03711786756\n",
            "probability_min=  3.1708781167384334e-06\n"
          ]
        },
        {
          "output_type": "stream",
          "name": "stderr",
          "text": [
            "\r  3%|▎         | 1/29 [06:32<3:03:03, 392.26s/it]"
          ]
        },
        {
          "output_type": "stream",
          "name": "stdout",
          "text": [
            "mean energy =  -75.74432066796875\n",
            "variance =  1907.4335975753131\n",
            "linear embedding mean score =  10889.852532863617\n",
            "-----------------------------------------------\n",
            "boltzman_k =  1.0\n",
            "boltzman_temperature =  5\n",
            "probability_max=  21222.7160756042\n",
            "probability_min=  3.989731218986584e-05\n"
          ]
        },
        {
          "output_type": "stream",
          "name": "stderr",
          "text": [
            "\r  3%|▎         | 1/29 [07:22<3:26:18, 442.09s/it]\n"
          ]
        },
        {
          "output_type": "error",
          "ename": "KeyboardInterrupt",
          "evalue": "ignored",
          "traceback": [
            "\u001b[0;31m---------------------------------------------------------------------------\u001b[0m",
            "\u001b[0;31mKeyboardInterrupt\u001b[0m                         Traceback (most recent call last)",
            "\u001b[0;32m<ipython-input-32-13d2e10c819d>\u001b[0m in \u001b[0;36m<cell line: 10>\u001b[0;34m()\u001b[0m\n\u001b[1;32m     32\u001b[0m \u001b[0;34m\u001b[0m\u001b[0m\n\u001b[1;32m     33\u001b[0m     \u001b[0;31m# get linear embedding score\u001b[0m\u001b[0;34m\u001b[0m\u001b[0;34m\u001b[0m\u001b[0m\n\u001b[0;32m---> 34\u001b[0;31m     linear_embedding_score = get_prompt_linear_embedding_score(text_embedder,\n\u001b[0m\u001b[1;32m     35\u001b[0m                                                                \u001b[0mlinear_model\u001b[0m\u001b[0;34m,\u001b[0m\u001b[0;34m\u001b[0m\u001b[0;34m\u001b[0m\u001b[0m\n\u001b[1;32m     36\u001b[0m                                                                prompt_str_arr[i])\n",
            "\u001b[0;32m<ipython-input-8-b38d6f363416>\u001b[0m in \u001b[0;36mget_prompt_linear_embedding_score\u001b[0;34m(text_embedder, linear_model, prompt)\u001b[0m\n\u001b[1;32m      4\u001b[0m \u001b[0;32mdef\u001b[0m \u001b[0mget_prompt_linear_embedding_score\u001b[0m\u001b[0;34m(\u001b[0m\u001b[0mtext_embedder\u001b[0m\u001b[0;34m,\u001b[0m \u001b[0mlinear_model\u001b[0m\u001b[0;34m,\u001b[0m \u001b[0mprompt\u001b[0m\u001b[0;34m)\u001b[0m\u001b[0;34m:\u001b[0m\u001b[0;34m\u001b[0m\u001b[0;34m\u001b[0m\u001b[0m\n\u001b[1;32m      5\u001b[0m   \u001b[0;31m# get embedding of prompt first\u001b[0m\u001b[0;34m\u001b[0m\u001b[0;34m\u001b[0m\u001b[0m\n\u001b[0;32m----> 6\u001b[0;31m   \u001b[0membedding\u001b[0m\u001b[0;34m,\u001b[0m \u001b[0m_\u001b[0m\u001b[0;34m,\u001b[0m \u001b[0mattention_mask\u001b[0m \u001b[0;34m=\u001b[0m \u001b[0mtext_embedder\u001b[0m\u001b[0;34m.\u001b[0m\u001b[0mforward_return_all\u001b[0m\u001b[0;34m(\u001b[0m\u001b[0mprompt\u001b[0m\u001b[0;34m)\u001b[0m\u001b[0;34m\u001b[0m\u001b[0;34m\u001b[0m\u001b[0m\n\u001b[0m\u001b[1;32m      7\u001b[0m   \u001b[0;31m# average using attention mask\u001b[0m\u001b[0;34m\u001b[0m\u001b[0;34m\u001b[0m\u001b[0m\n\u001b[1;32m      8\u001b[0m   \u001b[0maverage_pooled\u001b[0m \u001b[0;34m=\u001b[0m \u001b[0mtensor_attention_pooling\u001b[0m\u001b[0;34m(\u001b[0m\u001b[0membedding\u001b[0m\u001b[0;34m,\u001b[0m \u001b[0mattention_mask\u001b[0m\u001b[0;34m)\u001b[0m\u001b[0;34m\u001b[0m\u001b[0;34m\u001b[0m\u001b[0m\n",
            "\u001b[0;32m/content/kcg-ml-image-pipeline/stable_diffusion/model/clip_text_embedder/clip_text_embedder.py\u001b[0m in \u001b[0;36mforward_return_all\u001b[0;34m(self, prompts)\u001b[0m\n\u001b[1;32m    149\u001b[0m \u001b[0;34m\u001b[0m\u001b[0m\n\u001b[1;32m    150\u001b[0m         \u001b[0;31m# Get CLIP embeddings\u001b[0m\u001b[0;34m\u001b[0m\u001b[0;34m\u001b[0m\u001b[0m\n\u001b[0;32m--> 151\u001b[0;31m         \u001b[0mclip_output\u001b[0m \u001b[0;34m=\u001b[0m \u001b[0mself\u001b[0m\u001b[0;34m.\u001b[0m\u001b[0mtransformer\u001b[0m\u001b[0;34m(\u001b[0m\u001b[0minput_ids\u001b[0m\u001b[0;34m=\u001b[0m\u001b[0mtokens\u001b[0m\u001b[0;34m)\u001b[0m\u001b[0;34m\u001b[0m\u001b[0;34m\u001b[0m\u001b[0m\n\u001b[0m\u001b[1;32m    152\u001b[0m \u001b[0;34m\u001b[0m\u001b[0m\n\u001b[1;32m    153\u001b[0m         \u001b[0;32mreturn\u001b[0m \u001b[0mclip_output\u001b[0m\u001b[0;34m.\u001b[0m\u001b[0mlast_hidden_state\u001b[0m\u001b[0;34m,\u001b[0m \u001b[0mclip_output\u001b[0m\u001b[0;34m.\u001b[0m\u001b[0mpooler_output\u001b[0m\u001b[0;34m,\u001b[0m \u001b[0mbatch_encoding\u001b[0m\u001b[0;34m[\u001b[0m\u001b[0;34m'attention_mask'\u001b[0m\u001b[0;34m]\u001b[0m\u001b[0;34m.\u001b[0m\u001b[0mto\u001b[0m\u001b[0;34m(\u001b[0m\u001b[0mself\u001b[0m\u001b[0;34m.\u001b[0m\u001b[0mdevice\u001b[0m\u001b[0;34m)\u001b[0m\u001b[0;34m\u001b[0m\u001b[0;34m\u001b[0m\u001b[0m\n",
            "\u001b[0;32m/usr/local/lib/python3.10/dist-packages/torch/nn/modules/module.py\u001b[0m in \u001b[0;36m_call_impl\u001b[0;34m(self, *args, **kwargs)\u001b[0m\n\u001b[1;32m   1499\u001b[0m                 \u001b[0;32mor\u001b[0m \u001b[0m_global_backward_pre_hooks\u001b[0m \u001b[0;32mor\u001b[0m \u001b[0m_global_backward_hooks\u001b[0m\u001b[0;34m\u001b[0m\u001b[0;34m\u001b[0m\u001b[0m\n\u001b[1;32m   1500\u001b[0m                 or _global_forward_hooks or _global_forward_pre_hooks):\n\u001b[0;32m-> 1501\u001b[0;31m             \u001b[0;32mreturn\u001b[0m \u001b[0mforward_call\u001b[0m\u001b[0;34m(\u001b[0m\u001b[0;34m*\u001b[0m\u001b[0margs\u001b[0m\u001b[0;34m,\u001b[0m \u001b[0;34m**\u001b[0m\u001b[0mkwargs\u001b[0m\u001b[0;34m)\u001b[0m\u001b[0;34m\u001b[0m\u001b[0;34m\u001b[0m\u001b[0m\n\u001b[0m\u001b[1;32m   1502\u001b[0m         \u001b[0;31m# Do not call functions when jit is used\u001b[0m\u001b[0;34m\u001b[0m\u001b[0;34m\u001b[0m\u001b[0m\n\u001b[1;32m   1503\u001b[0m         \u001b[0mfull_backward_hooks\u001b[0m\u001b[0;34m,\u001b[0m \u001b[0mnon_full_backward_hooks\u001b[0m \u001b[0;34m=\u001b[0m \u001b[0;34m[\u001b[0m\u001b[0;34m]\u001b[0m\u001b[0;34m,\u001b[0m \u001b[0;34m[\u001b[0m\u001b[0;34m]\u001b[0m\u001b[0;34m\u001b[0m\u001b[0;34m\u001b[0m\u001b[0m\n",
            "\u001b[0;32m/usr/local/lib/python3.10/dist-packages/transformers/models/clip/modeling_clip.py\u001b[0m in \u001b[0;36mforward\u001b[0;34m(self, input_ids, attention_mask, position_ids, output_attentions, output_hidden_states, return_dict)\u001b[0m\n\u001b[1;32m    798\u001b[0m         \u001b[0mreturn_dict\u001b[0m \u001b[0;34m=\u001b[0m \u001b[0mreturn_dict\u001b[0m \u001b[0;32mif\u001b[0m \u001b[0mreturn_dict\u001b[0m \u001b[0;32mis\u001b[0m \u001b[0;32mnot\u001b[0m \u001b[0;32mNone\u001b[0m \u001b[0;32melse\u001b[0m \u001b[0mself\u001b[0m\u001b[0;34m.\u001b[0m\u001b[0mconfig\u001b[0m\u001b[0;34m.\u001b[0m\u001b[0muse_return_dict\u001b[0m\u001b[0;34m\u001b[0m\u001b[0;34m\u001b[0m\u001b[0m\n\u001b[1;32m    799\u001b[0m \u001b[0;34m\u001b[0m\u001b[0m\n\u001b[0;32m--> 800\u001b[0;31m         return self.text_model(\n\u001b[0m\u001b[1;32m    801\u001b[0m             \u001b[0minput_ids\u001b[0m\u001b[0;34m=\u001b[0m\u001b[0minput_ids\u001b[0m\u001b[0;34m,\u001b[0m\u001b[0;34m\u001b[0m\u001b[0;34m\u001b[0m\u001b[0m\n\u001b[1;32m    802\u001b[0m             \u001b[0mattention_mask\u001b[0m\u001b[0;34m=\u001b[0m\u001b[0mattention_mask\u001b[0m\u001b[0;34m,\u001b[0m\u001b[0;34m\u001b[0m\u001b[0;34m\u001b[0m\u001b[0m\n",
            "\u001b[0;32m/usr/local/lib/python3.10/dist-packages/torch/nn/modules/module.py\u001b[0m in \u001b[0;36m_call_impl\u001b[0;34m(self, *args, **kwargs)\u001b[0m\n\u001b[1;32m   1499\u001b[0m                 \u001b[0;32mor\u001b[0m \u001b[0m_global_backward_pre_hooks\u001b[0m \u001b[0;32mor\u001b[0m \u001b[0m_global_backward_hooks\u001b[0m\u001b[0;34m\u001b[0m\u001b[0;34m\u001b[0m\u001b[0m\n\u001b[1;32m   1500\u001b[0m                 or _global_forward_hooks or _global_forward_pre_hooks):\n\u001b[0;32m-> 1501\u001b[0;31m             \u001b[0;32mreturn\u001b[0m \u001b[0mforward_call\u001b[0m\u001b[0;34m(\u001b[0m\u001b[0;34m*\u001b[0m\u001b[0margs\u001b[0m\u001b[0;34m,\u001b[0m \u001b[0;34m**\u001b[0m\u001b[0mkwargs\u001b[0m\u001b[0;34m)\u001b[0m\u001b[0;34m\u001b[0m\u001b[0;34m\u001b[0m\u001b[0m\n\u001b[0m\u001b[1;32m   1502\u001b[0m         \u001b[0;31m# Do not call functions when jit is used\u001b[0m\u001b[0;34m\u001b[0m\u001b[0;34m\u001b[0m\u001b[0m\n\u001b[1;32m   1503\u001b[0m         \u001b[0mfull_backward_hooks\u001b[0m\u001b[0;34m,\u001b[0m \u001b[0mnon_full_backward_hooks\u001b[0m \u001b[0;34m=\u001b[0m \u001b[0;34m[\u001b[0m\u001b[0;34m]\u001b[0m\u001b[0;34m,\u001b[0m \u001b[0;34m[\u001b[0m\u001b[0;34m]\u001b[0m\u001b[0;34m\u001b[0m\u001b[0;34m\u001b[0m\u001b[0m\n",
            "\u001b[0;32m/usr/local/lib/python3.10/dist-packages/transformers/models/clip/modeling_clip.py\u001b[0m in \u001b[0;36mforward\u001b[0;34m(self, input_ids, attention_mask, position_ids, output_attentions, output_hidden_states, return_dict)\u001b[0m\n\u001b[1;32m    703\u001b[0m             \u001b[0mattention_mask\u001b[0m \u001b[0;34m=\u001b[0m \u001b[0m_prepare_4d_attention_mask\u001b[0m\u001b[0;34m(\u001b[0m\u001b[0mattention_mask\u001b[0m\u001b[0;34m,\u001b[0m \u001b[0mhidden_states\u001b[0m\u001b[0;34m.\u001b[0m\u001b[0mdtype\u001b[0m\u001b[0;34m)\u001b[0m\u001b[0;34m\u001b[0m\u001b[0;34m\u001b[0m\u001b[0m\n\u001b[1;32m    704\u001b[0m \u001b[0;34m\u001b[0m\u001b[0m\n\u001b[0;32m--> 705\u001b[0;31m         encoder_outputs = self.encoder(\n\u001b[0m\u001b[1;32m    706\u001b[0m             \u001b[0minputs_embeds\u001b[0m\u001b[0;34m=\u001b[0m\u001b[0mhidden_states\u001b[0m\u001b[0;34m,\u001b[0m\u001b[0;34m\u001b[0m\u001b[0;34m\u001b[0m\u001b[0m\n\u001b[1;32m    707\u001b[0m             \u001b[0mattention_mask\u001b[0m\u001b[0;34m=\u001b[0m\u001b[0mattention_mask\u001b[0m\u001b[0;34m,\u001b[0m\u001b[0;34m\u001b[0m\u001b[0;34m\u001b[0m\u001b[0m\n",
            "\u001b[0;32m/usr/local/lib/python3.10/dist-packages/torch/nn/modules/module.py\u001b[0m in \u001b[0;36m_call_impl\u001b[0;34m(self, *args, **kwargs)\u001b[0m\n\u001b[1;32m   1499\u001b[0m                 \u001b[0;32mor\u001b[0m \u001b[0m_global_backward_pre_hooks\u001b[0m \u001b[0;32mor\u001b[0m \u001b[0m_global_backward_hooks\u001b[0m\u001b[0;34m\u001b[0m\u001b[0;34m\u001b[0m\u001b[0m\n\u001b[1;32m   1500\u001b[0m                 or _global_forward_hooks or _global_forward_pre_hooks):\n\u001b[0;32m-> 1501\u001b[0;31m             \u001b[0;32mreturn\u001b[0m \u001b[0mforward_call\u001b[0m\u001b[0;34m(\u001b[0m\u001b[0;34m*\u001b[0m\u001b[0margs\u001b[0m\u001b[0;34m,\u001b[0m \u001b[0;34m**\u001b[0m\u001b[0mkwargs\u001b[0m\u001b[0;34m)\u001b[0m\u001b[0;34m\u001b[0m\u001b[0;34m\u001b[0m\u001b[0m\n\u001b[0m\u001b[1;32m   1502\u001b[0m         \u001b[0;31m# Do not call functions when jit is used\u001b[0m\u001b[0;34m\u001b[0m\u001b[0;34m\u001b[0m\u001b[0m\n\u001b[1;32m   1503\u001b[0m         \u001b[0mfull_backward_hooks\u001b[0m\u001b[0;34m,\u001b[0m \u001b[0mnon_full_backward_hooks\u001b[0m \u001b[0;34m=\u001b[0m \u001b[0;34m[\u001b[0m\u001b[0;34m]\u001b[0m\u001b[0;34m,\u001b[0m \u001b[0;34m[\u001b[0m\u001b[0;34m]\u001b[0m\u001b[0;34m\u001b[0m\u001b[0;34m\u001b[0m\u001b[0m\n",
            "\u001b[0;32m/usr/local/lib/python3.10/dist-packages/transformers/models/clip/modeling_clip.py\u001b[0m in \u001b[0;36mforward\u001b[0;34m(self, inputs_embeds, attention_mask, causal_attention_mask, output_attentions, output_hidden_states, return_dict)\u001b[0m\n\u001b[1;32m    630\u001b[0m                 )\n\u001b[1;32m    631\u001b[0m             \u001b[0;32melse\u001b[0m\u001b[0;34m:\u001b[0m\u001b[0;34m\u001b[0m\u001b[0;34m\u001b[0m\u001b[0m\n\u001b[0;32m--> 632\u001b[0;31m                 layer_outputs = encoder_layer(\n\u001b[0m\u001b[1;32m    633\u001b[0m                     \u001b[0mhidden_states\u001b[0m\u001b[0;34m,\u001b[0m\u001b[0;34m\u001b[0m\u001b[0;34m\u001b[0m\u001b[0m\n\u001b[1;32m    634\u001b[0m                     \u001b[0mattention_mask\u001b[0m\u001b[0;34m,\u001b[0m\u001b[0;34m\u001b[0m\u001b[0;34m\u001b[0m\u001b[0m\n",
            "\u001b[0;32m/usr/local/lib/python3.10/dist-packages/torch/nn/modules/module.py\u001b[0m in \u001b[0;36m_call_impl\u001b[0;34m(self, *args, **kwargs)\u001b[0m\n\u001b[1;32m   1499\u001b[0m                 \u001b[0;32mor\u001b[0m \u001b[0m_global_backward_pre_hooks\u001b[0m \u001b[0;32mor\u001b[0m \u001b[0m_global_backward_hooks\u001b[0m\u001b[0;34m\u001b[0m\u001b[0;34m\u001b[0m\u001b[0m\n\u001b[1;32m   1500\u001b[0m                 or _global_forward_hooks or _global_forward_pre_hooks):\n\u001b[0;32m-> 1501\u001b[0;31m             \u001b[0;32mreturn\u001b[0m \u001b[0mforward_call\u001b[0m\u001b[0;34m(\u001b[0m\u001b[0;34m*\u001b[0m\u001b[0margs\u001b[0m\u001b[0;34m,\u001b[0m \u001b[0;34m**\u001b[0m\u001b[0mkwargs\u001b[0m\u001b[0;34m)\u001b[0m\u001b[0;34m\u001b[0m\u001b[0;34m\u001b[0m\u001b[0m\n\u001b[0m\u001b[1;32m   1502\u001b[0m         \u001b[0;31m# Do not call functions when jit is used\u001b[0m\u001b[0;34m\u001b[0m\u001b[0;34m\u001b[0m\u001b[0m\n\u001b[1;32m   1503\u001b[0m         \u001b[0mfull_backward_hooks\u001b[0m\u001b[0;34m,\u001b[0m \u001b[0mnon_full_backward_hooks\u001b[0m \u001b[0;34m=\u001b[0m \u001b[0;34m[\u001b[0m\u001b[0;34m]\u001b[0m\u001b[0;34m,\u001b[0m \u001b[0;34m[\u001b[0m\u001b[0;34m]\u001b[0m\u001b[0;34m\u001b[0m\u001b[0;34m\u001b[0m\u001b[0m\n",
            "\u001b[0;32m/usr/local/lib/python3.10/dist-packages/transformers/models/clip/modeling_clip.py\u001b[0m in \u001b[0;36mforward\u001b[0;34m(self, hidden_states, attention_mask, causal_attention_mask, output_attentions)\u001b[0m\n\u001b[1;32m    380\u001b[0m         \u001b[0mresidual\u001b[0m \u001b[0;34m=\u001b[0m \u001b[0mhidden_states\u001b[0m\u001b[0;34m\u001b[0m\u001b[0;34m\u001b[0m\u001b[0m\n\u001b[1;32m    381\u001b[0m         \u001b[0mhidden_states\u001b[0m \u001b[0;34m=\u001b[0m \u001b[0mself\u001b[0m\u001b[0;34m.\u001b[0m\u001b[0mlayer_norm2\u001b[0m\u001b[0;34m(\u001b[0m\u001b[0mhidden_states\u001b[0m\u001b[0;34m)\u001b[0m\u001b[0;34m\u001b[0m\u001b[0;34m\u001b[0m\u001b[0m\n\u001b[0;32m--> 382\u001b[0;31m         \u001b[0mhidden_states\u001b[0m \u001b[0;34m=\u001b[0m \u001b[0mself\u001b[0m\u001b[0;34m.\u001b[0m\u001b[0mmlp\u001b[0m\u001b[0;34m(\u001b[0m\u001b[0mhidden_states\u001b[0m\u001b[0;34m)\u001b[0m\u001b[0;34m\u001b[0m\u001b[0;34m\u001b[0m\u001b[0m\n\u001b[0m\u001b[1;32m    383\u001b[0m         \u001b[0mhidden_states\u001b[0m \u001b[0;34m=\u001b[0m \u001b[0mresidual\u001b[0m \u001b[0;34m+\u001b[0m \u001b[0mhidden_states\u001b[0m\u001b[0;34m\u001b[0m\u001b[0;34m\u001b[0m\u001b[0m\n\u001b[1;32m    384\u001b[0m \u001b[0;34m\u001b[0m\u001b[0m\n",
            "\u001b[0;32m/usr/local/lib/python3.10/dist-packages/torch/nn/modules/module.py\u001b[0m in \u001b[0;36m_call_impl\u001b[0;34m(self, *args, **kwargs)\u001b[0m\n\u001b[1;32m   1499\u001b[0m                 \u001b[0;32mor\u001b[0m \u001b[0m_global_backward_pre_hooks\u001b[0m \u001b[0;32mor\u001b[0m \u001b[0m_global_backward_hooks\u001b[0m\u001b[0;34m\u001b[0m\u001b[0;34m\u001b[0m\u001b[0m\n\u001b[1;32m   1500\u001b[0m                 or _global_forward_hooks or _global_forward_pre_hooks):\n\u001b[0;32m-> 1501\u001b[0;31m             \u001b[0;32mreturn\u001b[0m \u001b[0mforward_call\u001b[0m\u001b[0;34m(\u001b[0m\u001b[0;34m*\u001b[0m\u001b[0margs\u001b[0m\u001b[0;34m,\u001b[0m \u001b[0;34m**\u001b[0m\u001b[0mkwargs\u001b[0m\u001b[0;34m)\u001b[0m\u001b[0;34m\u001b[0m\u001b[0;34m\u001b[0m\u001b[0m\n\u001b[0m\u001b[1;32m   1502\u001b[0m         \u001b[0;31m# Do not call functions when jit is used\u001b[0m\u001b[0;34m\u001b[0m\u001b[0;34m\u001b[0m\u001b[0m\n\u001b[1;32m   1503\u001b[0m         \u001b[0mfull_backward_hooks\u001b[0m\u001b[0;34m,\u001b[0m \u001b[0mnon_full_backward_hooks\u001b[0m \u001b[0;34m=\u001b[0m \u001b[0;34m[\u001b[0m\u001b[0;34m]\u001b[0m\u001b[0;34m,\u001b[0m \u001b[0;34m[\u001b[0m\u001b[0;34m]\u001b[0m\u001b[0;34m\u001b[0m\u001b[0;34m\u001b[0m\u001b[0m\n",
            "\u001b[0;32m/usr/local/lib/python3.10/dist-packages/transformers/models/clip/modeling_clip.py\u001b[0m in \u001b[0;36mforward\u001b[0;34m(self, hidden_states)\u001b[0m\n\u001b[1;32m    336\u001b[0m     \u001b[0;32mdef\u001b[0m \u001b[0mforward\u001b[0m\u001b[0;34m(\u001b[0m\u001b[0mself\u001b[0m\u001b[0;34m,\u001b[0m \u001b[0mhidden_states\u001b[0m\u001b[0;34m:\u001b[0m \u001b[0mtorch\u001b[0m\u001b[0;34m.\u001b[0m\u001b[0mTensor\u001b[0m\u001b[0;34m)\u001b[0m \u001b[0;34m->\u001b[0m \u001b[0mtorch\u001b[0m\u001b[0;34m.\u001b[0m\u001b[0mTensor\u001b[0m\u001b[0;34m:\u001b[0m\u001b[0;34m\u001b[0m\u001b[0;34m\u001b[0m\u001b[0m\n\u001b[1;32m    337\u001b[0m         \u001b[0mhidden_states\u001b[0m \u001b[0;34m=\u001b[0m \u001b[0mself\u001b[0m\u001b[0;34m.\u001b[0m\u001b[0mfc1\u001b[0m\u001b[0;34m(\u001b[0m\u001b[0mhidden_states\u001b[0m\u001b[0;34m)\u001b[0m\u001b[0;34m\u001b[0m\u001b[0;34m\u001b[0m\u001b[0m\n\u001b[0;32m--> 338\u001b[0;31m         \u001b[0mhidden_states\u001b[0m \u001b[0;34m=\u001b[0m \u001b[0mself\u001b[0m\u001b[0;34m.\u001b[0m\u001b[0mactivation_fn\u001b[0m\u001b[0;34m(\u001b[0m\u001b[0mhidden_states\u001b[0m\u001b[0;34m)\u001b[0m\u001b[0;34m\u001b[0m\u001b[0;34m\u001b[0m\u001b[0m\n\u001b[0m\u001b[1;32m    339\u001b[0m         \u001b[0mhidden_states\u001b[0m \u001b[0;34m=\u001b[0m \u001b[0mself\u001b[0m\u001b[0;34m.\u001b[0m\u001b[0mfc2\u001b[0m\u001b[0;34m(\u001b[0m\u001b[0mhidden_states\u001b[0m\u001b[0;34m)\u001b[0m\u001b[0;34m\u001b[0m\u001b[0;34m\u001b[0m\u001b[0m\n\u001b[1;32m    340\u001b[0m         \u001b[0;32mreturn\u001b[0m \u001b[0mhidden_states\u001b[0m\u001b[0;34m\u001b[0m\u001b[0;34m\u001b[0m\u001b[0m\n",
            "\u001b[0;32m/usr/local/lib/python3.10/dist-packages/torch/nn/modules/module.py\u001b[0m in \u001b[0;36m_call_impl\u001b[0;34m(self, *args, **kwargs)\u001b[0m\n\u001b[1;32m   1499\u001b[0m                 \u001b[0;32mor\u001b[0m \u001b[0m_global_backward_pre_hooks\u001b[0m \u001b[0;32mor\u001b[0m \u001b[0m_global_backward_hooks\u001b[0m\u001b[0;34m\u001b[0m\u001b[0;34m\u001b[0m\u001b[0m\n\u001b[1;32m   1500\u001b[0m                 or _global_forward_hooks or _global_forward_pre_hooks):\n\u001b[0;32m-> 1501\u001b[0;31m             \u001b[0;32mreturn\u001b[0m \u001b[0mforward_call\u001b[0m\u001b[0;34m(\u001b[0m\u001b[0;34m*\u001b[0m\u001b[0margs\u001b[0m\u001b[0;34m,\u001b[0m \u001b[0;34m**\u001b[0m\u001b[0mkwargs\u001b[0m\u001b[0;34m)\u001b[0m\u001b[0;34m\u001b[0m\u001b[0;34m\u001b[0m\u001b[0m\n\u001b[0m\u001b[1;32m   1502\u001b[0m         \u001b[0;31m# Do not call functions when jit is used\u001b[0m\u001b[0;34m\u001b[0m\u001b[0;34m\u001b[0m\u001b[0m\n\u001b[1;32m   1503\u001b[0m         \u001b[0mfull_backward_hooks\u001b[0m\u001b[0;34m,\u001b[0m \u001b[0mnon_full_backward_hooks\u001b[0m \u001b[0;34m=\u001b[0m \u001b[0;34m[\u001b[0m\u001b[0;34m]\u001b[0m\u001b[0;34m,\u001b[0m \u001b[0;34m[\u001b[0m\u001b[0;34m]\u001b[0m\u001b[0;34m\u001b[0m\u001b[0;34m\u001b[0m\u001b[0m\n",
            "\u001b[0;31mKeyboardInterrupt\u001b[0m: "
          ]
        }
      ],
      "source": [
        "from tqdm import tqdm\n",
        "# generate N prompts\n",
        "prompt_count = 1024\n",
        "\n",
        "average_linear_embedding_scores_per_temp = []\n",
        "average_energy_per_temp = []\n",
        "variance_per_temp = []\n",
        "temperature_range = [i for i in range(4,33)]\n",
        "print(\"temperature_range=\", temperature_range)\n",
        "for temperature in tqdm(temperature_range):\n",
        "  prompt_indexes_arr = []\n",
        "  prompt_str_arr = []\n",
        "  normalized_probability = get_normalized_probability(score,\n",
        "                                                      boltzman_k,\n",
        "                                                      temperature)\n",
        "  sorted_indexes, cumulative_probability = get_cumulative_probability(normalized_probability)\n",
        "\n",
        "  # generate prompt\n",
        "  for i in range(prompt_count):\n",
        "    prompt, prompt_indexes = generate_prompt(positive_phrase_df,\n",
        "                                            sorted_indexes,\n",
        "                                            cumulative_probability)\n",
        "    prompt_indexes_arr.append(prompt_indexes)\n",
        "    prompt_str_arr.append(prompt)\n",
        "\n",
        "  prompt_energies = []\n",
        "  prompt_linear_embedding_scores = []\n",
        "  for i in range(len(prompt_indexes_arr)):\n",
        "    #Then add up \"score\" for each prompt phrase, to get the total score estimate for whole prompt\n",
        "    prompt_energy = get_prompt_score(score, prompt_indexes_arr[i])\n",
        "    prompt_energies.append(prompt_energy)\n",
        "\n",
        "    # get linear embedding score\n",
        "    linear_embedding_score = get_prompt_linear_embedding_score(text_embedder,\n",
        "                                                               linear_model,\n",
        "                                                               prompt_str_arr[i])\n",
        "    prompt_linear_embedding_scores.append(linear_embedding_score)\n",
        "\n",
        "  average_energy = np.mean(prompt_energies)\n",
        "  variance = get_variance(prompt_energies, average_energy)\n",
        "  average_linear_embedding_score = np.mean(prompt_linear_embedding_scores)\n",
        "  print(\"mean energy = \", average_energy)\n",
        "  print(\"variance = \", variance)\n",
        "  print(\"linear embedding mean score = \", average_linear_embedding_score)\n",
        "\n",
        "  average_energy_per_temp.append(average_energy)\n",
        "  variance_per_temp.append(variance)\n",
        "  average_linear_embedding_scores_per_temp.append(average_linear_embedding_score)\n",
        "\n",
        "pyplot.figure(figsize=(16, 4))\n",
        "# mean energy\n",
        "pyplot.subplot(1, 2, 1)\n",
        "_ = pyplot.plot(average_energy_per_temp, color='red', label='Average Energy', zorder=0)\n",
        "pyplot.title(f'Average Prompt Energy vs Temperature')\n",
        "pyplot.xlabel(\"Temperature\")\n",
        "pyplot.ylabel(\"Average Prompt Energy\")\n",
        "pyplot.xticks([i for i in range(len(temperature_range))], labels=temperature_range)\n",
        "pyplot.xticks(rotation=90)\n",
        "pyplot.legend()\n",
        "\n",
        "# variance\n",
        "pyplot.subplot(1, 2, 2)\n",
        "_ = pyplot.plot(variance_per_temp, color='red', label='Variance', zorder=0)\n",
        "pyplot.title(f'Variance vs Temperature')\n",
        "pyplot.xlabel(\"Temperature\")\n",
        "pyplot.ylabel(\"Variance\")\n",
        "pyplot.xticks([i for i in range(len(temperature_range))], labels=temperature_range)\n",
        "pyplot.xticks(rotation=90)\n",
        "pyplot.legend()\n",
        "\n",
        "# linear embedding mean energy\n",
        "pyplot.subplot(1, 2, 3)\n",
        "_ = pyplot.plot(average_linear_embedding_scores_per_temp, color='red', label='Linear Embedding Average Energy', zorder=0)\n",
        "pyplot.title(f'Linear Embedding Average Prompt Energy vs Temperature')\n",
        "pyplot.xlabel(\"Temperature\")\n",
        "pyplot.ylabel(\"Linear Embedding Average Prompt Energy\")\n",
        "pyplot.xticks([i for i in range(len(temperature_range))], labels=temperature_range)\n",
        "pyplot.xticks(rotation=90)\n",
        "pyplot.legend()"
      ],
      "id": "2SvAqr7OwIEx"
    },
    {
      "cell_type": "markdown",
      "metadata": {
        "id": "1DUOBT3s8_e5"
      },
      "source": [
        "TODO: Max Entropy Sampling\n",
        "- problem: assign probabilites\n",
        "- solution:\n",
        "-- assign probabilites so that that\n",
        "- sum(P(x)*score(x)) = EnergyTarget\n",
        "- and subject to MAX sum(p(x)*ln(P(x)); maximum entropy\n",
        "-- example: choose probabilities so that they average to EnergyTarget\n",
        "\n",
        "Then sample from the probability distribution sequentially\n",
        "\n"
      ],
      "id": "1DUOBT3s8_e5"
    },
    {
      "cell_type": "code",
      "execution_count": null,
      "metadata": {
        "id": "c9dqAuDN-A1D"
      },
      "outputs": [],
      "source": [],
      "id": "c9dqAuDN-A1D"
    }
  ],
  "metadata": {
    "colab": {
      "provenance": []
    },
    "kernelspec": {
      "display_name": "kk",
      "language": "python",
      "name": "kk"
    },
    "language_info": {
      "codemirror_mode": {
        "name": "ipython",
        "version": 3
      },
      "file_extension": ".py",
      "mimetype": "text/x-python",
      "name": "python",
      "nbconvert_exporter": "python",
      "pygments_lexer": "ipython3",
      "version": "3.10.13"
    }
  },
  "nbformat": 4,
  "nbformat_minor": 5
}